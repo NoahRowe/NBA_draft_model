{
 "cells": [
  {
   "cell_type": "code",
   "execution_count": 1,
   "metadata": {},
   "outputs": [],
   "source": [
    "import pandas as pd\n",
    "import numpy as np\n",
    "import io\n",
    "from helper import *"
   ]
  },
  {
   "cell_type": "code",
   "execution_count": 2,
   "metadata": {},
   "outputs": [],
   "source": [
    "# Add the EWA data\n",
    "EWA = pd.read_csv(\"EWA_data.csv\", header=None)[[0, 2, 15]]\n",
    "EWA.columns = [\"Year\", \"Player\", \"EWA\"]\n",
    "EWA.drop([0], axis=0, inplace=True)\n",
    "\n",
    "# Fix player stuff\n",
    "EWA = EWA[pd.isnull(EWA[\"Player\"])==False]\n",
    "EWA = EWA[EWA[\"Player\"]!=\"PLAYER\"]\n",
    "EWA[\"Player\"] = formatNames([name.split(\",\")[0] for name in EWA[\"Player\"]])\n",
    "\n",
    "# Fix year stuff\n",
    "EWA = EWA[EWA[\"Year\"]!=\"Select Year\"]\n",
    "EWA = EWA[[True if \"Regular Season\" in year else False for year in EWA[\"Year\"]]]\n",
    "EWA[\"Year\"] = [year[:4] for year in EWA[\"Year\"]]\n",
    "\n",
    "EWA.reset_index(drop=True, inplace=True)\n",
    "EWA.drop_duplicates(inplace=True)"
   ]
  },
  {
   "cell_type": "code",
   "execution_count": 3,
   "metadata": {},
   "outputs": [],
   "source": [
    "# Add the WS data\n",
    "fileNames = [\"WS/ws\"+str(i)+\".csv\" for i in range(1,11)]\n",
    "wsCols = [\"Player\", \"Year\", \"WS\"]\n",
    "WS = pd.DataFrame(columns=wsCols)\n",
    "for name in fileNames: \n",
    "    data = pd.read_csv(name)\n",
    "    data.rename(columns={\"Text1\":\"Player\", \"Text\":\"Data\"}, inplace=True)\n",
    "    data = data[pd.isnull(data[\"Data\"])==False]\n",
    "    for i in range(len(data)):\n",
    "        row = data.iloc[i]\n",
    "        name = row[\"Player\"]\n",
    "        tempData = pd.read_csv(io.StringIO(data.iloc[i][\"Data\"][80:]), lineterminator='\\n')\n",
    "        tempData = tempData[pd.isnull(tempData[\"Season\"])==False]\n",
    "        WSs = tempData[\"WS\"].values\n",
    "        years = [year[:4] for year in tempData[\"Season\"]]\n",
    "        for ws, year in zip(WSs, years):\n",
    "            if year.isnumeric():\n",
    "                WS = WS.append(pd.Series([name, year, ws], index=wsCols), ignore_index=True)\n",
    "    \n",
    "fileNames = [\"WS/200\"+str(i)+\".csv\" for i in range(0,10)]\n",
    "for name in fileNames: \n",
    "    data = pd.read_csv(name)\n",
    "    data.rename(columns={\"Text\":\"Data\", \"Page_Title\":\"Player\"}, inplace=True)\n",
    "    data = data[pd.isnull(data[\"Data\"])==False]\n",
    "    data = data[pd.isnull(data[\"Player\"])==False]\n",
    "    data[\"Player\"] = [s.replace(\" Stats | Basketball-Reference.com\", \"\") for s in data[\"Player\"]]\n",
    "    for i in range(len(data)):\n",
    "        row = data.iloc[i]\n",
    "        name = row[\"Player\"]\n",
    "        tempData = pd.read_csv(io.StringIO(data.iloc[i][\"Data\"][80:]), lineterminator='\\n')\n",
    "        tempData = tempData[pd.isnull(tempData[\"Season\"])==False]\n",
    "        WSs = tempData[\"WS\"].values\n",
    "        years = [year[:4] for year in tempData[\"Season\"]]\n",
    "        for ws, year in zip(WSs, years):\n",
    "            if year.isnumeric():\n",
    "                WS = WS.append(pd.Series([name, year, ws], index=wsCols), ignore_index=True)\n",
    "    \n",
    "WS.drop_duplicates(inplace=True)\n",
    "WS = WS[pd.isnull(WS[\"Player\"])==False]\n",
    "WS[\"Player\"] = formatNames(WS[\"Player\"])"
   ]
  },
  {
   "cell_type": "code",
   "execution_count": 4,
   "metadata": {},
   "outputs": [
    {
     "name": "stderr",
     "output_type": "stream",
     "text": [
      "/Library/Frameworks/Python.framework/Versions/3.6/lib/python3.6/site-packages/pandas/core/frame.py:4133: SettingWithCopyWarning: \n",
      "A value is trying to be set on a copy of a slice from a DataFrame\n",
      "\n",
      "See the caveats in the documentation: https://pandas.pydata.org/pandas-docs/stable/user_guide/indexing.html#returning-a-view-versus-a-copy\n",
      "  errors=errors,\n",
      "/Library/Frameworks/Python.framework/Versions/3.6/lib/python3.6/site-packages/ipykernel_launcher.py:8: SettingWithCopyWarning: \n",
      "A value is trying to be set on a copy of a slice from a DataFrame.\n",
      "Try using .loc[row_indexer,col_indexer] = value instead\n",
      "\n",
      "See the caveats in the documentation: https://pandas.pydata.org/pandas-docs/stable/user_guide/indexing.html#returning-a-view-versus-a-copy\n",
      "  \n",
      "/Library/Frameworks/Python.framework/Versions/3.6/lib/python3.6/site-packages/ipykernel_launcher.py:9: SettingWithCopyWarning: \n",
      "A value is trying to be set on a copy of a slice from a DataFrame.\n",
      "Try using .loc[row_indexer,col_indexer] = value instead\n",
      "\n",
      "See the caveats in the documentation: https://pandas.pydata.org/pandas-docs/stable/user_guide/indexing.html#returning-a-view-versus-a-copy\n",
      "  if __name__ == '__main__':\n"
     ]
    }
   ],
   "source": [
    "# Finally do it for WP\n",
    "fileNames = [\"WP/WP_{}.csv\".format(2000+i) for i in range(0, 20)]\n",
    "WP_data = [pd.read_csv(filename) for filename in fileNames]\n",
    "for i in range(len(WP_data)):\n",
    "    year = 2000+i\n",
    "    data = WP_data[i][[\"NAME\", \"WP\"]]\n",
    "    data.rename(columns={\"NAME\":\"Player\"}, inplace=True)\n",
    "    data['Year'] = year\n",
    "    data[\"Player\"] = formatNames(data[\"Player\"])\n",
    "    WP_data[i] = data\n",
    "\n",
    "WP = pd.concat(WP_data)"
   ]
  },
  {
   "cell_type": "code",
   "execution_count": 5,
   "metadata": {},
   "outputs": [
    {
     "name": "stderr",
     "output_type": "stream",
     "text": [
      "/Library/Frameworks/Python.framework/Versions/3.6/lib/python3.6/site-packages/pandas/core/indexing.py:670: SettingWithCopyWarning: \n",
      "A value is trying to be set on a copy of a slice from a DataFrame\n",
      "\n",
      "See the caveats in the documentation: https://pandas.pydata.org/pandas-docs/stable/user_guide/indexing.html#returning-a-view-versus-a-copy\n",
      "  self._setitem_with_indexer(indexer, value)\n"
     ]
    }
   ],
   "source": [
    "# Combine this all into one dataset\n",
    "draftData = pd.read_pickle(\"featureData.df\")\n",
    "\n",
    "draftData[\"EWA\"] = np.nan\n",
    "draftData[\"WS\"] = np.nan\n",
    "draftData[\"WP\"] = np.nan\n",
    "draftData['did3years'] = False\n",
    "draftData['didAnyYears'] = False\n",
    "\n",
    "EWA[\"Year\"] = [int(year) for year in EWA[\"Year\"]]\n",
    "EWA[\"EWA\"] = [float(val) for val in EWA[\"EWA\"]]\n",
    "WS[\"Year\"] = [int(year) for year in WS[\"Year\"]]\n",
    "WS[\"EWA\"] = [float(val) for val in WS[\"WS\"]]\n",
    "WP[\"Year\"] = [int(year) for year in WP[\"Year\"]]\n",
    "WP[\"WP\"] = [float(val) for val in WP[\"WP\"]]\n",
    "\n",
    "for i in range(len(draftData)):\n",
    "    player = draftData.iloc[i][\"Player\"]\n",
    "    year = draftData.iloc[i][\"Year\"]\n",
    "    \n",
    "    playerEWA = EWA[EWA[\"Player\"]==player]\n",
    "    playerWS = WS[WS[\"Player\"]==player]\n",
    "    playerWP = WP[WP[\"Player\"]==player]\n",
    "    \n",
    "    playerEWA = playerEWA[playerEWA[\"Year\"] >= year].sort_values(by=\"Year\")\n",
    "    playerWS = playerWS[playerWS[\"Year\"] >= year].sort_values(by=\"Year\")\n",
    "    playerWP = playerWP[playerWP[\"Year\"] >= year].sort_values(by=\"Year\")\n",
    "    \n",
    "#     if len(playerWS)==0: print(player, year)\n",
    "    \n",
    "    if len(playerEWA)>=3: # Take the first three years\n",
    "        draftData[\"EWA\"].iloc[i] = np.mean(playerEWA[\"EWA\"].iloc[:3].values)\n",
    "        draftData[\"did3years\"].iloc[i] = True\n",
    "    else: \n",
    "        draftData[\"EWA\"].iloc[i] = np.mean(playerEWA[\"EWA\"])\n",
    "        draftData[\"did3years\"].iloc[i] = False    \n",
    "        \n",
    "    if len(playerWP)>=3: # Take the first three years\n",
    "        draftData[\"WP\"] = np.mean(playerWP[\"WP\"].iloc[:3].values)\n",
    "        draftData[\"did3years\"] = True\n",
    "    else: \n",
    "        draftData[\"WP\"].iloc[i] = np.mean(playerWP[\"WP\"])\n",
    "        draftData[\"did3years\"].iloc[i] = False\n",
    "        \n",
    "    if len(playerWS)>=3: # Take the first three years\n",
    "        draftData[\"WS\"].iloc[i] = np.mean(playerWS[\"WS\"].iloc[:3].values)\n",
    "        draftData[\"did3years\"].iloc[i] = True\n",
    "    else: \n",
    "        draftData[\"WS\"].iloc[i] = np.mean(playerWS[\"WS\"])\n",
    "        draftData[\"did3years\"].iloc[i] = False\n"
   ]
  },
  {
   "cell_type": "code",
   "execution_count": 6,
   "metadata": {},
   "outputs": [
    {
     "data": {
      "text/plain": [
       "Pk               0\n",
       "Tm               0\n",
       "Player           0\n",
       "Year             0\n",
       "YEAR           375\n",
       "              ... \n",
       "EWA            189\n",
       "WS             171\n",
       "WP               4\n",
       "did3years        0\n",
       "didAnyYears      0\n",
       "Length: 67, dtype: int64"
      ]
     },
     "execution_count": 6,
     "metadata": {},
     "output_type": "execute_result"
    }
   ],
   "source": [
    "draftData.isna().sum()"
   ]
  },
  {
   "cell_type": "code",
   "execution_count": 7,
   "metadata": {},
   "outputs": [],
   "source": [
    "draftData.to_pickle(\"newData.df\")"
   ]
  },
  {
   "cell_type": "code",
   "execution_count": 8,
   "metadata": {},
   "outputs": [
    {
     "data": {
      "text/plain": [
       "Index(['Pk', 'Tm', 'Player', 'Year', 'YEAR', 'POS', 'HEIGHT', 'HEIGHT_W_SHOES',\n",
       "       'REACH', 'WEIGHT', 'WINGSPAN', 'WING_DIFF', 'SHUTTLE_RUN',\n",
       "       'THREE_QUARTER_SPRINT', 'STANDING_VERTICAL', 'MAX_VERTICAL',\n",
       "       'BENCH_PRESS', 'BODY_FAT', 'HAND_LENGTH', 'HAND_WIDTH', 'collegeYear',\n",
       "       'gamesPlayed', 'minutes', 'FT%', '3P%', 'SOS', 'PER', 'eFG%', 'ORB%',\n",
       "       'DRB%', 'AST%', 'TOV%', 'STL%', 'BLK%', 'USG%', 'OWS', 'DWS', 'FTA',\n",
       "       'FGA', 'MP', '3PA', 'PTS', 'PF', 'AST', 'TOV', 'ORtg', 'DRtg',\n",
       "       'MP_per_PF', 'FTA_per_FGA', 'MP_per_3PA', 'PTS_per_FGA', 'AST_per_TOV',\n",
       "       'PPG', 'PPM', 'awards', 'RSCI', 'm1', 'm2', 'm3', 'm4', 'm5', 'm6',\n",
       "       'EWA', 'WS', 'WP', 'did3years', 'didAnyYears'],\n",
       "      dtype='object')"
      ]
     },
     "execution_count": 8,
     "metadata": {},
     "output_type": "execute_result"
    }
   ],
   "source": [
    "draftData.columns"
   ]
  },
  {
   "cell_type": "code",
   "execution_count": null,
   "metadata": {},
   "outputs": [],
   "source": []
  }
 ],
 "metadata": {
  "kernelspec": {
   "display_name": "Python 3",
   "language": "python",
   "name": "python3"
  },
  "language_info": {
   "codemirror_mode": {
    "name": "ipython",
    "version": 3
   },
   "file_extension": ".py",
   "mimetype": "text/x-python",
   "name": "python",
   "nbconvert_exporter": "python",
   "pygments_lexer": "ipython3",
   "version": "3.8.8"
  }
 },
 "nbformat": 4,
 "nbformat_minor": 2
}
