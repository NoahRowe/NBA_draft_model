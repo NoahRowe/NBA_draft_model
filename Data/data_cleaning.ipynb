{
 "cells": [
  {
   "cell_type": "code",
   "execution_count": 4,
   "metadata": {},
   "outputs": [],
   "source": [
    "import numpy as np\n",
    "import pandas as pd\n",
    "\n",
    "# data = pd.read_pickle(\"rawData.df\")\n",
    "data = pd.read_pickle(\"NEWDATA/newData.df\")\n",
    "# HAVE TO MAKE SURE AS MUCH OF THE DATASET IS KEPT TIL HERE AS POSSIBLE FOR IMPUTATION\n",
    "\n",
    "\n",
    "# https://towardsdatascience.com/stop-using-mean-to-fill-missing-data-678c0d396e22"
   ]
  },
  {
   "cell_type": "code",
   "execution_count": 5,
   "metadata": {},
   "outputs": [],
   "source": [
    "# Deal with length values\n",
    "def parse_ht(ht):\n",
    "    # format: 7' 0.0\"\n",
    "    ht_ = ht.split(\"' \")\n",
    "    ft_ = float(ht_[0])\n",
    "    in_ = float(ht_[1].replace(\"\\'\\'\",\"\"))\n",
    "    return (12*ft_) + in_\n",
    "\n",
    "data[\"HEIGHT\"] = [parse_ht(val) if type(val)==str else val for val in data[\"HEIGHT\"]]\n",
    "data[\"HEIGHT_W_SHOES\"] = [parse_ht(val) if type(val)==str else val for val in data[\"HEIGHT_W_SHOES\"]]\n",
    "data[\"REACH\"] = [parse_ht(val) if type(val)==str else val for val in data[\"REACH\"]]\n",
    "data[\"WINGSPAN\"] = [parse_ht(val) if type(val)==str else val for val in data[\"WINGSPAN\"]]"
   ]
  },
  {
   "cell_type": "code",
   "execution_count": 6,
   "metadata": {},
   "outputs": [],
   "source": [
    "# Reformat weird columns\n",
    "data[\"BODY_FAT\"] = [float(val.replace(\"%\", \"\"))/100 if type(val)!=float else val for val in data[\"BODY_FAT\"]]\n",
    "data[\"RSCI\"] = [int(str(val).replace(\"T\", \"\")) if str(val)!=\"nan\" else np.nan for val in data[\"RSCI\"]]\n",
    "data[\"BENCH_PRESS\"] = [int(val) if str(val)!=\"nan\" else val for val in data[\"BENCH_PRESS\"]]\n",
    "\n",
    "if \"age\" in data.columns:\n",
    "    data[\"age\"] = [int(val) if str(val)!=\"nan\" else val for val in data[\"age\"]]\n",
    "    \n",
    "# Switch some datatypes\n",
    "datatypes = {\"SHUTTLE_RUN\":float, \"MAX_VERTICAL\":float, \"WEIGHT\":float, \n",
    "             \"THREE_QUARTER_SPRINT\":float, \n",
    "             \"STANDING_VERTICAL\":float, \"m1\":float, \"m2\":float, \"m3\":float, \"m4\":float, \"m5\":float, \"m6\":float, \n",
    "             \"RSCI\":float, \"MP_per_PF\":float, \"MP_per_3PA\":float}\n",
    "data = data.astype(datatypes)"
   ]
  },
  {
   "cell_type": "code",
   "execution_count": 7,
   "metadata": {},
   "outputs": [
    {
     "name": "stderr",
     "output_type": "stream",
     "text": [
      "/opt/conda/lib/python3.8/site-packages/pandas/core/indexing.py:1637: SettingWithCopyWarning: \n",
      "A value is trying to be set on a copy of a slice from a DataFrame\n",
      "\n",
      "See the caveats in the documentation: https://pandas.pydata.org/pandas-docs/stable/user_guide/indexing.html#returning-a-view-versus-a-copy\n",
      "  self._setitem_single_block(indexer, value, name)\n"
     ]
    }
   ],
   "source": [
    "# Add a variable that says whether they actually did the combine\n",
    "data[\"didCombine\"] = True\n",
    "for i in range(len(data)):\n",
    "    entry = data.iloc[i]\n",
    "    if pd.isnull(entry[\"STANDING_VERTICAL\"]) and pd.isnull(entry[\"SHUTTLE_RUN\"]) and pd.isnull(entry[\"MAX_VERTICAL\"]) and pd.isnull(entry[\"BENCH_PRESS\"]):\n",
    "        data[\"didCombine\"].iloc[i] = False\n"
   ]
  },
  {
   "cell_type": "code",
   "execution_count": 8,
   "metadata": {},
   "outputs": [],
   "source": [
    "# Fill in the missing values using mean imputation\n",
    "# impute_mean_cols = [\"PER\", \"ORtg\", \"DRtg\", \"SHUTTLE_RUN\", \"THREE_QUARTER_SPRINT\", \"STANDING_VERTICAL\", \n",
    "#                     \"MAX_VERTICAL\", \"BENCH_PRESS\", \"BODY_FAT\", \"HAND_LENGTH\", \"HAND_WIDTH\", \"HEIGHT\",\n",
    "#                     \"HEIGHT_W_SHOES\", \"REACH\", \"WEIGHT\", \"WINGSPAN\", \"SOS\", \"OWS\", \"DWS\", \n",
    "#                     \"eFG%\", \"ORB%\", \"DRB%\", \"AST%\", \"TOV%\", \"STL%\", \"BLK%\", \"USG%\", #\"age\",\n",
    "#                    ]\n",
    "\n",
    "# for col in impute_mean_cols:\n",
    "#     data[col] = data.fillna(np.mean(data.loc[data[col].isnull()==False]))[col]"
   ]
  },
  {
   "cell_type": "code",
   "execution_count": 9,
   "metadata": {},
   "outputs": [],
   "source": [
    "# Fill in missing values using MICE regression\n",
    "from sklearn.experimental import enable_iterative_imputer  # noqa\n",
    "from sklearn.impute import IterativeImputer\n",
    "impute_cols = [\"PER\", \"ORtg\", \"DRtg\", \"SHUTTLE_RUN\", \"THREE_QUARTER_SPRINT\", \"STANDING_VERTICAL\", \n",
    "               \"MAX_VERTICAL\", \"BENCH_PRESS\", \"BODY_FAT\", \"HAND_LENGTH\", \"HAND_WIDTH\", \"HEIGHT\",\n",
    "               \"HEIGHT_W_SHOES\", \"REACH\", \"WEIGHT\", \"WINGSPAN\", \"SOS\", \"OWS\", \"DWS\", \n",
    "               \"eFG%\", \"ORB%\", \"DRB%\", \"AST%\", \"TOV%\", \"STL%\", \"BLK%\", \"USG%\", #\"age\",\n",
    "               ]\n",
    "\n",
    "imputer = IterativeImputer(max_iter=100)\n",
    "data[impute_cols] = imputer.fit_transform(data[impute_cols])"
   ]
  },
  {
   "cell_type": "code",
   "execution_count": 10,
   "metadata": {},
   "outputs": [],
   "source": [
    "# Save the impute device\n",
    "import pickle\n",
    "with open('imputer.pkl', 'wb') as f:\n",
    "    pickle.dump(imputer, f)"
   ]
  },
  {
   "cell_type": "code",
   "execution_count": 7,
   "metadata": {},
   "outputs": [],
   "source": [
    "# Constant fill some columns with max values\n",
    "fill_max_cols = [\"m\"+str(i+1) for i in range(6)] + [\"RSCI\", \"MP_per_PF\", \"MP_per_3PA\"]\n",
    "for col in fill_max_cols:\n",
    "    data[col] = data.fillna(np.max(data[col]))[col]\n",
    "    \n",
    "# Constant fill some columns with min values (0 here)\n",
    "fill_zero_cols = [\"3P%\", \"awards\"]\n",
    "for col in fill_zero_cols:\n",
    "    data[col] = data.fillna(0)[col]\n",
    "    \n",
    "data[\"WING_DIFF\"] = [data[\"WINGSPAN\"].iloc[i]-data[\"HEIGHT\"].iloc[i] if pd.isnull(data[\"WING_DIFF\"].iloc[i]) else data[\"WING_DIFF\"].iloc[i] for i in range(len(data))]"
   ]
  },
  {
   "cell_type": "code",
   "execution_count": 8,
   "metadata": {
    "scrolled": true
   },
   "outputs": [
    {
     "name": "stdout",
     "output_type": "stream",
     "text": [
      "Pk 0\n",
      "Tm 0\n",
      "Player 0\n",
      "Year 0\n",
      "YEAR 375\n",
      "POS 375\n",
      "HEIGHT 0\n",
      "HEIGHT_W_SHOES 0\n",
      "REACH 0\n",
      "WEIGHT 0\n",
      "WINGSPAN 0\n",
      "WING_DIFF 0\n",
      "SHUTTLE_RUN 0\n",
      "THREE_QUARTER_SPRINT 0\n",
      "STANDING_VERTICAL 0\n",
      "MAX_VERTICAL 0\n",
      "BENCH_PRESS 0\n",
      "BODY_FAT 0\n",
      "HAND_LENGTH 0\n",
      "HAND_WIDTH 0\n",
      "collegeYear 375\n",
      "gamesPlayed 379\n",
      "minutes 379\n",
      "FT% 379\n",
      "3P% 0\n",
      "SOS 0\n",
      "PER 0\n",
      "eFG% 0\n",
      "ORB% 0\n",
      "DRB% 0\n",
      "AST% 0\n",
      "TOV% 0\n",
      "STL% 0\n",
      "BLK% 0\n",
      "USG% 0\n",
      "OWS 0\n",
      "DWS 0\n",
      "FTA 375\n",
      "FGA 375\n",
      "MP 375\n",
      "3PA 375\n",
      "PTS 375\n",
      "PF 375\n",
      "AST 375\n",
      "TOV 375\n",
      "ORtg 0\n",
      "DRtg 0\n",
      "MP_per_PF 0\n",
      "FTA_per_FGA 375\n",
      "MP_per_3PA 0\n",
      "PTS_per_FGA 375\n",
      "AST_per_TOV 375\n",
      "PPG 375\n",
      "PPM 375\n",
      "awards 0\n",
      "RSCI 0\n",
      "m1 0\n",
      "m2 0\n",
      "m3 0\n",
      "m4 0\n",
      "m5 0\n",
      "m6 0\n",
      "EWA 189\n",
      "WS 171\n",
      "WP 4\n",
      "did3years 0\n",
      "didAnyYears 0\n",
      "didCombine 0\n"
     ]
    }
   ],
   "source": [
    "# Show the remaining missing values\n",
    "for col in data.columns:\n",
    "    print(col, data[col].isnull().sum())"
   ]
  },
  {
   "cell_type": "code",
   "execution_count": 9,
   "metadata": {},
   "outputs": [],
   "source": [
    "# One hot encode the catagory variables\n",
    "data = pd.concat([data, pd.get_dummies(data[\"POS\"])], axis=1)\n",
    "data.drop([\"POS\", \"YEAR\"], axis=1, inplace=True)\n",
    "# Drop the obvious columns that dont have games played - need to be at end to prevent bias\n",
    "saveData = data[pd.isnull(data[\"gamesPlayed\"])==False]\n",
    "saveData.to_pickle(\"final_data1.df\")"
   ]
  },
  {
   "cell_type": "code",
   "execution_count": 10,
   "metadata": {},
   "outputs": [
    {
     "data": {
      "text/plain": [
       "0       23.160000\n",
       "1       14.555556\n",
       "2       16.827586\n",
       "3       16.342857\n",
       "4       16.694444\n",
       "          ...    \n",
       "1056    12.500000\n",
       "1060    11.937500\n",
       "1061    12.103448\n",
       "1064    15.580645\n",
       "1066    14.615385\n",
       "Name: PPG, Length: 691, dtype: float64"
      ]
     },
     "execution_count": 10,
     "metadata": {},
     "output_type": "execute_result"
    }
   ],
   "source": [
    "saveData[\"PPG\"]"
   ]
  },
  {
   "cell_type": "code",
   "execution_count": 11,
   "metadata": {},
   "outputs": [
    {
     "data": {
      "text/plain": [
       "0       0.000000\n",
       "1       3.039779\n",
       "2       6.138098\n",
       "3       7.484422\n",
       "4       4.500000\n",
       "          ...   \n",
       "1065    5.500000\n",
       "1066    4.000000\n",
       "1067    1.250000\n",
       "1068    4.867940\n",
       "1069    4.500000\n",
       "Name: WING_DIFF, Length: 1070, dtype: float64"
      ]
     },
     "execution_count": 11,
     "metadata": {},
     "output_type": "execute_result"
    }
   ],
   "source": [
    "data['WING_DIFF']"
   ]
  },
  {
   "cell_type": "code",
   "execution_count": 12,
   "metadata": {},
   "outputs": [
    {
     "data": {
      "text/plain": [
       "Index(['Pk', 'Tm', 'Player', 'Year', 'HEIGHT', 'HEIGHT_W_SHOES', 'REACH',\n",
       "       'WEIGHT', 'WINGSPAN', 'WING_DIFF', 'SHUTTLE_RUN',\n",
       "       'THREE_QUARTER_SPRINT', 'STANDING_VERTICAL', 'MAX_VERTICAL',\n",
       "       'BENCH_PRESS', 'BODY_FAT', 'HAND_LENGTH', 'HAND_WIDTH', 'collegeYear',\n",
       "       'gamesPlayed', 'minutes', 'FT%', '3P%', 'SOS', 'PER', 'eFG%', 'ORB%',\n",
       "       'DRB%', 'AST%', 'TOV%', 'STL%', 'BLK%', 'USG%', 'OWS', 'DWS', 'FTA',\n",
       "       'FGA', 'MP', '3PA', 'PTS', 'PF', 'AST', 'TOV', 'ORtg', 'DRtg',\n",
       "       'MP_per_PF', 'FTA_per_FGA', 'MP_per_3PA', 'PTS_per_FGA', 'AST_per_TOV',\n",
       "       'PPG', 'PPM', 'awards', 'RSCI', 'm1', 'm2', 'm3', 'm4', 'm5', 'm6',\n",
       "       'EWA', 'WS', 'WP', 'did3years', 'didAnyYears', 'didCombine', 'C', 'F',\n",
       "       'G'],\n",
       "      dtype='object')"
      ]
     },
     "execution_count": 12,
     "metadata": {},
     "output_type": "execute_result"
    }
   ],
   "source": [
    "data.columns"
   ]
  },
  {
   "cell_type": "code",
   "execution_count": null,
   "metadata": {},
   "outputs": [],
   "source": []
  }
 ],
 "metadata": {
  "kernelspec": {
   "display_name": "Python 3",
   "language": "python",
   "name": "python3"
  },
  "language_info": {
   "codemirror_mode": {
    "name": "ipython",
    "version": 3
   },
   "file_extension": ".py",
   "mimetype": "text/x-python",
   "name": "python",
   "nbconvert_exporter": "python",
   "pygments_lexer": "ipython3",
   "version": "3.8.8"
  }
 },
 "nbformat": 4,
 "nbformat_minor": 2
}
