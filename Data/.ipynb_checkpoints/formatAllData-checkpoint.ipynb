{
 "cells": [
  {
   "cell_type": "code",
   "execution_count": 1,
   "metadata": {},
   "outputs": [],
   "source": [
    "import numpy as np\n",
    "import pandas as pd\n",
    "import io\n",
    "from helper import *"
   ]
  },
  {
   "cell_type": "code",
   "execution_count": 2,
   "metadata": {},
   "outputs": [],
   "source": [
    "draft = pd.read_pickle(\"finalDraft.df\")\n",
    "target = pd.read_pickle(\"TargetData/target_data.df\")\n",
    "target = target.astype({\"year\": int, \"EWA\": float, \"WP\":float, \"WS\":float})"
   ]
  },
  {
   "cell_type": "code",
   "execution_count": 3,
   "metadata": {},
   "outputs": [
    {
     "name": "stderr",
     "output_type": "stream",
     "text": [
      "/Library/Frameworks/Python.framework/Versions/3.6/lib/python3.6/site-packages/pandas/core/indexing.py:670: SettingWithCopyWarning: \n",
      "A value is trying to be set on a copy of a slice from a DataFrame\n",
      "\n",
      "See the caveats in the documentation: https://pandas.pydata.org/pandas-docs/stable/user_guide/indexing.html#returning-a-view-versus-a-copy\n",
      "  self._setitem_with_indexer(indexer, value)\n"
     ]
    }
   ],
   "source": [
    "# Take the three year averages of each stat\n",
    "target[\"3EWA\"] = np.nan\n",
    "target[\"3WS\"] = np.nan\n",
    "target[\"3WP\"] = np.nan\n",
    "\n",
    "for i in range(len(target)):\n",
    "    player = target[\"player\"].iloc[i]\n",
    "    current_year = target[\"year\"].iloc[i]\n",
    "    \n",
    "    player_entries = target.loc[target[\"player\"]==player]\n",
    "    player_entries = player_entries.loc[player_entries[\"year\"]>=current_year]\n",
    "    \n",
    "    EWAavg, WSavg, WPavg = 0,0,0\n",
    "    player_entries.sort_values(by=[\"year\"], inplace=True)\n",
    "    if len(player_entries)>=3:\n",
    "        rel_entries = player_entries.iloc[:3, :]\n",
    "        target[\"3EWA\"].iloc[i] = np.sum(rel_entries[\"EWA\"])/3.\n",
    "        target[\"3WS\"].iloc[i] = np.sum(rel_entries[\"WS\"])/3.\n",
    "        target[\"3WP\"].iloc[i] = np.sum(rel_entries[\"WP\"])/3.\n",
    "    elif len(player_entries)>0:\n",
    "        N = len(player_entries)\n",
    "        target[\"3EWA\"].iloc[i] = np.sum(player_entries[\"EWA\"])/N\n",
    "        target[\"3WS\"].iloc[i] = np.sum(player_entries[\"WS\"])/N\n",
    "        target[\"3WP\"].iloc[i] = np.sum(player_entries[\"WP\"])/N\n",
    "    else: \n",
    "        target[\"3EWA\"].iloc[i] = 0\n",
    "        target[\"3WS\"].iloc[i] = 0\n",
    "        target[\"3WP\"].iloc[i] = 0"
   ]
  },
  {
   "cell_type": "code",
   "execution_count": 4,
   "metadata": {},
   "outputs": [
    {
     "name": "stderr",
     "output_type": "stream",
     "text": [
      "/Library/Frameworks/Python.framework/Versions/3.6/lib/python3.6/site-packages/ipykernel_launcher.py:12: SettingWithCopyWarning: \n",
      "A value is trying to be set on a copy of a slice from a DataFrame\n",
      "\n",
      "See the caveats in the documentation: https://pandas.pydata.org/pandas-docs/stable/user_guide/indexing.html#returning-a-view-versus-a-copy\n",
      "  if sys.path[0] == '':\n"
     ]
    }
   ],
   "source": [
    "# Combine the two datasets\n",
    "draft[\"EWA\"] = np.nan\n",
    "draft[\"WS\"] = np.nan\n",
    "draft[\"WP\"] = np.nan\n",
    "\n",
    "for i in range(len(draft)):\n",
    "    player = draft[\"Name\"].iloc[i]\n",
    "    year = draft[\"draftYear\"].iloc[i]\n",
    "    \n",
    "    rel_target = target.loc[target[\"player\"]==player]\n",
    "    if len(rel_target)!=0:\n",
    "        rel_target.sort_values(by=[\"year\"], inplace=True)\n",
    "        draft[\"EWA\"].iloc[i] = rel_target[\"3EWA\"].iloc[0]\n",
    "        draft[\"WS\"].iloc[i] = rel_target[\"3WS\"].iloc[0]\n",
    "        draft[\"WP\"].iloc[i] = rel_target[\"3WP\"].iloc[0]"
   ]
  },
  {
   "cell_type": "code",
   "execution_count": 5,
   "metadata": {},
   "outputs": [],
   "source": [
    "# Save the data\n",
    "draft.to_pickle(\"rawData.df\")"
   ]
  },
  {
   "cell_type": "code",
   "execution_count": 6,
   "metadata": {},
   "outputs": [
    {
     "data": {
      "text/plain": [
       "353"
      ]
     },
     "execution_count": 6,
     "metadata": {},
     "output_type": "execute_result"
    }
   ],
   "source": [
    "len(draft)"
   ]
  },
  {
   "cell_type": "code",
   "execution_count": null,
   "metadata": {},
   "outputs": [],
   "source": []
  }
 ],
 "metadata": {
  "kernelspec": {
   "display_name": "Python 3",
   "language": "python",
   "name": "python3"
  },
  "language_info": {
   "codemirror_mode": {
    "name": "ipython",
    "version": 3
   },
   "file_extension": ".py",
   "mimetype": "text/x-python",
   "name": "python",
   "nbconvert_exporter": "python",
   "pygments_lexer": "ipython3",
   "version": "3.6.5"
  }
 },
 "nbformat": 4,
 "nbformat_minor": 2
}
