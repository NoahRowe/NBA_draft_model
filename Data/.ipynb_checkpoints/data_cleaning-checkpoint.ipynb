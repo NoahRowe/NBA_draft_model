{
 "cells": [
  {
   "cell_type": "code",
   "execution_count": 15,
   "metadata": {},
   "outputs": [],
   "source": [
    "import numpy as np\n",
    "import pandas as pd\n",
    "\n",
    "# data = pd.read_pickle(\"rawData.df\")\n",
    "data = pd.read_pickle(\"NEWDATA/newData.df\")\n",
    "# HAVE TO MAKE SURE AS MUCH OF THE DATASET IS KEPT TIL HERE AS POSSIBLE FOR IMPUTATION\n",
    "data.rename(columns={\"STANDING_VERITCAL\":\"STANDING_VERTICAL\", \n",
    "                     \"HAND L\":\"HAND_LENGTH\", \"HAND W\":\"HAND_WIDTH\"}, inplace=True)"
   ]
  },
  {
   "cell_type": "code",
   "execution_count": 16,
   "metadata": {},
   "outputs": [
    {
     "data": {
      "text/plain": [
       "Index(['Pk', 'Tm', 'Player', 'Year', 'YEAR', 'POS', 'HEIGHT', 'HEIGHT_W_SHOES',\n",
       "       'REACH', 'WEIGHT', 'WINGSPAN', 'WING DIFF', 'SHUTTLE_RUN',\n",
       "       'THREE_QUARTER_SPRINT', 'STANDING_VERTICAL', 'MAX_VERTICAL',\n",
       "       'BENCH_PRESS', 'BODY_FAT', 'HAND_LENGTH', 'HAND_WIDTH', 'collegeYear',\n",
       "       'gamesPlayed', 'minutes', 'FT%', '3P%', 'SOS', 'PER', 'eFG%', 'ORB%',\n",
       "       'DRB%', 'AST%', 'TOV%', 'STL%', 'BLK%', 'USG%', 'OWS', 'DWS', 'FTA',\n",
       "       'FGA', 'MP', '3PA', 'PTS', 'PF', 'ORtg', 'DRtg', 'MP_per_PF',\n",
       "       'FTA_per_FGA', 'MP_per_3PA', 'PTS_per_FGA', 'awards', 'RSCI', 'm1',\n",
       "       'm2', 'm3', 'm4', 'm5', 'm6', 'EWA', 'WS', 'WP', 'did3years',\n",
       "       'didAnyYears'],\n",
       "      dtype='object')"
      ]
     },
     "execution_count": 16,
     "metadata": {},
     "output_type": "execute_result"
    }
   ],
   "source": [
    "data.columns"
   ]
  },
  {
   "cell_type": "code",
   "execution_count": 17,
   "metadata": {},
   "outputs": [],
   "source": [
    "# Reformat the obvious columns\n",
    "data[\"BODY_FAT\"] = [float(val.replace(\"%\", \"\"))/100 if type(val)!=float else val for val in data[\"BODY_FAT\"]]\n",
    "data[\"RSCI\"] = [int(str(val).replace(\"T\", \"\")) if str(val)!=\"nan\" else np.nan for val in data[\"RSCI\"]]\n",
    "\n",
    "def parse_ht(ht):\n",
    "    # format: 7' 0.0\"\n",
    "    ht_ = ht.split(\"' \")\n",
    "    ft_ = float(ht_[0])\n",
    "    in_ = float(ht_[1].replace(\"\\'\\'\",\"\"))\n",
    "    return (12*ft_) + in_\n",
    "\n",
    "data[\"HEIGHT\"] = [parse_ht(val) if type(val)==str else val for val in data[\"HEIGHT\"]]\n",
    "data[\"HEIGHT_W_SHOES\"] = [parse_ht(val) if type(val)==str else val for val in data[\"HEIGHT_W_SHOES\"]]\n",
    "data[\"REACH\"] = [parse_ht(val) if type(val)==str else val for val in data[\"REACH\"]]\n",
    "data[\"WINGSPAN\"] = [parse_ht(val) if type(val)==str else val for val in data[\"WINGSPAN\"]]\n",
    "\n",
    "# data[\"age\"] = [int(val) if str(val)!=\"nan\" else val for val in data[\"age\"]]\n",
    "data[\"BENCH_PRESS\"] = [int(val) if str(val)!=\"nan\" else val for val in data[\"BENCH_PRESS\"]]\n",
    "\n",
    "# Switch some datatypes\n",
    "datatypes = {\"SHUTTLE_RUN\":float, \"MAX_VERTICAL\":float, \"WEIGHT\":float, \n",
    "             \"THREE_QUARTER_SPRINT\":float, \n",
    "             \"STANDING_VERTICAL\":float, \"m1\":float, \"m2\":float, \"m3\":float, \"m4\":float, \"m5\":float, \"m6\":float, \n",
    "             \"RSCI\":float, \"MP_per_PF\":float, \"MP_per_3PA\":float}\n",
    "data = data.astype(datatypes)"
   ]
  },
  {
   "cell_type": "code",
   "execution_count": 18,
   "metadata": {},
   "outputs": [
    {
     "data": {
      "text/plain": [
       "Pk               0\n",
       "Tm               0\n",
       "Player           0\n",
       "Year             0\n",
       "YEAR           375\n",
       "              ... \n",
       "EWA            189\n",
       "WS             171\n",
       "WP               4\n",
       "did3years        0\n",
       "didAnyYears      0\n",
       "Length: 62, dtype: int64"
      ]
     },
     "execution_count": 18,
     "metadata": {},
     "output_type": "execute_result"
    }
   ],
   "source": [
    "data.isnull().sum()"
   ]
  },
  {
   "cell_type": "code",
   "execution_count": 19,
   "metadata": {},
   "outputs": [
    {
     "name": "stderr",
     "output_type": "stream",
     "text": [
      "/Library/Frameworks/Python.framework/Versions/3.6/lib/python3.6/site-packages/pandas/core/indexing.py:670: SettingWithCopyWarning: \n",
      "A value is trying to be set on a copy of a slice from a DataFrame\n",
      "\n",
      "See the caveats in the documentation: https://pandas.pydata.org/pandas-docs/stable/user_guide/indexing.html#returning-a-view-versus-a-copy\n",
      "  self._setitem_with_indexer(indexer, value)\n"
     ]
    }
   ],
   "source": [
    "# Add a value that says whether they actually did the combine\n",
    "data[\"didCombine\"] = True\n",
    "for i in range(len(data)):\n",
    "    entry = data.iloc[i]\n",
    "    if pd.isnull(entry[\"STANDING_VERTICAL\"]) and pd.isnull(entry[\"SHUTTLE_RUN\"]) and pd.isnull(entry[\"MAX_VERTICAL\"]) and pd.isnull(entry[\"BENCH_PRESS\"]):\n",
    "        data[\"didCombine\"].iloc[i] = False\n"
   ]
  },
  {
   "cell_type": "code",
   "execution_count": 20,
   "metadata": {},
   "outputs": [
    {
     "name": "stdout",
     "output_type": "stream",
     "text": [
      "Pk 0\n",
      "Tm 0\n",
      "Player 0\n",
      "Year 0\n",
      "YEAR 375\n",
      "POS 375\n",
      "HEIGHT 0\n",
      "HEIGHT_W_SHOES 0\n",
      "REACH 0\n",
      "WEIGHT 0\n",
      "WINGSPAN 0\n",
      "WING_DIFF 0\n",
      "SHUTTLE_RUN 0\n",
      "THREE_QUARTER_SPRINT 0\n",
      "STANDING_VERTICAL 0\n",
      "MAX_VERTICAL 0\n",
      "BENCH_PRESS 0\n",
      "BODY_FAT 0\n",
      "HAND_LENGTH 0\n",
      "HAND_WIDTH 0\n",
      "collegeYear 375\n",
      "gamesPlayed 379\n",
      "minutes 379\n",
      "FT% 379\n",
      "3P% 0\n",
      "SOS 0\n",
      "PER 0\n",
      "eFG% 0\n",
      "ORB% 0\n",
      "DRB% 0\n",
      "AST% 0\n",
      "TOV% 0\n",
      "STL% 0\n",
      "BLK% 0\n",
      "USG% 0\n",
      "OWS 0\n",
      "DWS 0\n",
      "FTA 375\n",
      "FGA 375\n",
      "MP 375\n",
      "3PA 375\n",
      "PTS 375\n",
      "PF 375\n",
      "ORtg 0\n",
      "DRtg 0\n",
      "MP_per_PF 0\n",
      "FTA_per_FGA 375\n",
      "MP_per_3PA 0\n",
      "PTS_per_FGA 375\n",
      "awards 0\n",
      "RSCI 0\n",
      "m1 0\n",
      "m2 0\n",
      "m3 0\n",
      "m4 0\n",
      "m5 0\n",
      "m6 0\n",
      "EWA 189\n",
      "WS 171\n",
      "WP 4\n",
      "did3years 0\n",
      "didAnyYears 0\n",
      "didCombine 0\n"
     ]
    }
   ],
   "source": [
    "# Fill in some missing values\n",
    "impute_mean_cols = [\"PER\", \"ORtg\", \"DRtg\", \"SHUTTLE_RUN\", \"THREE_QUARTER_SPRINT\", \"STANDING_VERTICAL\", \n",
    "                    \"MAX_VERTICAL\", \"BENCH_PRESS\", \"BODY_FAT\", \"HAND_LENGTH\", \"HAND_WIDTH\", \"HEIGHT\",\n",
    "                    \"HEIGHT_W_SHOES\", \"REACH\", \"WEIGHT\", \"WINGSPAN\", \"SOS\", #\"age\", \n",
    "                    \"OWS\", \"DWS\", \n",
    "                    \"eFG%\", \"ORB%\", \"DRB%\", \"AST%\", \"TOV%\", \"STL%\", \"BLK%\", \"USG%\"]\n",
    "\n",
    "for col in impute_mean_cols:\n",
    "    data[col] = data.fillna(np.mean(data.loc[data[col].isnull()==False]))[col]\n",
    "\n",
    "fill_max_cols = [\"m\"+str(i+1) for i in range(6)] + [\"RSCI\", \"MP_per_PF\", \"MP_per_3PA\"]\n",
    "for col in fill_max_cols:\n",
    "    data[col] = data.fillna(np.max(data[col]))[col]\n",
    "    \n",
    "fill_zero_cols = [\"3P%\", \"awards\"]\n",
    "for col in fill_zero_cols:\n",
    "    data[col] = data.fillna(0)[col]\n",
    "    \n",
    "data.rename(columns={\"WING DIFF\":\"WING_DIFF\"}, inplace=True)\n",
    "data[\"WING_DIFF\"] = [data[\"WINGSPAN\"].iloc[i]-data[\"HEIGHT\"].iloc[i] if pd.isnull(data[\"WING_DIFF\"].iloc[i]) else data[\"WING_DIFF\"].iloc[i] for i in range(len(data))]\n",
    "    \n",
    "for col in data.columns:\n",
    "    print(col, data[col].isnull().sum())"
   ]
  },
  {
   "cell_type": "code",
   "execution_count": 21,
   "metadata": {},
   "outputs": [],
   "source": [
    "# ONE HOT ENCODE POSISTIONS\n",
    "data = pd.concat([data, pd.get_dummies(data[\"POS\"])], axis=1)\n",
    "data.drop([\"POS\", \"YEAR\"], axis=1, inplace=True)\n",
    "\n",
    "# DROP COLUMNS THAT DONT HAVE GAME DATA - INTERNATIONAL PLAYERS\n",
    "saveData = data[pd.isnull(data[\"gamesPlayed\"])==False]"
   ]
  },
  {
   "cell_type": "code",
   "execution_count": 22,
   "metadata": {},
   "outputs": [],
   "source": [
    "saveData.to_pickle(\"final_data1.df\")"
   ]
  },
  {
   "cell_type": "code",
   "execution_count": 9,
   "metadata": {},
   "outputs": [
    {
     "name": "stdout",
     "output_type": "stream",
     "text": [
      "691 671\n"
     ]
    }
   ],
   "source": [
    "print(len(saveData), len(saveData[~saveData[\"EWA\"].isnull()]))"
   ]
  },
  {
   "cell_type": "code",
   "execution_count": 10,
   "metadata": {},
   "outputs": [
    {
     "data": {
      "text/plain": [
       "array([False])"
      ]
     },
     "execution_count": 10,
     "metadata": {},
     "output_type": "execute_result"
    }
   ],
   "source": [
    "np.unique(data[\"didAnyYears\"])"
   ]
  },
  {
   "cell_type": "code",
   "execution_count": 11,
   "metadata": {},
   "outputs": [
    {
     "name": "stdout",
     "output_type": "stream",
     "text": [
      "Pk 0\n",
      "Tm 0\n",
      "Player 0\n",
      "Year 0\n",
      "HEIGHT 0\n",
      "HEIGHT_W_SHOES 0\n",
      "REACH 0\n",
      "WEIGHT 0\n",
      "WINGSPAN 0\n",
      "WING_DIFF 0\n",
      "SHUTTLE_RUN 0\n",
      "THREE_QUARTER_SPRINT 0\n",
      "STANDING_VERTICAL 0\n",
      "MAX_VERTICAL 0\n",
      "BENCH_PRESS 0\n",
      "BODY_FAT 0\n",
      "HAND_LENGTH 0\n",
      "HAND_WIDTH 0\n",
      "collegeYear 0\n",
      "gamesPlayed 0\n",
      "minutes 0\n",
      "FT% 0\n",
      "3P% 0\n",
      "SOS 0\n",
      "PER 0\n",
      "eFG% 0\n",
      "ORB% 0\n",
      "DRB% 0\n",
      "AST% 0\n",
      "TOV% 0\n",
      "STL% 0\n",
      "BLK% 0\n",
      "USG% 0\n",
      "OWS 0\n",
      "DWS 0\n",
      "FTA 0\n",
      "FGA 0\n",
      "MP 0\n",
      "3PA 0\n",
      "PTS 0\n",
      "PF 0\n",
      "ORtg 0\n",
      "DRtg 0\n",
      "MP_per_PF 0\n",
      "FTA_per_FGA 0\n",
      "MP_per_3PA 0\n",
      "PTS_per_FGA 0\n",
      "awards 0\n",
      "RSCI 0\n",
      "m1 0\n",
      "m2 0\n",
      "m3 0\n",
      "m4 0\n",
      "m5 0\n",
      "m6 0\n",
      "EWA 20\n",
      "WS 10\n",
      "WP 0\n",
      "did3years 0\n",
      "didAnyYears 0\n",
      "didCombine 0\n",
      "C 0\n",
      "F 0\n",
      "G 0\n"
     ]
    },
    {
     "ename": "IndexError",
     "evalue": "index 64 is out of bounds for axis 0 with size 64",
     "output_type": "error",
     "traceback": [
      "\u001b[0;31m---------------------------------------------------------------------------\u001b[0m",
      "\u001b[0;31mIndexError\u001b[0m                                Traceback (most recent call last)",
      "\u001b[0;32m<ipython-input-11-71fb9ecf6e56>\u001b[0m in \u001b[0;36m<module>\u001b[0;34m\u001b[0m\n\u001b[1;32m      1\u001b[0m \u001b[0;32mfor\u001b[0m \u001b[0mi\u001b[0m \u001b[0;32min\u001b[0m \u001b[0mrange\u001b[0m\u001b[0;34m(\u001b[0m\u001b[0mlen\u001b[0m\u001b[0;34m(\u001b[0m\u001b[0mdata\u001b[0m\u001b[0;34m)\u001b[0m\u001b[0;34m)\u001b[0m\u001b[0;34m:\u001b[0m\u001b[0;34m\u001b[0m\u001b[0m\n\u001b[0;32m----> 2\u001b[0;31m     \u001b[0mprint\u001b[0m\u001b[0;34m(\u001b[0m\u001b[0msaveData\u001b[0m\u001b[0;34m.\u001b[0m\u001b[0mcolumns\u001b[0m\u001b[0;34m[\u001b[0m\u001b[0mi\u001b[0m\u001b[0;34m]\u001b[0m\u001b[0;34m,\u001b[0m \u001b[0msaveData\u001b[0m\u001b[0;34m.\u001b[0m\u001b[0misnull\u001b[0m\u001b[0;34m(\u001b[0m\u001b[0;34m)\u001b[0m\u001b[0;34m.\u001b[0m\u001b[0msum\u001b[0m\u001b[0;34m(\u001b[0m\u001b[0;34m)\u001b[0m\u001b[0;34m[\u001b[0m\u001b[0mi\u001b[0m\u001b[0;34m]\u001b[0m\u001b[0;34m)\u001b[0m\u001b[0;34m\u001b[0m\u001b[0m\n\u001b[0m",
      "\u001b[0;32m/Library/Frameworks/Python.framework/Versions/3.6/lib/python3.6/site-packages/pandas/core/indexes/base.py\u001b[0m in \u001b[0;36m__getitem__\u001b[0;34m(self, key)\u001b[0m\n\u001b[1;32m   3928\u001b[0m         \u001b[0;32mif\u001b[0m \u001b[0mis_scalar\u001b[0m\u001b[0;34m(\u001b[0m\u001b[0mkey\u001b[0m\u001b[0;34m)\u001b[0m\u001b[0;34m:\u001b[0m\u001b[0;34m\u001b[0m\u001b[0m\n\u001b[1;32m   3929\u001b[0m             \u001b[0mkey\u001b[0m \u001b[0;34m=\u001b[0m \u001b[0mcom\u001b[0m\u001b[0;34m.\u001b[0m\u001b[0mcast_scalar_indexer\u001b[0m\u001b[0;34m(\u001b[0m\u001b[0mkey\u001b[0m\u001b[0;34m)\u001b[0m\u001b[0;34m\u001b[0m\u001b[0m\n\u001b[0;32m-> 3930\u001b[0;31m             \u001b[0;32mreturn\u001b[0m \u001b[0mgetitem\u001b[0m\u001b[0;34m(\u001b[0m\u001b[0mkey\u001b[0m\u001b[0;34m)\u001b[0m\u001b[0;34m\u001b[0m\u001b[0m\n\u001b[0m\u001b[1;32m   3931\u001b[0m \u001b[0;34m\u001b[0m\u001b[0m\n\u001b[1;32m   3932\u001b[0m         \u001b[0;32mif\u001b[0m \u001b[0misinstance\u001b[0m\u001b[0;34m(\u001b[0m\u001b[0mkey\u001b[0m\u001b[0;34m,\u001b[0m \u001b[0mslice\u001b[0m\u001b[0;34m)\u001b[0m\u001b[0;34m:\u001b[0m\u001b[0;34m\u001b[0m\u001b[0m\n",
      "\u001b[0;31mIndexError\u001b[0m: index 64 is out of bounds for axis 0 with size 64"
     ]
    }
   ],
   "source": [
    "for i in range(len(data)):\n",
    "    print(saveData.columns[i], saveData.isnull().sum()[i])"
   ]
  },
  {
   "cell_type": "code",
   "execution_count": null,
   "metadata": {},
   "outputs": [],
   "source": []
  },
  {
   "cell_type": "code",
   "execution_count": null,
   "metadata": {},
   "outputs": [],
   "source": []
  }
 ],
 "metadata": {
  "kernelspec": {
   "display_name": "Python 3",
   "language": "python",
   "name": "python3"
  },
  "language_info": {
   "codemirror_mode": {
    "name": "ipython",
    "version": 3
   },
   "file_extension": ".py",
   "mimetype": "text/x-python",
   "name": "python",
   "nbconvert_exporter": "python",
   "pygments_lexer": "ipython3",
   "version": "3.6.5"
  }
 },
 "nbformat": 4,
 "nbformat_minor": 2
}
