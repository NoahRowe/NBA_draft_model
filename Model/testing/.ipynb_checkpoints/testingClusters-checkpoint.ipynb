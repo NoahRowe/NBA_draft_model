{
 "cells": [
  {
   "cell_type": "code",
   "execution_count": 42,
   "metadata": {},
   "outputs": [],
   "source": [
    "import pandas as pd\n",
    "import numpy as np\n",
    "import matplotlib.pyplot as plt"
   ]
  },
  {
   "cell_type": "code",
   "execution_count": 77,
   "metadata": {},
   "outputs": [],
   "source": [
    "# Get NBA data\n",
    "playerData = pd.read_csv('NBAPlayerData/Players.csv')\n",
    "playerStats = pd.read_csv('NBAPlayerData/Seasons_Stats.csv')\n",
    "\n",
    "# Get the players that play since 2000\n",
    "playerStats = playerStats[playerStats['Year']>=2000]\n",
    "# Only look at players who have played more than 20 games\n",
    "playerStats = playerStats[playerStats[\"G\"]>30]\n",
    "playerData = playerData[playerData['Player'].isin(playerStats['Player'])]\n",
    "\n",
    "# Merge the datasets\n",
    "playerStats = playerStats.merge(playerData, on=\"Player\")\n",
    "\n",
    "# Make some of the columns we need\n",
    "playerStats['PPG'] = playerStats['PTS']/playerStats['G']\n",
    "playerStats['PPM'] = playerStats['PTS']/playerStats['MP']\n",
    "playerStats['AST_per_TOV'] = [playerStats['AST'].iloc[i]/playerStats['TOV'].iloc[i] if playerStats['TOV'].iloc[i]!=0 else np.nan for i in range(len(playerStats))]\n",
    "playerStats['MP_per_PF'] = [playerStats[\"PF\"].iloc[i]/playerStats[\"MP\"].iloc[i] if playerStats['MP'].iloc[i]!=0 else np.nan for i in range(len(playerStats))]\n",
    "playerStats['FTA_per_FGA'] = [playerStats[\"FTA\"].iloc[i]/playerStats[\"FGA\"].iloc[i] if playerStats['FGA'].iloc[i]!=0 else np.nan for i in range(len(playerStats))]\n",
    "playerStats['MP_per_3PA'] = [playerStats[\"MP\"].iloc[i]/playerStats[\"3PA\"].iloc[i] if playerStats['3PA'].iloc[i]!=0 else np.nan for i in range(len(playerStats))]\n",
    "playerStats['PTS_per_FGA'] = [playerStats[\"PTS\"].iloc[i]/playerStats[\"FGA\"].iloc[i] if playerStats['FGA'].iloc[i]!=0 else np.nan for i in range(len(playerStats))]\n",
    "\n",
    "# Rename some columns\n",
    "playerStats.rename(columns={\"weight\":\"WEIGHT\", \"height\":\"HEIGHT\"}, inplace=True)\n",
    "\n",
    "# Create the position columns\n",
    "playerStats[\"G\"] = [1 if \"G\" in playerStats['Pos'].iloc[i] else 0 for i in range(len(playerStats))]\n",
    "playerStats[\"F\"] = [1 if \"F\" in playerStats['Pos'].iloc[i] else 0 for i in range(len(playerStats))]\n",
    "playerStats[\"C\"] = [1 if \"C\" in playerStats['Pos'].iloc[i] else 0 for i in range(len(playerStats))]\n",
    "\n",
    "# Fill in missing values\n",
    "playerStats[\"3P%\"] = playerStats['3P%'].fillna(0)\n",
    "playerStats[\"FT%\"] = playerStats['3P%'].fillna(0)\n",
    "impute_mean_cols = ['AST_per_TOV', 'MP_per_PF', 'FTA_per_FGA', 'MP_per_3PA', 'PTS_per_FGA']\n",
    "# for col in impute_mean_cols:\n",
    "#     playerStats[col] = playerStats.fillna(np.mean(playerStats.loc[playerStats[col].isnull()==False]))[col]"
   ]
  },
  {
   "cell_type": "code",
   "execution_count": 78,
   "metadata": {},
   "outputs": [],
   "source": [
    "# Define the columns we want to cluster on \n",
    "simCols = ['FT%', '3P%', 'eFG%', 'ORB%', 'DRB%', 'AST%', 'TOV%', 'STL%', 'BLK%', 'USG%', 'OWS', 'DWS', 'FTA',\n",
    "              '3PA', 'PTS', 'PF', 'MP_per_PF', 'FTA_per_FGA', 'MP_per_3PA', 'PTS_per_FGA',\n",
    "              'C', 'F', 'G', 'PPM', 'PPG', 'HEIGHT', 'WEIGHT']"
   ]
  },
  {
   "cell_type": "code",
   "execution_count": 79,
   "metadata": {},
   "outputs": [],
   "source": [
    "# Standard scale everything\n",
    "from sklearn.preprocessing import StandardScaler\n",
    "scaledData = playerStats.copy()\n",
    "scaler = StandardScaler()\n",
    "scaledData[simCols] = scaler.fit_transform(scaledData[simCols])"
   ]
  },
  {
   "cell_type": "code",
   "execution_count": 71,
   "metadata": {},
   "outputs": [
    {
     "name": "stdout",
     "output_type": "stream",
     "text": [
      "FT% 0\n",
      "3P% 0\n",
      "eFG% 0\n",
      "ORB% 0\n",
      "DRB% 0\n",
      "AST% 0\n",
      "TOV% 0\n",
      "STL% 0\n",
      "BLK% 0\n",
      "USG% 0\n",
      "OWS 0\n",
      "DWS 0\n",
      "FTA 0\n",
      "3PA 0\n",
      "PTS 0\n",
      "PF 0\n",
      "MP_per_PF 0\n",
      "FTA_per_FGA 0\n",
      "MP_per_3PA 0\n",
      "PTS_per_FGA 0\n",
      "C 0\n",
      "F 0\n",
      "G 0\n",
      "PPM 0\n",
      "PPG 0\n",
      "HEIGHT 0\n",
      "WEIGHT 0\n"
     ]
    }
   ],
   "source": [
    "# START THE CLUSTERING !!!!"
   ]
  },
  {
   "cell_type": "code",
   "execution_count": 72,
   "metadata": {},
   "outputs": [
    {
     "data": {
      "text/plain": [
       "Unnamed: 0_x                 24690\n",
       "Year                          2017\n",
       "Player          Zydrunas Ilgauskas\n",
       "Pos                          SG-SF\n",
       "Age                             41\n",
       "                       ...        \n",
       "FTA_per_FGA                1.30435\n",
       "MP_per_3PA                     inf\n",
       "PTS_per_FGA                2.04867\n",
       "F                                1\n",
       "C                                1\n",
       "Length: 66, dtype: object"
      ]
     },
     "execution_count": 72,
     "metadata": {},
     "output_type": "execute_result"
    }
   ],
   "source": [
    "np.max(playerStats)"
   ]
  },
  {
   "cell_type": "code",
   "execution_count": null,
   "metadata": {},
   "outputs": [],
   "source": []
  }
 ],
 "metadata": {
  "kernelspec": {
   "display_name": "Python 3",
   "language": "python",
   "name": "python3"
  },
  "language_info": {
   "codemirror_mode": {
    "name": "ipython",
    "version": 3
   },
   "file_extension": ".py",
   "mimetype": "text/x-python",
   "name": "python",
   "nbconvert_exporter": "python",
   "pygments_lexer": "ipython3",
   "version": "3.6.5"
  }
 },
 "nbformat": 4,
 "nbformat_minor": 2
}
