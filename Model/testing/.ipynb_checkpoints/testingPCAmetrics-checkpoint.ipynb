{
 "cells": [
  {
   "cell_type": "code",
   "execution_count": 22,
   "metadata": {},
   "outputs": [],
   "source": [
    "# WHAT DO WE WANT FROM THIS NOTEBOOK:\n",
    "# - See distributions for different metrics\n",
    "# - See averages and deviations for different metrics\n",
    "# - See distributions for different team subsets\n",
    "\n",
    "import pandas as pd\n",
    "import numpy as np\n",
    "import matplotlib.pyplot as plt\n",
    "import seaborn as sns"
   ]
  },
  {
   "cell_type": "code",
   "execution_count": 23,
   "metadata": {},
   "outputs": [],
   "source": [
    "# Get NBA data\n",
    "playerData = pd.read_csv('NBAPlayerData/Players.csv')\n",
    "playerStats = pd.read_csv('NBAPlayerData/Seasons_Stats.csv')\n",
    "\n",
    "playerStats.rename(columns={'G':\"gamesPlayed\"}, inplace=True)\n",
    "\n",
    "# Get the players that play since 2000\n",
    "playerStats = playerStats[playerStats['Year']>=2000]\n",
    "# Only look at players who have played more than 20 games\n",
    "playerStats = playerStats[playerStats[\"gamesPlayed\"]>30]\n",
    "# Only look at players who have played more than minutes\n",
    "playerStats = playerStats[playerStats[\"MP\"]>300]\n",
    "playerData = playerData[playerData['Player'].isin(playerStats['Player'])]\n",
    "\n",
    "# Merge the datasets\n",
    "playerStats = playerStats.merge(playerData, on=\"Player\")\n",
    "\n",
    "# Make some of the columns we need\n",
    "playerStats['PPG'] = playerStats['PTS']/playerStats['gamesPlayed']\n",
    "playerStats['PPM'] = playerStats['PTS']/playerStats['MP']\n",
    "playerStats['AST_per_TOV'] = [playerStats['AST'].iloc[i]/playerStats['TOV'].iloc[i] if playerStats['TOV'].iloc[i]!=0 else np.nan for i in range(len(playerStats))]\n",
    "playerStats['MP_per_PF'] = [playerStats[\"PF\"].iloc[i]/playerStats[\"MP\"].iloc[i] if playerStats['MP'].iloc[i]!=0 else np.nan for i in range(len(playerStats))]\n",
    "playerStats['FTA_per_FGA'] = [playerStats[\"FTA\"].iloc[i]/playerStats[\"FGA\"].iloc[i] if playerStats['FGA'].iloc[i]!=0 else np.nan for i in range(len(playerStats))]\n",
    "playerStats['MP_per_3PA'] = [playerStats[\"MP\"].iloc[i]/playerStats[\"3PA\"].iloc[i] if playerStats['3PA'].iloc[i]!=0 else np.nan for i in range(len(playerStats))]\n",
    "playerStats['PTS_per_FGA'] = [playerStats[\"PTS\"].iloc[i]/playerStats[\"FGA\"].iloc[i] if playerStats['FGA'].iloc[i]!=0 else np.nan for i in range(len(playerStats))]\n",
    "\n",
    "# Rename some columns\n",
    "playerStats.rename(columns={\"weight\":\"WEIGHT\", \"height\":\"HEIGHT\"}, inplace=True)\n",
    "\n",
    "# Fix some team names\n",
    "playerStats.replace(\"NJN\", \"BRK\", inplace=True)\n",
    "playerStats.replace(\"NOH\", \"NOP\", inplace=True)\n",
    "playerStats.replace(\"CHA\", \"CHO\", inplace=True)\n",
    "playerStats.replace(\"CHH\", \"CHO\", inplace=True)\n",
    "playerStats.replace(\"VAN\", \"MEM\", inplace=True)\n",
    "playerStats.replace(\"SEA\", \"OKC\", inplace=True)\n",
    "playerStats.replace(\"NOK\", \"NOP\", inplace=True)\n",
    "\n",
    "# Drop players that got traded that season\n",
    "playerStats = playerStats[playerStats.Tm!='TOT']\n",
    "\n",
    "# Create the position columns\n",
    "playerStats[\"G\"] = [1 if \"G\" in playerStats['Pos'].iloc[i] else 0 for i in range(len(playerStats))]\n",
    "playerStats[\"F\"] = [1 if \"F\" in playerStats['Pos'].iloc[i] else 0 for i in range(len(playerStats))]\n",
    "playerStats[\"C\"] = [1 if \"C\" in playerStats['Pos'].iloc[i] else 0 for i in range(len(playerStats))]\n",
    "\n",
    "# Fill in missing values\n",
    "playerStats[\"3P%\"] = playerStats['3P%'].fillna(0)\n",
    "playerStats[\"FT%\"] = playerStats['FT%'].fillna(0)\n",
    "playerStats[\"MP_per_3PA\"] = playerStats['MP_per_3PA'].fillna(np.mean(playerStats['MP_per_3PA']))\n",
    "impute_mean_cols = ['AST_per_TOV', 'MP_per_PF', 'FTA_per_FGA', 'MP_per_3PA', 'PTS_per_FGA']\n",
    "# for col in impute_mean_cols:\n",
    "#     playerStats[col] = playerStats.fillna(np.mean(playerStats.loc[playerStats[col].isnull()==False]))[col]\n",
    "\n",
    "\n",
    "# GET THE DRAFT DATA\n",
    "data = pd.read_pickle(\"../Data/final_data1.df\")\n",
    "data.replace(\"New Jersey Nets\", \"Brooklyn Nets\", inplace=True)\n",
    "data.replace(\"New Orleans Hornets\", \"New Orleans Pelicans\", inplace=True)\n",
    "data.replace(\"Charlotte Bobcats\", \"Charlotte Hornets\", inplace=True)\n",
    "data.replace(\"LA Clippers\", \"Los Angeles Clippers\", inplace=True)\n",
    "data.replace(\"NJN\", \"BRK\", inplace=True)\n",
    "data.replace(\"NOH\", \"NOP\", inplace=True)\n",
    "data.replace(\"CHA\", \"CHO\", inplace=True)\n",
    "data.replace(\"CHH\", \"CHO\", inplace=True)\n",
    "data.replace(\"VAN\", \"MEM\", inplace=True)\n",
    "data.replace(\"SEA\", \"OKC\", inplace=True)\n",
    "data.replace(\"NOK\", \"NOP\", inplace=True)\n",
    "\n",
    "data.rename(columns={\"Name\":\"Player\", \"Guard\":\"G\", \"Center\":\"C\", \"Forward\":\"F\", \n",
    "                     \"awardCount\":\"awards\", \"mock1\":\"m1\", \"mock2\":\"m2\", \"mock3\":\"m3\", \"mock4\":\"m4\",\n",
    "                     \"mock5\":\"m5\", \"mock6\":\"m6\"}, inplace=True)\n",
    "data = data.drop_duplicates(subset=[\"Player\"])\n",
    "data[\"WM\"] = [(data[\"EWA\"].iloc[i]+data[\"WP\"].iloc[i] + data[\"WS\"].iloc[i])/3. for i in range(len(data))]\n",
    "data.dropna(subset=[\"WM\"], inplace=True)\n",
    "data.reset_index(drop=True, inplace=True)\n",
    "draftData = data.copy()\n",
    "\n",
    "# Make sure all the indexs are legit"
   ]
  },
  {
   "cell_type": "code",
   "execution_count": 24,
   "metadata": {},
   "outputs": [],
   "source": [
    "# Define the columns we want to cluster on \n",
    "simCols = ['FT%', '3P%', 'eFG%', 'ORB%', 'DRB%', 'AST%', 'TOV%', 'STL%', 'BLK%', 'USG%', 'OWS', 'DWS', 'FTA',\n",
    "              '3PA', 'PTS', 'PF', 'MP_per_PF', 'FTA_per_FGA', 'MP_per_3PA', 'PTS_per_FGA',\n",
    "              'C', 'F', 'G', 'PPM', 'PPG', 'HEIGHT', 'WEIGHT']\n",
    "\n",
    "# Standard scale everything\n",
    "from sklearn.preprocessing import StandardScaler\n",
    "scaledData = playerStats.copy()\n",
    "scaler = StandardScaler()\n",
    "scaledData[simCols] = scaler.fit_transform(scaledData[simCols])\n",
    "\n",
    "scaledDraft = draftData.copy()\n",
    "scaler = StandardScaler()\n",
    "scaledDraft[simCols] = scaler.fit_transform(scaledDraft[simCols])"
   ]
  },
  {
   "cell_type": "code",
   "execution_count": 25,
   "metadata": {},
   "outputs": [],
   "source": [
    "# NOW WE WILL TRY PCA AND SEE WHAT HAPPENS\n",
    "from sklearn.decomposition import PCA\n",
    "pca = PCA(n_components=2)\n",
    "NBAdec = pca.fit_transform(scaledData[simCols])\n",
    "pca = PCA(n_components=2)\n",
    "draftDec = pca.fit_transform(scaledDraft[simCols])"
   ]
  },
  {
   "cell_type": "code",
   "execution_count": 58,
   "metadata": {},
   "outputs": [
    {
     "ename": "IndexError",
     "evalue": "index 6235 is out of bounds for axis 0 with size 6162",
     "output_type": "error",
     "traceback": [
      "\u001b[0;31m---------------------------------------------------------------------------\u001b[0m",
      "\u001b[0;31mIndexError\u001b[0m                                Traceback (most recent call last)",
      "\u001b[0;32m<ipython-input-58-a0e9a3c406d3>\u001b[0m in \u001b[0;36m<module>\u001b[0;34m\u001b[0m\n\u001b[1;32m     22\u001b[0m                     \u001b[0;31m# Compute the metric over the team subset\u001b[0m\u001b[0;34m\u001b[0m\u001b[0;34m\u001b[0m\u001b[0m\n\u001b[1;32m     23\u001b[0m                     \u001b[0;32mfor\u001b[0m \u001b[0mteamMate_id\u001b[0m \u001b[0;32min\u001b[0m \u001b[0mteamMate_ids\u001b[0m\u001b[0;34m:\u001b[0m\u001b[0;34m\u001b[0m\u001b[0m\n\u001b[0;32m---> 24\u001b[0;31m                         \u001b[0mteamMate\u001b[0m \u001b[0;34m=\u001b[0m \u001b[0mNBAdec\u001b[0m\u001b[0;34m[\u001b[0m\u001b[0mteamMate_id\u001b[0m\u001b[0;34m]\u001b[0m\u001b[0;34m\u001b[0m\u001b[0m\n\u001b[0m\u001b[1;32m     25\u001b[0m \u001b[0;31m#                         dist = metric(draftee[simCols].to_numpy().reshape(1,-1),\u001b[0m\u001b[0;34m\u001b[0m\u001b[0;34m\u001b[0m\u001b[0m\n\u001b[1;32m     26\u001b[0m \u001b[0;31m#                                       teamMate[simCols].to_numpy().reshape(1,-1)).item()\u001b[0m\u001b[0;34m\u001b[0m\u001b[0;34m\u001b[0m\u001b[0m\n",
      "\u001b[0;31mIndexError\u001b[0m: index 6235 is out of bounds for axis 0 with size 6162"
     ]
    }
   ],
   "source": [
    "# Now we look at some pairs between draft players and teams\n",
    "from sklearn.metrics import pairwise\n",
    "figsize = (6,5)\n",
    "metrics = ['euclidean', \"manhattan\", \"cosine\"]\n",
    "\n",
    "for metric_name in metrics:\n",
    "\n",
    "    metric = pairwise.distance_metrics()[metric_name] # This is a function \n",
    "    distances = np.zeros(len(NBAdec)*len(draftDec))\n",
    "    distanceIndex = 0 \n",
    "    for team in scaledData['Tm'].unique():\n",
    "        for year in scaledData[\"Year\"].unique():\n",
    "            teamYear_ids = scaledData[(scaledData[\"Tm\"]==team) & (scaledData[\"Year\"]==year)].index\n",
    "            if len(teamYear_ids)>1:\n",
    "\n",
    "                # Get a draft player from the same yaer\n",
    "                draft_ids = scaledDraft[scaledDraft[\"Year\"]==year].index\n",
    "                for i in range(len(draft_ids)):\n",
    "                    draftee = draftDec[draft_ids[i]]\n",
    "                    teamMate_ids = teamYear_ids # COMPUTE IT OVER EVERYONE ON THE TEAM\n",
    "\n",
    "                    # Compute the metric over the team subset\n",
    "                    for teamMate_id in teamMate_ids:\n",
    "                        teamMate = NBAdec[teamMate_id]\n",
    "#                         dist = metric(draftee[simCols].to_numpy().reshape(1,-1),\n",
    "#                                       teamMate[simCols].to_numpy().reshape(1,-1)).item()\n",
    "                        dist = metric(draftee.reshape(1,-1), teamMate.reshape(1,-1))\n",
    "                        distances[distanceIndex] = dist\n",
    "                        distanceIndex += 1\n",
    "        \n",
    "        print(metric_name, team)\n",
    "        \n",
    "    # Normalize the results\n",
    "    print(\"Normalizing ...\")\n",
    "    maxDist = np.max(distance)\n",
    "    distance = [i/maxDist for i in distance]\n",
    "    \n",
    "    # PLOT ALL OF THE STUFF FOR EACH METRIC\n",
    "    \n",
    "    # Plot the distance means\n",
    "    plt.figure(figsize=figsize)\n",
    "    plt.bar(0, np.mean(distance))\n",
    "    plt.xlabel(\"Label\")\n",
    "    plt.ylabel(\"Averages\")\n",
    "    plt.title(\"{} Averages\".format(metric_name))\n",
    "    plt.show()\n",
    "\n",
    "    # Plot the standard devations\n",
    "    plt.figure(figsize=figsize)\n",
    "    plt.bar(0, np.std(distances))\n",
    "    plt.xlabel(\"Label\")\n",
    "    plt.ylabel(\"Distance Metric STD\")\n",
    "    plt.title(\"{} Standard Deviations\".format(metric_name))\n",
    "    plt.show()\n",
    "\n",
    "    # Plot the distributions\n",
    "    plt.figure(figsize=figsize)\n",
    "    sns.distplot(distances, hist=False, kde=True, kde_kws={'shade':True, 'linewidth':3}, label=\"0\")\n",
    "    plt.grid()\n",
    "    plt.title(\"{} Normalized Distributions\".format(metric_name))\n",
    "    plt.show()"
   ]
  },
  {
   "cell_type": "code",
   "execution_count": 57,
   "metadata": {},
   "outputs": [
    {
     "data": {
      "text/plain": [
       "660"
      ]
     },
     "execution_count": 57,
     "metadata": {},
     "output_type": "execute_result"
    }
   ],
   "source": [
    "len(draftDec)"
   ]
  },
  {
   "cell_type": "code",
   "execution_count": 42,
   "metadata": {},
   "outputs": [
    {
     "data": {
      "text/plain": [
       "array([1, 2])"
      ]
     },
     "execution_count": 42,
     "metadata": {},
     "output_type": "execute_result"
    }
   ],
   "source": [
    "playerStats.iloc[:2].index.values[0]"
   ]
  },
  {
   "cell_type": "code",
   "execution_count": 52,
   "metadata": {},
   "outputs": [
    {
     "data": {
      "text/plain": [
       "Pk                        2\n",
       "Tm                      MEM\n",
       "Player        stromileswift\n",
       "Year                   2000\n",
       "HEIGHT            0.0172724\n",
       "                  ...      \n",
       "didCombine            False\n",
       "C                 -0.593683\n",
       "F                 -0.746059\n",
       "G                  -0.50473\n",
       "WM                      1.7\n",
       "Name: 634, Length: 70, dtype: object"
      ]
     },
     "execution_count": 52,
     "metadata": {},
     "output_type": "execute_result"
    }
   ],
   "source": [
    "scaledDraft.loc[634]"
   ]
  },
  {
   "cell_type": "code",
   "execution_count": null,
   "metadata": {},
   "outputs": [],
   "source": []
  }
 ],
 "metadata": {
  "kernelspec": {
   "display_name": "Python 3",
   "language": "python",
   "name": "python3"
  },
  "language_info": {
   "codemirror_mode": {
    "name": "ipython",
    "version": 3
   },
   "file_extension": ".py",
   "mimetype": "text/x-python",
   "name": "python",
   "nbconvert_exporter": "python",
   "pygments_lexer": "ipython3",
   "version": "3.6.5"
  }
 },
 "nbformat": 4,
 "nbformat_minor": 2
}
