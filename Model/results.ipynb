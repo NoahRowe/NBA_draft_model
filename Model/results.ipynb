{
 "cells": [
  {
   "cell_type": "code",
   "execution_count": 2,
   "metadata": {},
   "outputs": [],
   "source": [
    "import numpy as np\n",
    "import matplotlib.pyplot as plt"
   ]
  },
  {
   "cell_type": "code",
   "execution_count": 3,
   "metadata": {},
   "outputs": [],
   "source": [
    "# Neural network stuff\n",
    "OS_vals = [1, 2, 3, 6, 10]\n",
    "NN_results = []\n",
    "for val in OS_vals:\n",
    "    path = \"NN_results/standard_3_euclidean_10_standard_0_0_{}_0.npy\".format(val)\n",
    "    NN_results.append(np.load(path, allow_pickle=True).tolist())"
   ]
  },
  {
   "cell_type": "code",
   "execution_count": 4,
   "metadata": {},
   "outputs": [
    {
     "data": {
      "text/plain": [
       "[<matplotlib.lines.Line2D at 0x7fcdccc13970>]"
      ]
     },
     "execution_count": 4,
     "metadata": {},
     "output_type": "execute_result"
    },
    {
     "data": {
      "image/png": "[encoded data removed]",
      "text/plain": [
       "<Figure size 432x288 with 1 Axes>"
      ]
     },
     "metadata": {
      "needs_background": "light"
     },
     "output_type": "display_data"
    }
   ],
   "source": [
    "### MEAN SQUARED ERROR STUFF\n",
    "MSEs = [val[\"MSE\"] for val in NN_results]\n",
    "added_wins = [val[\"added_wins_per_team\"] for val in NN_results]\n",
    "new_wins = [val[\"new_added_wins\"] for val in NN_results]\n",
    "\n",
    "plt.plot(OS_vals, MSEs)\n",
    "plt.xlabel(\"Oversampling Value\")\n",
    "plt.ylabel(\"Mean Squared Error\")\n",
    "plt.grid()"
   ]
  },
  {
   "cell_type": "code",
   "execution_count": 8,
   "metadata": {},
   "outputs": [
    {
     "data": {
      "text/plain": [
       "52"
      ]
     },
     "execution_count": 8,
     "metadata": {},
     "output_type": "execute_result"
    }
   ],
   "source": [
    "len(NN_results[0]['new_added_wins'])"
   ]
  },
  {
   "cell_type": "code",
   "execution_count": 12,
   "metadata": {},
   "outputs": [],
   "source": [
    "a = np.load(\"teamFeatures_1.npy\", allow_pickle=True).tolist()"
   ]
  },
  {
   "cell_type": "code",
   "execution_count": 15,
   "metadata": {},
   "outputs": [
    {
     "data": {
      "text/plain": [
       "dict_keys(['markellefultz', 'lonzoball', 'jaysontatum', 'joshjackson', 'deaaronfox', 'jonathanisaac', 'laurimarkkanen', 'dennissmith', 'zachcollins', 'malikmonk', 'lukekennard', 'donovanmitchell', 'bamadebayo', 'justinpatton', 'djwilson', 'tjleaf', 'johncollins', 'harrygiles', 'jarrettallen', 'oganunoby', 'tylerlydon', 'calebswanigan', 'kylekuzma', 'tonybradley', 'derrickwhite', 'joshhart', 'frankjackson', 'davonreed', 'frankmason', 'ivanrabb', 'jonahbolden', 'semiojeleye', 'jordanbell', 'jawunevans', 'dwaynebacon', 'tylerdorsey', 'thomasbryant', 'damyeandotson', 'dillonbrooks', 'sterlingbrown', 'ikeanigbogu', 'sindariusthornwell', 'montemorris', 'kadeemallen', 'alecpeters', 'nigelwilliamsgoss', 'jabaribird', 'jaronblossomgame', 'bensimmons', 'brandoningram', 'krisdunn', 'buddyhield', 'jamalmurray', 'marquesechriss', 'domantassabonis', 'denzelvalentine', 'henryellenson', 'malikbeasley', 'carislevert', 'deandrebembry', 'malachirichardson', 'bricejohnson', 'pascalsiakam', 'skallabissiere', 'dejountemurray', 'damianjones', 'deyontadavis', 'cheickdiallo', 'tylerulis', 'malcolmbrogdon', 'chinanuonuaku', 'patrickmccaw', 'diamondstone', 'stephenzimmerman', 'isaiahwhitehead', 'demetriusjackson', 'ajhammons', 'jakelayman', 'michaelgbinije', 'georgesniang', 'benbentil', 'joelbolomboy', 'kayfelder', 'marcuspaige', 'danielhamilton', 'abdelnader', 'tyronewallace', 'karlanthonytowns', 'dangelorussell', 'jahlilokafor', 'williecauleystein', 'stanleyjohnson', 'frankkaminsky', 'justisewinslow', 'mylesturner', 'treylyles', 'devinbooker', 'cameronpayne', 'kellyoubre', 'terryrozier', 'rashadvaughn', 'samdekker', 'jeriangrant', 'delonwright', 'justinanderson', 'bobbyportis', 'rondaehollisjefferson', 'tyusjones', 'jarellmartin', 'larrynance', 'rjhunter', 'chrismccullough', 'kevonlooney', 'montrezlharrell', 'jordanmickey', 'anthonybrown', 'rakeemchristmas', 'richaunholmes', 'darrunhilliard', 'joshrichardson', 'joeyoung', 'andrewharrison', 'marcusthornton', 'dakarijohnson', 'brandendawson', 'andrewwiggins', 'jabariparker', 'joelembiid', 'aarongordon', 'marcussmart', 'juliusrandle', 'nikstauskas', 'noahvonleh', 'elfridpayton', 'dougmcdermott', 'zachlavine', 'tjwarren', 'adreianpayne', 'jamesyoung', 'tylerennis', 'garyharris', 'mitchmcgary', 'jordanadams', 'rodneyhood', 'shabazznapier', 'pjhairston', 'cjwilcox', 'joshhuestis', 'kyleanderson', 'kjmcdaniels', 'joeharris', 'cleanthonyearly', 'jarnellstokes', 'johnnyobryant', 'spencerdinwiddie', 'jeramigrant', 'glennrobinson', 'markelbrown', 'dwightpowell', 'jordanclarkson', 'russsmith', 'lamarpatterson', 'cameronbairstow', 'semajchriston', 'devynmarble', 'jordanmcrae', 'coryjefferson', 'anthonybennett', 'victoroladipo', 'ottoporter', 'codyzeller', 'alexlen', 'nerlensnoel', 'benmclemore', 'kentaviouscaldwellpope', 'treyburke', 'cjmccollum', 'michaelcarterwilliams', 'stevenadams', 'kellyolynyk', 'shabazzmuhammad', 'shanelarkin', 'tonysnell', 'gorguidieng', 'masonplumlee', 'solomonhill', 'timhardaway', 'reggiebullock', 'andreroberson', 'archiegoodwin', 'allencrabbe', 'carrickfelix', 'isaiahcanaan', 'glenrice', 'raymccallum', 'tonymitchell', 'natewolters', 'jeffwithey', 'jamaalfranklin', 'mikemuscala', 'erickgreen', 'ryankelly', 'jamesennis', 'lorenzobrown', 'peytonsiva', 'anthonydavis', 'michaelkiddgilchrist', 'bradleybeal', 'dionwaiters', 'thomasrobinson', 'damianlillard', 'harrisonbarnes', 'terrenceross', 'andredrummond', 'austinrivers', 'meyersleonard', 'jeremylamb', 'kendallmarshall', 'johnhenson', 'mauriceharkless', 'roycewhite', 'tylerzeller', 'terrencejones', 'andrewnicholson', 'jaredsullinger', 'fabmelo', 'johnjenkins', 'jaredcunningham', 'tonywroten', 'milesplumlee', 'arnettmoultrie', 'perryjones', 'marquisteague', 'festusezeli', 'jefferytaylor', 'bernardjames', 'jaecrowder', 'draymondgreen', 'orlandojohnson', 'quincyacy', 'quincymiller', 'khrismiddleton', 'willbarton', 'tyshawntaylor', 'doronlamb', 'mikescott', 'kimenglish', 'justinhamilton', 'dariusmiller', 'kevinmurphy', 'kyleoquinn', 'krisjoseph', 'dariusjohnsonodom', 'robertsacre', 'kyrieirving', 'derrickwilliams', 'tristanthompson', 'brandonknight', 'kembawalker', 'jimmerfredette', 'klaythompson', 'alecburks', 'markieffmorris', 'marcusmorris', 'kawhileonard', 'nikolavucevic', 'imanshumpert', 'chrissingleton', 'tobiasharris', 'nolansmith', 'kennethfaried', 'reggiejackson', 'marshonbrooks', 'jordanhamilton', 'jajuanjohnson', 'norriscole', 'coryjoseph', 'jimmybutler', 'justinharper', 'kylesingler', 'shelvinmack', 'tylerhoneycutt', 'jordanwilliams', 'treythompkins', 'chandlerparsons', 'jonleuer', 'dariusmorris', 'malcolmlee', 'charlesjenkins', 'joshharrellson', 'travisleslie', 'keithbenson', 'joshselby', 'lavoyallen', 'vernonmacklin', 'deandreliggins', 'etwaunmoore', 'isaiahthomas', 'johnwall', 'evanturner', 'derrickfavors', 'wesleyjohnson', 'demarcuscousins', 'ekpeudoh', 'gregmonroe', 'alfarouqaminu', 'gordonhayward', 'paulgeorge', 'colealdrich', 'xavierhenry', 'eddavis', 'patrickpatterson', 'larrysanders', 'lukebabbitt', 'ericbledsoe', 'averybradley', 'jamesanderson', 'craigbrackins', 'elliotwilliams', 'trevorbooker', 'damionjames', 'dominiquejones', 'quincypondexter', 'jordancrawford', 'danielorton', 'lazarhayward', 'dexterpittman', 'hassanwhiteside', 'armonjohnson', 'daringtonhobson', 'andyrautins', 'landryfields', 'lancestephenson', 'jarvisvarnado', 'devinebanks', 'ganilawal', 'solomonalabi', 'lukeharangody', 'williewarren', 'jeremyevans', 'hamadyndiaye', 'ryanreid', 'derrickcaracter', 'blakegriffin', 'hasheemthabeet', 'jamesharden', 'tyrekeevans', 'stephencurry', 'jordanhill', 'demarderozan', 'tylerhansbrough', 'earlclark', 'austindaye', 'jamesjohnson', 'jrueholiday', 'tylawson', 'jeffteague', 'ericmaynor', 'darrencollison', 'byronmullens', 'tajgibson', 'demarrecarroll', 'wayneellington', 'toneydouglas', 'jeffayres', 'jermainetaylor', 'dantecunningham', 'dajuansummers', 'samyoung', 'jonbrockman', 'derrickbrown', 'jodiemeeks', 'patrickbeverley', 'chasebudinger', 'nickcalathes', 'dannygreen', 'taylorgriffin', 'ajprice', 'pattymills', 'lesterhudson', 'derrickrose', 'michaelbeasley', 'ojmayo', 'russellwestbrook', 'kevinlove', 'ericgordon', 'joealexander', 'djaugustin', 'brooklopez', 'jerrydbayless', 'jasonthompson', 'brandonrush', 'anthonyrandolph', 'robinlopez', 'marreesespeights', 'royhibbert', 'javalemcgee', 'ryananderson', 'courtneylee', 'kostakoufos', 'georgehill', 'darrellarthur', 'dontegreene', 'djwhite', 'jrgiddens', 'waltersharpe', 'joeydorsey', 'mariochalmers', 'deandrejordan', 'lucmbahamoute', 'kyleweaver', 'sonnyweems', 'chrisdouglasroberts', 'seansingletary', 'patrickewing', 'henrywalker', 'malikhairston', 'darnelljackson', 'joecrawford', 'gregoden', 'kevindurant', 'alhorford', 'mikeconley', 'jeffgreen', 'coreybrewer', 'brandanwright', 'joakimnoah', 'spencerhawes', 'acielaw', 'thaddeusyoung', 'julianwright', 'rodneystuckey', 'nickyoung', 'seanwilliams', 'javariscrittenton', 'jasonsmith', 'daequancook', 'jareddudley', 'morrisalmond', 'aaronbrooks', 'arronafflalo', 'alandotucker', 'gabepruitt', 'marcuswilliams', 'nickfazekas', 'glendavis', 'jermareodavidson', 'joshmcroberts', 'chrisrichard', 'derrickbyars', 'dominicmcguire', 'aarongray', 'jamesoncurry', 'taureangreen', 'demetrisnichols', 'ramonsessions', 'djstrawberry', 'lamarcusaldridge', 'adammorrison', 'tyrusthomas', 'sheldenwilliams', 'brandonroy', 'randyfoye', 'rudygay', 'patrickobryant', 'jjredick', 'hiltonarmstrong', 'ronniebrewer', 'cedricsimmons', 'rodneycarney', 'shawnewilliams', 'quincydouby', 'renaldobalkman', 'rajonrondo', 'joshboone', 'kylelowry', 'shannonbrown', 'jordanfarmar', 'mauriceager', 'mardycollins', 'jameswhite', 'stevenovak', 'solomonjones', 'pjtucker', 'davidnoel', 'jamesaugustine', 'danielgibson', 'alexanderjohnson', 'deebrown', 'paulmillsap', 'leonpowe', 'ryanhollins', 'guillermodiaz', 'hassanadams', 'willblalock', 'andrewbogut', 'marvinwilliams', 'deronwilliams', 'chrispaul', 'charlievillanueva', 'channingfrye', 'ikediogu', 'rashadmccants', 'antoinewright', 'joeygraham', 'dannygranger', 'hakimwarrick', 'juliushodge', 'naterobinson', 'jarrettjack', 'franciscogarcia', 'lutherhead', 'jasonmaxiell', 'linaskleiza', 'davidlee', 'salimstoudamire', 'danielewing', 'ronnyturiaf', 'travisdiener', 'vonwafer', 'braceywright', 'ryangomes', 'oriengreene', 'dijonthompson', 'alexacker', 'bengordon', 'devinharris', 'joshchildress', 'luoldeng', 'rafaelaraujo', 'andreiguodala', 'lukejackson', 'krishumphries', 'kirksnyder', 'jameernelson', 'tonyallen', 'kevinmartin', 'jacksonvroman', 'lionelchalmers', 'andreemmett', 'antonioburks', 'royalivey', 'chrisduhon', 'justinreed', 'trevorariza', 'mattfreije', 'carmeloanthony', 'chrisbosh', 'dwyanewade', 'chriskaman', 'kirkhinrich', 'tjford', 'jarvishayes', 'nickcollison', 'marcusbanks', 'lukeridnour', 'reecegaines', 'dahntayjones', 'briancook', 'joshhoward', 'jasonkapono', 'lukewalton', 'travishansen', 'williegreen', 'keithbogans', 'mattbonner', 'mowilliams', 'jamesjones', 'kylekorver', 'mikedunleavy', 'drewgooden', 'dajuanwagner', 'chriswilcox', 'caronbutler', 'jaredjeffries', 'melvinely', 'marcushaislip', 'fredjones', 'curtisborchardt', 'ryanhumphrey', 'kareemrush', 'tayshaunprince', 'frankwilliams', 'johnsalmons', 'chrisjefferies', 'rogermason', 'robertarchibald', 'vincentyarbrough', 'dangadzuric', 'titomaddox', 'mattbarnes', 'chrisowens', 'dariussongaila', 'rasualbutler', 'tamarslay', 'jasonrichardson', 'shanebattier', 'eddiegriffin', 'rodneywhite', 'joejohnson', 'richardjefferson', 'troymurphy', 'stevenhunter', 'kirkhaston', 'michaelbradley', 'jasoncollins', 'zachrandolph', 'brendanhaywood', 'jerylsasser', 'brandonarmstrong', 'geraldwallace', 'jamaaltinsley', 'trentonhassell', 'omarcook', 'willsolomon', 'terencemorris', 'brianscalabrine', 'jefftrepagnier', 'damonebrown', 'earlwatson', 'jamisonbrewer', 'bobbysimmons', 'seanlampley', 'lorenwoods', 'kenjohnson', 'rubenboumtjeboumtje', 'altonford', 'jarroncollins', 'kennysatterfield', 'stromileswift', 'mikemiller', 'dermarrjohnson', 'jamalcrawford', 'joelprzybilla', 'keyondooling', 'jeromemoiso', 'etanthomas', 'courtneyalexander', 'jasoncollier', 'desmondmason', 'quentinrichardson', 'jamaalmagloire', 'speedyclaxton', 'morrispeterson', 'donnellharvey', 'mamadoundiaye', 'danlanghi', 'jakevoskuhl', 'eddiehouse', 'eduardonajera', 'michaelredd', 'briancardinal', 'jabarismith', 'jasonhart', 'kanieldickens'])"
      ]
     },
     "execution_count": 15,
     "metadata": {},
     "output_type": "execute_result"
    }
   ],
   "source": [
    "a.keys()"
   ]
  },
  {
   "cell_type": "code",
   "execution_count": null,
   "metadata": {},
   "outputs": [],
   "source": []
  }
 ],
 "metadata": {
  "kernelspec": {
   "display_name": "Python 3",
   "language": "python",
   "name": "python3"
  },
  "language_info": {
   "codemirror_mode": {
    "name": "ipython",
    "version": 3
   },
   "file_extension": ".py",
   "mimetype": "text/x-python",
   "name": "python",
   "nbconvert_exporter": "python",
   "pygments_lexer": "ipython3",
   "version": "3.8.5"
  }
 },
 "nbformat": 4,
 "nbformat_minor": 4
}
