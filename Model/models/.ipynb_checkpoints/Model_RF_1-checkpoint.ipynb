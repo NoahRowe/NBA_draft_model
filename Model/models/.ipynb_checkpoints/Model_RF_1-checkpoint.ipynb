{
 "cells": [
  {
   "cell_type": "code",
   "execution_count": 1,
   "metadata": {},
   "outputs": [],
   "source": [
    "### Imports\n",
    "import numpy as np\n",
    "import matplotlib.pyplot as plt\n",
    "import pandas as pd\n",
    "import seaborn as sns\n",
    "import helper as my\n",
    "\n",
    "\n",
    "from sklearn.ensemble import RandomForestRegressor\n",
    "from sklearn.ensemble import RandomForestRegressor\n",
    "\n",
    "from sklearn.preprocessing import StandardScaler, MinMaxScaler\n",
    "from sklearn.metrics import pairwise\n",
    "from sklearn.cluster import KMeans\n",
    "\n",
    "from sklearn.model_selection import LeaveOneOut\n",
    "\n",
    "from sklearn.metrics import mean_squared_error\n",
    "\n",
    "### Get the data\n",
    "NBAdata, draftData = my.getData()\n",
    "# draftData = draftData[:100]"
   ]
  },
  {
   "cell_type": "code",
   "execution_count": 2,
   "metadata": {},
   "outputs": [],
   "source": [
    "### define the columns we want\n",
    "clusteringCols = ['FT%', '3P%', 'eFG%', 'ORB%', 'DRB%', 'AST%', 'TOV%', 'STL%', 'BLK%', 'USG%', 'OWS', 'DWS', \n",
    "                  'FTA', '3PA', 'PTS', 'PF', 'MP_per_PF', 'FTA_per_FGA', 'MP_per_3PA', 'PTS_per_FGA', \n",
    "                  'C', 'F', 'G', 'PPM', 'PPG', 'HEIGHT', 'WEIGHT']\n",
    "\n",
    "x_cols = ['gamesPlayed', 'minutes', 'FT%', '3P%', 'SOS', 'PER', 'eFG%', 'ORB%', 'DRB%', 'AST%', 'TOV%', \n",
    "          'STL%', 'BLK%', 'USG%','OWS', 'DWS', 'FTA', 'FGA', 'MP', '3PA', 'PTS', 'PF', 'MP_per_PF', 'PPG', \n",
    "          'PPM','FTA_per_FGA', 'MP_per_3PA', 'PTS_per_FGA', \"AST_per_TOV\", 'ORtg', 'DRtg','awards','RSCI', \n",
    "          'm1', 'm2', 'm3', 'm4', 'm5', 'm6', 'SHUTTLE_RUN','THREE_QUARTER_SPRINT', 'STANDING_VERTICAL', \n",
    "          'MAX_VERTICAL','BENCH_PRESS', 'BODY_FAT', 'HAND_LENGTH', 'HAND_WIDTH', \"didCombine\", \n",
    "          'HEIGHT_W_SHOES', 'REACH', 'WEIGHT', 'WINGSPAN', 'C', 'F', 'G']\n",
    "target = \"WM\"\n",
    "allCols = list(dict.fromkeys(clusteringCols + x_cols)) # removes duplicates\n",
    "draftOnlyCols = [col for col in allCols if col not in clusteringCols]\n",
    "\n",
    "\n",
    "scaler = StandardScaler()\n",
    "# scaler = MinMaxScaler()\n",
    "\n",
    "scaledNBA, scaledDraft = NBAdata.copy(), draftData.copy()\n",
    "scaledNBA[clusteringCols] = scaler.fit_transform(scaledNBA[clusteringCols])\n",
    "scaledDraft[clusteringCols] = scaler.transform(scaledDraft[clusteringCols])\n",
    "scaledDraft[draftOnlyCols] = scaler.fit_transform(scaledDraft[draftOnlyCols])"
   ]
  },
  {
   "cell_type": "code",
   "execution_count": 3,
   "metadata": {},
   "outputs": [],
   "source": [
    "### Do the clustering\n",
    "n_clusters =  3\n",
    "\n",
    "fittedCluster = KMeans(n_clusters=n_clusters).fit(scaledNBA[clusteringCols].values)\n",
    "scaledNBA['label'] = fittedCluster.labels_\n",
    "scaledDraft['label'] = fittedCluster.predict(scaledDraft[clusteringCols].values, sample_weight=None)"
   ]
  },
  {
   "cell_type": "code",
   "execution_count": 4,
   "metadata": {
    "scrolled": true
   },
   "outputs": [
    {
     "name": "stdout",
     "output_type": "stream",
     "text": [
      "1/655 completed!\n",
      "2/655 completed!\n",
      "3/655 completed!\n",
      "4/655 completed!\n",
      "5/655 completed!\n",
      "6/655 completed!\n",
      "7/655 completed!\n",
      "8/655 completed!\n",
      "9/655 completed!\n",
      "10/655 completed!\n",
      "11/655 completed!\n",
      "12/655 completed!\n",
      "13/655 completed!\n",
      "14/655 completed!\n",
      "15/655 completed!\n",
      "16/655 completed!\n",
      "17/655 completed!\n",
      "18/655 completed!\n",
      "19/655 completed!\n",
      "20/655 completed!\n",
      "21/655 completed!\n",
      "22/655 completed!\n",
      "23/655 completed!\n",
      "24/655 completed!\n",
      "25/655 completed!\n",
      "26/655 completed!\n",
      "27/655 completed!\n",
      "28/655 completed!\n",
      "29/655 completed!\n",
      "30/655 completed!\n",
      "31/655 completed!\n",
      "32/655 completed!\n",
      "33/655 completed!\n",
      "34/655 completed!\n",
      "35/655 completed!\n",
      "36/655 completed!\n",
      "37/655 completed!\n",
      "38/655 completed!\n",
      "39/655 completed!\n",
      "40/655 completed!\n",
      "41/655 completed!\n",
      "42/655 completed!\n",
      "43/655 completed!\n",
      "44/655 completed!\n",
      "45/655 completed!\n",
      "46/655 completed!\n",
      "47/655 completed!\n",
      "48/655 completed!\n",
      "49/655 completed!\n",
      "50/655 completed!\n",
      "51/655 completed!\n",
      "52/655 completed!\n",
      "53/655 completed!\n",
      "54/655 completed!\n",
      "55/655 completed!\n",
      "56/655 completed!\n",
      "57/655 completed!\n",
      "58/655 completed!\n",
      "59/655 completed!\n",
      "60/655 completed!\n",
      "61/655 completed!\n",
      "62/655 completed!\n",
      "63/655 completed!\n",
      "64/655 completed!\n",
      "65/655 completed!\n",
      "66/655 completed!\n",
      "67/655 completed!\n",
      "68/655 completed!\n",
      "69/655 completed!\n",
      "70/655 completed!\n",
      "71/655 completed!\n",
      "72/655 completed!\n",
      "73/655 completed!\n",
      "74/655 completed!\n",
      "75/655 completed!\n",
      "76/655 completed!\n",
      "77/655 completed!\n",
      "78/655 completed!\n",
      "79/655 completed!\n",
      "80/655 completed!\n",
      "81/655 completed!\n",
      "82/655 completed!\n",
      "83/655 completed!\n",
      "84/655 completed!\n",
      "85/655 completed!\n",
      "86/655 completed!\n",
      "87/655 completed!\n",
      "88/655 completed!\n",
      "89/655 completed!\n",
      "90/655 completed!\n",
      "91/655 completed!\n",
      "92/655 completed!\n",
      "93/655 completed!\n",
      "94/655 completed!\n",
      "95/655 completed!\n",
      "96/655 completed!\n",
      "97/655 completed!\n",
      "98/655 completed!\n",
      "99/655 completed!\n",
      "100/655 completed!\n",
      "101/655 completed!\n",
      "102/655 completed!\n",
      "103/655 completed!\n",
      "104/655 completed!\n",
      "105/655 completed!\n",
      "106/655 completed!\n",
      "107/655 completed!\n",
      "108/655 completed!\n",
      "109/655 completed!\n",
      "110/655 completed!\n",
      "111/655 completed!\n",
      "112/655 completed!\n",
      "113/655 completed!\n",
      "114/655 completed!\n",
      "115/655 completed!\n",
      "116/655 completed!\n",
      "117/655 completed!\n",
      "118/655 completed!\n",
      "119/655 completed!\n",
      "120/655 completed!\n",
      "121/655 completed!\n",
      "122/655 completed!\n",
      "123/655 completed!\n",
      "124/655 completed!\n",
      "125/655 completed!\n",
      "126/655 completed!\n",
      "127/655 completed!\n",
      "128/655 completed!\n",
      "129/655 completed!\n",
      "130/655 completed!\n",
      "131/655 completed!\n",
      "132/655 completed!\n",
      "133/655 completed!\n",
      "134/655 completed!\n",
      "135/655 completed!\n",
      "136/655 completed!\n",
      "137/655 completed!\n",
      "138/655 completed!\n",
      "139/655 completed!\n",
      "140/655 completed!\n",
      "141/655 completed!\n",
      "142/655 completed!\n",
      "143/655 completed!\n",
      "144/655 completed!\n",
      "145/655 completed!\n",
      "146/655 completed!\n",
      "147/655 completed!\n",
      "148/655 completed!\n",
      "149/655 completed!\n",
      "150/655 completed!\n",
      "151/655 completed!\n",
      "152/655 completed!\n",
      "153/655 completed!\n",
      "154/655 completed!\n",
      "155/655 completed!\n",
      "156/655 completed!\n",
      "157/655 completed!\n",
      "158/655 completed!\n",
      "159/655 completed!\n",
      "160/655 completed!\n",
      "161/655 completed!\n",
      "162/655 completed!\n",
      "163/655 completed!\n",
      "164/655 completed!\n",
      "165/655 completed!\n",
      "166/655 completed!\n",
      "167/655 completed!\n",
      "168/655 completed!\n",
      "169/655 completed!\n",
      "170/655 completed!\n",
      "171/655 completed!\n",
      "172/655 completed!\n",
      "173/655 completed!\n",
      "174/655 completed!\n",
      "175/655 completed!\n",
      "176/655 completed!\n",
      "177/655 completed!\n",
      "178/655 completed!\n",
      "179/655 completed!\n",
      "180/655 completed!\n",
      "181/655 completed!\n",
      "182/655 completed!\n",
      "183/655 completed!\n",
      "184/655 completed!\n",
      "185/655 completed!\n",
      "186/655 completed!\n",
      "187/655 completed!\n",
      "188/655 completed!\n",
      "189/655 completed!\n",
      "190/655 completed!\n",
      "191/655 completed!\n",
      "192/655 completed!\n",
      "193/655 completed!\n",
      "194/655 completed!\n",
      "195/655 completed!\n",
      "196/655 completed!\n",
      "197/655 completed!\n",
      "198/655 completed!\n",
      "199/655 completed!\n",
      "200/655 completed!\n",
      "201/655 completed!\n",
      "202/655 completed!\n",
      "203/655 completed!\n",
      "204/655 completed!\n",
      "205/655 completed!\n",
      "206/655 completed!\n",
      "207/655 completed!\n",
      "208/655 completed!\n",
      "209/655 completed!\n",
      "210/655 completed!\n",
      "211/655 completed!\n",
      "212/655 completed!\n",
      "213/655 completed!\n",
      "214/655 completed!\n",
      "215/655 completed!\n",
      "216/655 completed!\n",
      "217/655 completed!\n",
      "218/655 completed!\n",
      "219/655 completed!\n",
      "220/655 completed!\n",
      "221/655 completed!\n",
      "222/655 completed!\n",
      "223/655 completed!\n",
      "224/655 completed!\n",
      "225/655 completed!\n",
      "226/655 completed!\n",
      "227/655 completed!\n",
      "228/655 completed!\n",
      "229/655 completed!\n",
      "230/655 completed!\n",
      "231/655 completed!\n",
      "232/655 completed!\n",
      "233/655 completed!\n",
      "234/655 completed!\n",
      "235/655 completed!\n",
      "236/655 completed!\n",
      "237/655 completed!\n",
      "238/655 completed!\n",
      "239/655 completed!\n",
      "240/655 completed!\n",
      "241/655 completed!\n",
      "242/655 completed!\n",
      "243/655 completed!\n",
      "244/655 completed!\n",
      "245/655 completed!\n",
      "246/655 completed!\n",
      "247/655 completed!\n",
      "248/655 completed!\n",
      "249/655 completed!\n",
      "250/655 completed!\n",
      "251/655 completed!\n",
      "252/655 completed!\n",
      "253/655 completed!\n",
      "254/655 completed!\n",
      "255/655 completed!\n",
      "256/655 completed!\n",
      "257/655 completed!\n",
      "258/655 completed!\n",
      "259/655 completed!\n",
      "260/655 completed!\n",
      "261/655 completed!\n",
      "262/655 completed!\n",
      "263/655 completed!\n",
      "264/655 completed!\n",
      "265/655 completed!\n",
      "266/655 completed!\n",
      "267/655 completed!\n",
      "268/655 completed!\n",
      "269/655 completed!\n",
      "270/655 completed!\n",
      "271/655 completed!\n",
      "272/655 completed!\n",
      "273/655 completed!\n",
      "274/655 completed!\n",
      "275/655 completed!\n",
      "276/655 completed!\n",
      "277/655 completed!\n",
      "278/655 completed!\n",
      "279/655 completed!\n",
      "280/655 completed!\n",
      "281/655 completed!\n",
      "282/655 completed!\n",
      "283/655 completed!\n",
      "284/655 completed!\n",
      "285/655 completed!\n",
      "286/655 completed!\n",
      "287/655 completed!\n",
      "288/655 completed!\n",
      "289/655 completed!\n",
      "290/655 completed!\n",
      "291/655 completed!\n",
      "292/655 completed!\n",
      "293/655 completed!\n",
      "294/655 completed!\n",
      "295/655 completed!\n",
      "296/655 completed!\n",
      "297/655 completed!\n",
      "298/655 completed!\n",
      "299/655 completed!\n",
      "300/655 completed!\n",
      "301/655 completed!\n",
      "302/655 completed!\n",
      "303/655 completed!\n",
      "304/655 completed!\n",
      "305/655 completed!\n",
      "306/655 completed!\n",
      "307/655 completed!\n",
      "308/655 completed!\n",
      "309/655 completed!\n",
      "310/655 completed!\n",
      "311/655 completed!\n",
      "312/655 completed!\n",
      "313/655 completed!\n",
      "314/655 completed!\n",
      "315/655 completed!\n",
      "316/655 completed!\n",
      "317/655 completed!\n",
      "318/655 completed!\n",
      "319/655 completed!\n",
      "320/655 completed!\n",
      "321/655 completed!\n",
      "322/655 completed!\n",
      "323/655 completed!\n",
      "324/655 completed!\n",
      "325/655 completed!\n",
      "326/655 completed!\n",
      "327/655 completed!\n",
      "328/655 completed!\n",
      "329/655 completed!\n",
      "330/655 completed!\n",
      "331/655 completed!\n",
      "332/655 completed!\n",
      "333/655 completed!\n",
      "334/655 completed!\n",
      "335/655 completed!\n",
      "336/655 completed!\n",
      "337/655 completed!\n",
      "338/655 completed!\n",
      "339/655 completed!\n",
      "340/655 completed!\n",
      "341/655 completed!\n",
      "342/655 completed!\n",
      "343/655 completed!\n",
      "344/655 completed!\n",
      "345/655 completed!\n",
      "346/655 completed!\n",
      "347/655 completed!\n",
      "348/655 completed!\n",
      "349/655 completed!\n",
      "350/655 completed!\n",
      "351/655 completed!\n",
      "352/655 completed!\n",
      "353/655 completed!\n",
      "354/655 completed!\n",
      "355/655 completed!\n",
      "356/655 completed!\n",
      "357/655 completed!\n",
      "358/655 completed!\n",
      "359/655 completed!\n",
      "360/655 completed!\n",
      "361/655 completed!\n",
      "362/655 completed!\n",
      "363/655 completed!\n",
      "364/655 completed!\n",
      "365/655 completed!\n",
      "366/655 completed!\n",
      "367/655 completed!\n",
      "368/655 completed!\n",
      "369/655 completed!\n",
      "370/655 completed!\n",
      "371/655 completed!\n",
      "372/655 completed!\n",
      "373/655 completed!\n",
      "374/655 completed!\n",
      "375/655 completed!\n",
      "376/655 completed!\n",
      "377/655 completed!\n",
      "378/655 completed!\n",
      "379/655 completed!\n",
      "380/655 completed!\n",
      "381/655 completed!\n",
      "382/655 completed!\n",
      "383/655 completed!\n",
      "384/655 completed!\n",
      "385/655 completed!\n",
      "386/655 completed!\n",
      "387/655 completed!\n",
      "388/655 completed!\n",
      "389/655 completed!\n",
      "390/655 completed!\n",
      "391/655 completed!\n",
      "392/655 completed!\n",
      "393/655 completed!\n",
      "394/655 completed!\n",
      "395/655 completed!\n",
      "396/655 completed!\n",
      "397/655 completed!\n",
      "398/655 completed!\n",
      "399/655 completed!\n",
      "400/655 completed!\n",
      "401/655 completed!\n",
      "402/655 completed!\n",
      "403/655 completed!\n",
      "404/655 completed!\n",
      "405/655 completed!\n",
      "406/655 completed!\n",
      "407/655 completed!\n",
      "408/655 completed!\n",
      "409/655 completed!\n",
      "410/655 completed!\n",
      "411/655 completed!\n",
      "412/655 completed!\n",
      "413/655 completed!\n",
      "414/655 completed!\n",
      "415/655 completed!\n",
      "416/655 completed!\n",
      "417/655 completed!\n",
      "418/655 completed!\n",
      "419/655 completed!\n",
      "420/655 completed!\n",
      "421/655 completed!\n",
      "422/655 completed!\n",
      "423/655 completed!\n",
      "424/655 completed!\n",
      "425/655 completed!\n",
      "426/655 completed!\n",
      "427/655 completed!\n",
      "428/655 completed!\n",
      "429/655 completed!\n",
      "430/655 completed!\n",
      "431/655 completed!\n",
      "432/655 completed!\n",
      "433/655 completed!\n",
      "434/655 completed!\n",
      "435/655 completed!\n",
      "436/655 completed!\n",
      "437/655 completed!\n"
     ]
    },
    {
     "name": "stdout",
     "output_type": "stream",
     "text": [
      "438/655 completed!\n",
      "439/655 completed!\n",
      "440/655 completed!\n",
      "441/655 completed!\n",
      "442/655 completed!\n",
      "443/655 completed!\n",
      "444/655 completed!\n",
      "445/655 completed!\n",
      "446/655 completed!\n",
      "447/655 completed!\n",
      "448/655 completed!\n",
      "449/655 completed!\n",
      "450/655 completed!\n",
      "451/655 completed!\n",
      "452/655 completed!\n",
      "453/655 completed!\n",
      "454/655 completed!\n",
      "455/655 completed!\n",
      "456/655 completed!\n",
      "457/655 completed!\n",
      "458/655 completed!\n",
      "459/655 completed!\n",
      "460/655 completed!\n",
      "461/655 completed!\n",
      "462/655 completed!\n",
      "463/655 completed!\n",
      "464/655 completed!\n",
      "465/655 completed!\n",
      "466/655 completed!\n",
      "467/655 completed!\n",
      "468/655 completed!\n",
      "469/655 completed!\n",
      "470/655 completed!\n",
      "471/655 completed!\n",
      "472/655 completed!\n",
      "473/655 completed!\n",
      "474/655 completed!\n",
      "475/655 completed!\n",
      "476/655 completed!\n",
      "477/655 completed!\n",
      "478/655 completed!\n",
      "479/655 completed!\n",
      "480/655 completed!\n",
      "481/655 completed!\n",
      "482/655 completed!\n",
      "483/655 completed!\n",
      "484/655 completed!\n",
      "485/655 completed!\n",
      "486/655 completed!\n",
      "487/655 completed!\n",
      "488/655 completed!\n",
      "489/655 completed!\n",
      "490/655 completed!\n",
      "491/655 completed!\n",
      "492/655 completed!\n",
      "493/655 completed!\n",
      "494/655 completed!\n",
      "495/655 completed!\n",
      "496/655 completed!\n",
      "497/655 completed!\n",
      "498/655 completed!\n",
      "499/655 completed!\n",
      "500/655 completed!\n",
      "501/655 completed!\n",
      "502/655 completed!\n",
      "503/655 completed!\n",
      "504/655 completed!\n",
      "505/655 completed!\n",
      "506/655 completed!\n",
      "507/655 completed!\n",
      "508/655 completed!\n",
      "509/655 completed!\n",
      "510/655 completed!\n",
      "511/655 completed!\n",
      "512/655 completed!\n",
      "513/655 completed!\n",
      "514/655 completed!\n",
      "515/655 completed!\n",
      "516/655 completed!\n",
      "517/655 completed!\n",
      "518/655 completed!\n",
      "519/655 completed!\n",
      "520/655 completed!\n",
      "521/655 completed!\n",
      "522/655 completed!\n",
      "523/655 completed!\n",
      "524/655 completed!\n",
      "525/655 completed!\n",
      "526/655 completed!\n",
      "527/655 completed!\n",
      "528/655 completed!\n",
      "529/655 completed!\n",
      "530/655 completed!\n",
      "531/655 completed!\n",
      "532/655 completed!\n",
      "533/655 completed!\n",
      "534/655 completed!\n",
      "535/655 completed!\n",
      "536/655 completed!\n",
      "537/655 completed!\n",
      "538/655 completed!\n",
      "539/655 completed!\n",
      "540/655 completed!\n",
      "541/655 completed!\n",
      "542/655 completed!\n",
      "543/655 completed!\n",
      "544/655 completed!\n",
      "545/655 completed!\n",
      "546/655 completed!\n",
      "547/655 completed!\n",
      "548/655 completed!\n",
      "549/655 completed!\n",
      "550/655 completed!\n",
      "551/655 completed!\n",
      "552/655 completed!\n",
      "553/655 completed!\n",
      "554/655 completed!\n",
      "555/655 completed!\n",
      "556/655 completed!\n",
      "557/655 completed!\n",
      "558/655 completed!\n",
      "559/655 completed!\n",
      "560/655 completed!\n",
      "561/655 completed!\n",
      "562/655 completed!\n",
      "563/655 completed!\n",
      "564/655 completed!\n",
      "565/655 completed!\n",
      "566/655 completed!\n",
      "567/655 completed!\n",
      "568/655 completed!\n",
      "569/655 completed!\n",
      "570/655 completed!\n",
      "571/655 completed!\n",
      "572/655 completed!\n",
      "573/655 completed!\n",
      "574/655 completed!\n",
      "575/655 completed!\n",
      "576/655 completed!\n",
      "577/655 completed!\n",
      "578/655 completed!\n",
      "579/655 completed!\n",
      "580/655 completed!\n",
      "581/655 completed!\n",
      "582/655 completed!\n",
      "583/655 completed!\n",
      "584/655 completed!\n",
      "585/655 completed!\n",
      "586/655 completed!\n",
      "587/655 completed!\n",
      "588/655 completed!\n",
      "589/655 completed!\n",
      "590/655 completed!\n",
      "591/655 completed!\n",
      "592/655 completed!\n",
      "593/655 completed!\n",
      "594/655 completed!\n",
      "595/655 completed!\n",
      "596/655 completed!\n",
      "597/655 completed!\n",
      "598/655 completed!\n",
      "599/655 completed!\n",
      "600/655 completed!\n",
      "601/655 completed!\n",
      "602/655 completed!\n",
      "603/655 completed!\n",
      "604/655 completed!\n",
      "605/655 completed!\n",
      "606/655 completed!\n",
      "607/655 completed!\n",
      "608/655 completed!\n",
      "609/655 completed!\n",
      "610/655 completed!\n",
      "611/655 completed!\n",
      "612/655 completed!\n",
      "613/655 completed!\n",
      "614/655 completed!\n",
      "615/655 completed!\n",
      "616/655 completed!\n",
      "617/655 completed!\n",
      "618/655 completed!\n",
      "619/655 completed!\n",
      "620/655 completed!\n",
      "621/655 completed!\n",
      "622/655 completed!\n",
      "623/655 completed!\n",
      "624/655 completed!\n",
      "625/655 completed!\n",
      "626/655 completed!\n",
      "627/655 completed!\n",
      "628/655 completed!\n",
      "629/655 completed!\n",
      "630/655 completed!\n",
      "631/655 completed!\n",
      "632/655 completed!\n",
      "633/655 completed!\n",
      "634/655 completed!\n",
      "635/655 completed!\n",
      "636/655 completed!\n",
      "637/655 completed!\n",
      "638/655 completed!\n",
      "639/655 completed!\n",
      "640/655 completed!\n",
      "641/655 completed!\n",
      "642/655 completed!\n",
      "643/655 completed!\n",
      "644/655 completed!\n",
      "645/655 completed!\n",
      "646/655 completed!\n",
      "647/655 completed!\n",
      "648/655 completed!\n",
      "649/655 completed!\n",
      "650/655 completed!\n",
      "651/655 completed!\n",
      "652/655 completed!\n",
      "653/655 completed!\n",
      "654/655 completed!\n",
      "655/655 completed!\n"
     ]
    }
   ],
   "source": [
    "# Create a function that will get features for all draftees for each team\n",
    "metricCols = clusteringCols\n",
    "metric = \"euclidean\"\n",
    "metric_function = pairwise.distance_metrics()[metric]\n",
    "n_players = 5\n",
    "nba_features = ['dist_avg', \"dist_std\", \"dist_dot_min\", \"dist_dot_WS\", \"min_dist\", \"label_count\",\n",
    "                'label_dist_avg', \"label_dist_std\", \"label_dist_dot_min\", \"label_dist_dot_WS\", \"label_min_dist\"\n",
    "               ]\n",
    "def getTeamFeatures(draftee):\n",
    "    draftYear = draftee[\"Year\"]\n",
    "    nbaYear = scaledNBA[scaledNBA[\"Year\"]==draftYear-1]\n",
    "    thisYearsTeams = nbaYear[\"Tm\"].unique()\n",
    "    preds = pd.DataFrame({\"Team\":thisYearsTeams})\n",
    "    for col in nba_features: preds[col] = np.nan\n",
    "    \n",
    "    for i in range(len(preds)):\n",
    "        nbaTeamName = preds[\"Team\"].iloc[i]\n",
    "        fullnbaTeam = nbaYear[nbaYear[\"Tm\"]==nbaTeamName].sort_values(by=[\"MP\"])\n",
    "        labelTeam = fullnbaTeam[fullnbaTeam['label']==draftee[\"label\"]]\n",
    "        teamSize, labelSize = len(fullnbaTeam), len(labelTeam)\n",
    "        \n",
    "        nbaTeam = fullnbaTeam.iloc[:n_players] if teamSize>=n_players else fullnbaTeam\n",
    "        \n",
    "        distances = np.array([metric_function(draftee[metricCols].to_numpy().reshape(1,-1), \n",
    "                                     nbaTeam[metricCols].iloc[i][metricCols].to_numpy().reshape(1,-1)).item()\n",
    "                     for i in range(len(nbaTeam))])\n",
    "        label_distances = np.array([metric_function(draftee[metricCols].to_numpy().reshape(1,-1), \n",
    "                                     labelTeam[metricCols].iloc[i][metricCols].to_numpy().reshape(1,-1)).item()\n",
    "                     for i in range(len(labelTeam))])\n",
    "        # Turn them into a feature vector\n",
    "        preds.iloc[i,preds.columns.get_loc(\"dist_avg\")] = np.mean(distances)\n",
    "        preds.iloc[i,preds.columns.get_loc(\"dist_std\")] = np.std(distances)\n",
    "        preds.iloc[i,preds.columns.get_loc(\"dist_dot_min\")] = np.dot(1./distances, nbaTeam[\"MP\"].values)\n",
    "        preds.iloc[i,preds.columns.get_loc(\"dist_dot_WS\")] = np.dot(1./distances, nbaTeam[\"MP\"].values)\n",
    "        preds.iloc[i,preds.columns.get_loc(\"min_dist\")] = np.min(distances)\n",
    "        \n",
    "        preds.iloc[i,preds.columns.get_loc(\"label_count\")] = labelSize/teamSize\n",
    "        if False: #len(label_distances) != 0:\n",
    "            preds.iloc[i,preds.columns.get_loc(\"label_dist_avg\")] = np.mean(label_distances)\n",
    "            preds.iloc[i,preds.columns.get_loc(\"label_dist_std\")] = np.std(label_distances)\n",
    "            preds.iloc[i,preds.columns.get_loc(\"label_dist_dot_min\")] = np.dot(1./label_distances,\n",
    "                                                                               labelTeam[\"MP\"].values)\n",
    "            preds.iloc[i,preds.columns.get_loc(\"label_dist_dot_WS\")] = np.dot(1./label_distances, \n",
    "                                                                              labelTeam[\"MP\"].values)\n",
    "            preds.iloc[i,preds.columns.get_loc(\"label_min_dist\")] = np.min(label_distances)\n",
    "        \n",
    "    # Do some quick mean imputation if there are missing values\n",
    "    for col in nba_features:\n",
    "        preds[col] = preds[col].fillna(np.mean(preds[col]))\n",
    "        \n",
    "    return preds\n",
    "        \n",
    "# Create a dictionary containing {draftee name:team features df}\n",
    "# teamFeatures = {}\n",
    "# for i in range(len(scaledDraft)):\n",
    "#     draftee = scaledDraft.iloc[i]\n",
    "#     drafteeName = draftee[\"Player\"]\n",
    "#     teamFeatures[drafteeName] = getTeamFeatures(draftee)\n",
    "    \n",
    "#     # Do some mean imputation on the missing values\n",
    "    \n",
    "#     print(\"{}/{} completed!\".format(i+1, len(scaledDraft)))\n",
    "teamFeatures = np.load(\"/home/nrowe/Thesis/Model/teamFeatures_2.npy\", allow_pickle=True).tolist()"
   ]
  },
  {
   "cell_type": "code",
   "execution_count": 5,
   "metadata": {},
   "outputs": [],
   "source": [
    "# Scale these new features\n",
    "allTeamFeatures = [0 for i in range(len(teamFeatures.keys()))]\n",
    "# Combine them to create one scaler\n",
    "for i, key in enumerate(teamFeatures.keys()): \n",
    "    allTeamFeatures[i] = teamFeatures[key]\n",
    "    \n",
    "allTeamFeatures = pd.concat(allTeamFeatures)\n",
    "scaler = StandardScaler()\n",
    "scaler.fit(allTeamFeatures[nba_features])\n",
    "\n",
    "for i, key in enumerate(teamFeatures.keys()): \n",
    "    teamFeatures[key][nba_features] = scaler.transform(teamFeatures[key][nba_features])\n",
    "\n",
    "# Change what our training subset looks like \n",
    "allCols = list(dict.fromkeys(allCols)) # removes duplicate\n",
    "trainingCols = allCols + nba_features"
   ]
  },
  {
   "cell_type": "code",
   "execution_count": 6,
   "metadata": {
    "scrolled": true
   },
   "outputs": [],
   "source": [
    "# Add the actual features (for training the model) to the overall dataset\n",
    "for col in nba_features: scaledDraft[col] = np.nan\n",
    "for i in range(len(scaledDraft)):\n",
    "    key = scaledDraft.iloc[i][\"Player\"]\n",
    "    tm = scaledDraft.iloc[i][\"Tm\"]\n",
    "    featuresDF = teamFeatures[key]\n",
    "    for col in nba_features:\n",
    "        value = featuresDF[featuresDF[\"Team\"]==tm][col]\n",
    "        scaledDraft.iloc[i, scaledDraft.columns.get_loc(col)] = featuresDF[featuresDF[\"Team\"]==tm][col].values[0]"
   ]
  },
  {
   "cell_type": "code",
   "execution_count": 7,
   "metadata": {},
   "outputs": [],
   "source": [
    "## NEURAL NETWORK MODEL\n",
    "def create_NN():\n",
    "    N, epochs, batch_size = len(trainingCols), 20, 20\n",
    "    def create_model():\n",
    "        model = Sequential()\n",
    "        model.add(Dense(N, input_dim=N, kernel_initializer='normal', activation='sigmoid'))\n",
    "        model.add(Dense(1, kernel_initializer='normal'))\n",
    "        # Compile model\n",
    "        model.compile(loss='mean_squared_error', optimizer=\"Adam\")\n",
    "        return model\n",
    "    return KerasRegressor(build_fn=create_model, epochs=epochs, batch_size=batch_size, verbose=0)\n",
    "\n",
    "\n",
    "## RANDOM FOREST MODEL\n",
    "def create_RF():\n",
    "    params = {\"n_estimators\":100, \"n_jobs\":16}\n",
    "    return RandomForestRegressor(**params)\n",
    "\n",
    "from sklearn.neighbors import KNeighborsRegressor\n",
    "def create_KNN():\n",
    "    params = {\"n_neighbors\":15}\n",
    "    return KNeighborsRegressor(**params)"
   ]
  },
  {
   "cell_type": "code",
   "execution_count": 8,
   "metadata": {},
   "outputs": [],
   "source": [
    "## Split the data into X and Y\n",
    "draftX, draftY = scaledDraft[trainingCols], scaledDraft[target]\n",
    "\n",
    "## Set up oversampling (only affects draft data I think)\n",
    "oversampledX, oversampledY = draftX.copy(), draftY.copy()\n",
    "highValue = 3\n",
    "highDraftX, highDraftY = oversampledX[oversampledY > highValue], oversampledY[oversampledY > highValue]\n",
    "lowValue = 0.1\n",
    "lowDraftX, lowDraftY = oversampledX[oversampledY < lowValue], oversampledY[oversampledY < lowValue]\n",
    "middleRowNum = len(draftX) - len(highDraftX) - len(lowDraftX)\n",
    "\n",
    "# Number of samples is equal to size of subset\n",
    "for i in range(300):\n",
    "    addRow = np.random.randint(len(highDraftX))\n",
    "    oversampledX = oversampledX.append(highDraftX.iloc[addRow])\n",
    "    oversampledY = oversampledY.append(pd.Series(highDraftY.iloc[addRow], index=[highDraftY.index[addRow]]))\n",
    "    \n",
    "# for i in range(len(lowDraftX)):\n",
    "# for i in range(middleRowNum):\n",
    "for i in range(0):\n",
    "    addRow = np.random.randint(len(lowDraftX))\n",
    "    oversampledX = oversampledX.append(lowDraftX.iloc[addRow])\n",
    "    oversampledY = oversampledY.append(pd.Series(lowDraftY.iloc[addRow], index=[lowDraftY.index[addRow]]))  \n",
    "\n",
    "# oversampledX.reset_index(inplace=True, drop=True)\n",
    "# oversampledY.reset_index(inplace=True, drop=True)"
   ]
  },
  {
   "cell_type": "code",
   "execution_count": 9,
   "metadata": {
    "scrolled": true
   },
   "outputs": [
    {
     "name": "stdout",
     "output_type": "stream",
     "text": [
      "1/655 complete! (markellefultz)\n",
      "2/655 complete! (lonzoball)\n",
      "3/655 complete! (jaysontatum)\n",
      "4/655 complete! (joshjackson)\n",
      "5/655 complete! (deaaronfox)\n",
      "6/655 complete! (jonathanisaac)\n",
      "7/655 complete! (laurimarkkanen)\n",
      "8/655 complete! (dennissmith)\n",
      "9/655 complete! (zachcollins)\n",
      "10/655 complete! (malikmonk)\n",
      "11/655 complete! (lukekennard)\n",
      "12/655 complete! (donovanmitchell)\n",
      "13/655 complete! (bamadebayo)\n",
      "14/655 complete! (justinpatton)\n",
      "15/655 complete! (djwilson)\n",
      "16/655 complete! (tjleaf)\n",
      "17/655 complete! (johncollins)\n",
      "18/655 complete! (harrygiles)\n",
      "19/655 complete! (jarrettallen)\n",
      "20/655 complete! (oganunoby)\n",
      "21/655 complete! (tylerlydon)\n",
      "22/655 complete! (calebswanigan)\n",
      "23/655 complete! (kylekuzma)\n",
      "24/655 complete! (tonybradley)\n",
      "25/655 complete! (derrickwhite)\n",
      "26/655 complete! (joshhart)\n",
      "27/655 complete! (frankjackson)\n",
      "28/655 complete! (davonreed)\n",
      "29/655 complete! (frankmason)\n",
      "30/655 complete! (ivanrabb)\n",
      "31/655 complete! (jonahbolden)\n",
      "32/655 complete! (semiojeleye)\n",
      "33/655 complete! (jordanbell)\n",
      "34/655 complete! (jawunevans)\n",
      "35/655 complete! (dwaynebacon)\n",
      "36/655 complete! (tylerdorsey)\n",
      "37/655 complete! (thomasbryant)\n",
      "38/655 complete! (damyeandotson)\n",
      "39/655 complete! (dillonbrooks)\n",
      "40/655 complete! (sterlingbrown)\n",
      "41/655 complete! (ikeanigbogu)\n",
      "42/655 complete! (sindariusthornwell)\n",
      "43/655 complete! (montemorris)\n",
      "44/655 complete! (kadeemallen)\n",
      "45/655 complete! (alecpeters)\n",
      "46/655 complete! (nigelwilliamsgoss)\n",
      "47/655 complete! (jabaribird)\n",
      "48/655 complete! (jaronblossomgame)\n",
      "49/655 complete! (bensimmons)\n",
      "50/655 complete! (brandoningram)\n",
      "51/655 complete! (krisdunn)\n",
      "52/655 complete! (buddyhield)\n",
      "53/655 complete! (jamalmurray)\n",
      "54/655 complete! (marquesechriss)\n",
      "55/655 complete! (domantassabonis)\n",
      "56/655 complete! (denzelvalentine)\n",
      "57/655 complete! (henryellenson)\n",
      "58/655 complete! (malikbeasley)\n",
      "59/655 complete! (carislevert)\n",
      "60/655 complete! (deandrebembry)\n",
      "61/655 complete! (malachirichardson)\n",
      "62/655 complete! (bricejohnson)\n",
      "63/655 complete! (pascalsiakam)\n",
      "64/655 complete! (skallabissiere)\n",
      "65/655 complete! (dejountemurray)\n",
      "66/655 complete! (damianjones)\n",
      "67/655 complete! (deyontadavis)\n",
      "68/655 complete! (cheickdiallo)\n",
      "69/655 complete! (tylerulis)\n",
      "70/655 complete! (malcolmbrogdon)\n",
      "71/655 complete! (chinanuonuaku)\n",
      "72/655 complete! (patrickmccaw)\n",
      "73/655 complete! (diamondstone)\n",
      "74/655 complete! (stephenzimmerman)\n",
      "75/655 complete! (isaiahwhitehead)\n",
      "76/655 complete! (demetriusjackson)\n",
      "77/655 complete! (ajhammons)\n",
      "78/655 complete! (jakelayman)\n",
      "79/655 complete! (michaelgbinije)\n",
      "80/655 complete! (georgesniang)\n",
      "81/655 complete! (benbentil)\n",
      "82/655 complete! (joelbolomboy)\n",
      "83/655 complete! (kayfelder)\n",
      "84/655 complete! (marcuspaige)\n",
      "85/655 complete! (danielhamilton)\n",
      "86/655 complete! (abdelnader)\n",
      "87/655 complete! (tyronewallace)\n",
      "88/655 complete! (karlanthonytowns)\n",
      "89/655 complete! (dangelorussell)\n",
      "90/655 complete! (jahlilokafor)\n",
      "91/655 complete! (williecauleystein)\n",
      "92/655 complete! (stanleyjohnson)\n",
      "93/655 complete! (frankkaminsky)\n",
      "94/655 complete! (justisewinslow)\n",
      "95/655 complete! (mylesturner)\n",
      "96/655 complete! (treylyles)\n",
      "97/655 complete! (devinbooker)\n",
      "98/655 complete! (cameronpayne)\n",
      "99/655 complete! (kellyoubre)\n",
      "100/655 complete! (terryrozier)\n",
      "101/655 complete! (rashadvaughn)\n",
      "102/655 complete! (samdekker)\n",
      "103/655 complete! (jeriangrant)\n",
      "104/655 complete! (delonwright)\n",
      "105/655 complete! (justinanderson)\n",
      "106/655 complete! (bobbyportis)\n",
      "107/655 complete! (rondaehollisjefferson)\n",
      "108/655 complete! (tyusjones)\n",
      "109/655 complete! (jarellmartin)\n",
      "110/655 complete! (larrynance)\n",
      "111/655 complete! (rjhunter)\n",
      "112/655 complete! (chrismccullough)\n",
      "113/655 complete! (kevonlooney)\n",
      "114/655 complete! (montrezlharrell)\n",
      "115/655 complete! (jordanmickey)\n",
      "116/655 complete! (anthonybrown)\n",
      "117/655 complete! (rakeemchristmas)\n",
      "118/655 complete! (richaunholmes)\n",
      "119/655 complete! (darrunhilliard)\n",
      "120/655 complete! (joshrichardson)\n",
      "121/655 complete! (joeyoung)\n",
      "122/655 complete! (andrewharrison)\n",
      "123/655 complete! (marcusthornton)\n",
      "124/655 complete! (dakarijohnson)\n",
      "125/655 complete! (brandendawson)\n",
      "126/655 complete! (andrewwiggins)\n",
      "127/655 complete! (jabariparker)\n",
      "128/655 complete! (joelembiid)\n",
      "129/655 complete! (aarongordon)\n",
      "130/655 complete! (marcussmart)\n",
      "131/655 complete! (juliusrandle)\n",
      "132/655 complete! (nikstauskas)\n",
      "133/655 complete! (noahvonleh)\n",
      "134/655 complete! (elfridpayton)\n",
      "135/655 complete! (dougmcdermott)\n",
      "136/655 complete! (zachlavine)\n",
      "137/655 complete! (tjwarren)\n",
      "138/655 complete! (adreianpayne)\n",
      "139/655 complete! (jamesyoung)\n",
      "140/655 complete! (tylerennis)\n",
      "141/655 complete! (garyharris)\n",
      "142/655 complete! (mitchmcgary)\n",
      "143/655 complete! (jordanadams)\n",
      "144/655 complete! (rodneyhood)\n",
      "145/655 complete! (shabazznapier)\n",
      "146/655 complete! (pjhairston)\n",
      "147/655 complete! (cjwilcox)\n",
      "148/655 complete! (joshhuestis)\n",
      "149/655 complete! (kyleanderson)\n",
      "150/655 complete! (kjmcdaniels)\n",
      "151/655 complete! (joeharris)\n",
      "152/655 complete! (cleanthonyearly)\n",
      "153/655 complete! (jarnellstokes)\n",
      "154/655 complete! (johnnyobryant)\n",
      "155/655 complete! (spencerdinwiddie)\n",
      "156/655 complete! (jeramigrant)\n",
      "157/655 complete! (glennrobinson)\n",
      "158/655 complete! (markelbrown)\n",
      "159/655 complete! (dwightpowell)\n",
      "160/655 complete! (jordanclarkson)\n",
      "161/655 complete! (russsmith)\n",
      "162/655 complete! (lamarpatterson)\n",
      "163/655 complete! (cameronbairstow)\n",
      "164/655 complete! (semajchriston)\n",
      "165/655 complete! (devynmarble)\n",
      "166/655 complete! (jordanmcrae)\n",
      "167/655 complete! (coryjefferson)\n",
      "168/655 complete! (anthonybennett)\n",
      "169/655 complete! (victoroladipo)\n",
      "170/655 complete! (ottoporter)\n",
      "171/655 complete! (codyzeller)\n",
      "172/655 complete! (alexlen)\n",
      "173/655 complete! (nerlensnoel)\n",
      "174/655 complete! (benmclemore)\n",
      "175/655 complete! (kentaviouscaldwellpope)\n",
      "176/655 complete! (treyburke)\n",
      "177/655 complete! (cjmccollum)\n",
      "178/655 complete! (michaelcarterwilliams)\n",
      "179/655 complete! (stevenadams)\n",
      "180/655 complete! (kellyolynyk)\n",
      "181/655 complete! (shabazzmuhammad)\n",
      "182/655 complete! (shanelarkin)\n",
      "183/655 complete! (tonysnell)\n",
      "184/655 complete! (gorguidieng)\n",
      "185/655 complete! (masonplumlee)\n",
      "186/655 complete! (solomonhill)\n",
      "187/655 complete! (timhardaway)\n",
      "188/655 complete! (reggiebullock)\n",
      "189/655 complete! (andreroberson)\n",
      "190/655 complete! (archiegoodwin)\n",
      "191/655 complete! (allencrabbe)\n",
      "192/655 complete! (carrickfelix)\n",
      "193/655 complete! (isaiahcanaan)\n",
      "194/655 complete! (glenrice)\n",
      "195/655 complete! (raymccallum)\n",
      "196/655 complete! (tonymitchell)\n",
      "197/655 complete! (natewolters)\n",
      "198/655 complete! (jeffwithey)\n",
      "199/655 complete! (jamaalfranklin)\n",
      "200/655 complete! (mikemuscala)\n",
      "201/655 complete! (erickgreen)\n",
      "202/655 complete! (ryankelly)\n",
      "203/655 complete! (jamesennis)\n",
      "204/655 complete! (lorenzobrown)\n",
      "205/655 complete! (peytonsiva)\n",
      "206/655 complete! (anthonydavis)\n",
      "207/655 complete! (michaelkiddgilchrist)\n",
      "208/655 complete! (bradleybeal)\n",
      "209/655 complete! (dionwaiters)\n",
      "210/655 complete! (thomasrobinson)\n",
      "211/655 complete! (damianlillard)\n",
      "212/655 complete! (harrisonbarnes)\n",
      "213/655 complete! (terrenceross)\n",
      "214/655 complete! (andredrummond)\n",
      "215/655 complete! (austinrivers)\n",
      "216/655 complete! (meyersleonard)\n",
      "217/655 complete! (jeremylamb)\n",
      "218/655 complete! (kendallmarshall)\n",
      "219/655 complete! (johnhenson)\n",
      "220/655 complete! (mauriceharkless)\n",
      "221/655 complete! (roycewhite)\n",
      "222/655 complete! (tylerzeller)\n",
      "223/655 complete! (terrencejones)\n",
      "224/655 complete! (andrewnicholson)\n",
      "225/655 complete! (jaredsullinger)\n",
      "226/655 complete! (fabmelo)\n",
      "227/655 complete! (johnjenkins)\n",
      "228/655 complete! (jaredcunningham)\n",
      "229/655 complete! (tonywroten)\n",
      "230/655 complete! (milesplumlee)\n",
      "231/655 complete! (arnettmoultrie)\n",
      "232/655 complete! (perryjones)\n",
      "233/655 complete! (marquisteague)\n",
      "234/655 complete! (festusezeli)\n",
      "235/655 complete! (jefferytaylor)\n",
      "236/655 complete! (bernardjames)\n",
      "237/655 complete! (jaecrowder)\n",
      "238/655 complete! (draymondgreen)\n",
      "239/655 complete! (orlandojohnson)\n",
      "240/655 complete! (quincyacy)\n",
      "241/655 complete! (quincymiller)\n",
      "242/655 complete! (khrismiddleton)\n",
      "243/655 complete! (willbarton)\n",
      "244/655 complete! (tyshawntaylor)\n",
      "245/655 complete! (doronlamb)\n",
      "246/655 complete! (mikescott)\n",
      "247/655 complete! (kimenglish)\n",
      "248/655 complete! (justinhamilton)\n",
      "249/655 complete! (dariusmiller)\n",
      "250/655 complete! (kevinmurphy)\n",
      "251/655 complete! (kyleoquinn)\n",
      "252/655 complete! (krisjoseph)\n",
      "253/655 complete! (dariusjohnsonodom)\n"
     ]
    },
    {
     "name": "stdout",
     "output_type": "stream",
     "text": [
      "254/655 complete! (robertsacre)\n",
      "255/655 complete! (kyrieirving)\n",
      "256/655 complete! (derrickwilliams)\n",
      "257/655 complete! (tristanthompson)\n",
      "258/655 complete! (brandonknight)\n",
      "259/655 complete! (kembawalker)\n",
      "260/655 complete! (jimmerfredette)\n",
      "261/655 complete! (klaythompson)\n",
      "262/655 complete! (alecburks)\n",
      "263/655 complete! (markieffmorris)\n",
      "264/655 complete! (marcusmorris)\n",
      "265/655 complete! (kawhileonard)\n",
      "266/655 complete! (nikolavucevic)\n",
      "267/655 complete! (imanshumpert)\n",
      "268/655 complete! (chrissingleton)\n",
      "269/655 complete! (tobiasharris)\n",
      "270/655 complete! (nolansmith)\n",
      "271/655 complete! (kennethfaried)\n",
      "272/655 complete! (reggiejackson)\n",
      "273/655 complete! (marshonbrooks)\n",
      "274/655 complete! (jordanhamilton)\n",
      "275/655 complete! (jajuanjohnson)\n",
      "276/655 complete! (norriscole)\n",
      "277/655 complete! (coryjoseph)\n",
      "278/655 complete! (jimmybutler)\n",
      "279/655 complete! (justinharper)\n",
      "280/655 complete! (kylesingler)\n",
      "281/655 complete! (shelvinmack)\n",
      "282/655 complete! (tylerhoneycutt)\n",
      "283/655 complete! (jordanwilliams)\n",
      "284/655 complete! (treythompkins)\n",
      "285/655 complete! (chandlerparsons)\n",
      "286/655 complete! (jonleuer)\n",
      "287/655 complete! (dariusmorris)\n",
      "288/655 complete! (malcolmlee)\n",
      "289/655 complete! (charlesjenkins)\n",
      "290/655 complete! (joshharrellson)\n",
      "291/655 complete! (travisleslie)\n",
      "292/655 complete! (keithbenson)\n",
      "293/655 complete! (joshselby)\n",
      "294/655 complete! (lavoyallen)\n",
      "295/655 complete! (vernonmacklin)\n",
      "296/655 complete! (deandreliggins)\n",
      "297/655 complete! (etwaunmoore)\n",
      "298/655 complete! (isaiahthomas)\n",
      "299/655 complete! (johnwall)\n",
      "300/655 complete! (evanturner)\n",
      "301/655 complete! (derrickfavors)\n",
      "302/655 complete! (wesleyjohnson)\n",
      "303/655 complete! (demarcuscousins)\n",
      "304/655 complete! (ekpeudoh)\n",
      "305/655 complete! (gregmonroe)\n",
      "306/655 complete! (alfarouqaminu)\n",
      "307/655 complete! (gordonhayward)\n",
      "308/655 complete! (paulgeorge)\n",
      "309/655 complete! (colealdrich)\n",
      "310/655 complete! (xavierhenry)\n",
      "311/655 complete! (eddavis)\n",
      "312/655 complete! (patrickpatterson)\n",
      "313/655 complete! (larrysanders)\n",
      "314/655 complete! (lukebabbitt)\n",
      "315/655 complete! (ericbledsoe)\n",
      "316/655 complete! (averybradley)\n",
      "317/655 complete! (jamesanderson)\n",
      "318/655 complete! (craigbrackins)\n",
      "319/655 complete! (elliotwilliams)\n",
      "320/655 complete! (trevorbooker)\n",
      "321/655 complete! (damionjames)\n",
      "322/655 complete! (dominiquejones)\n",
      "323/655 complete! (quincypondexter)\n",
      "324/655 complete! (jordancrawford)\n",
      "325/655 complete! (danielorton)\n",
      "326/655 complete! (lazarhayward)\n",
      "327/655 complete! (dexterpittman)\n",
      "328/655 complete! (hassanwhiteside)\n",
      "329/655 complete! (armonjohnson)\n",
      "330/655 complete! (daringtonhobson)\n",
      "331/655 complete! (andyrautins)\n",
      "332/655 complete! (landryfields)\n",
      "333/655 complete! (lancestephenson)\n",
      "334/655 complete! (jarvisvarnado)\n",
      "335/655 complete! (devinebanks)\n",
      "336/655 complete! (ganilawal)\n",
      "337/655 complete! (solomonalabi)\n",
      "338/655 complete! (lukeharangody)\n",
      "339/655 complete! (williewarren)\n",
      "340/655 complete! (jeremyevans)\n",
      "341/655 complete! (hamadyndiaye)\n",
      "342/655 complete! (ryanreid)\n",
      "343/655 complete! (derrickcaracter)\n",
      "344/655 complete! (blakegriffin)\n",
      "345/655 complete! (hasheemthabeet)\n",
      "346/655 complete! (jamesharden)\n",
      "347/655 complete! (tyrekeevans)\n",
      "348/655 complete! (stephencurry)\n",
      "349/655 complete! (jordanhill)\n",
      "350/655 complete! (demarderozan)\n",
      "351/655 complete! (tylerhansbrough)\n",
      "352/655 complete! (earlclark)\n",
      "353/655 complete! (austindaye)\n",
      "354/655 complete! (jamesjohnson)\n",
      "355/655 complete! (jrueholiday)\n",
      "356/655 complete! (tylawson)\n",
      "357/655 complete! (jeffteague)\n",
      "358/655 complete! (ericmaynor)\n",
      "359/655 complete! (darrencollison)\n",
      "360/655 complete! (byronmullens)\n",
      "361/655 complete! (tajgibson)\n",
      "362/655 complete! (demarrecarroll)\n",
      "363/655 complete! (wayneellington)\n",
      "364/655 complete! (toneydouglas)\n",
      "365/655 complete! (jeffayres)\n",
      "366/655 complete! (jermainetaylor)\n",
      "367/655 complete! (dantecunningham)\n",
      "368/655 complete! (dajuansummers)\n",
      "369/655 complete! (samyoung)\n",
      "370/655 complete! (jonbrockman)\n",
      "371/655 complete! (derrickbrown)\n",
      "372/655 complete! (jodiemeeks)\n",
      "373/655 complete! (patrickbeverley)\n",
      "374/655 complete! (chasebudinger)\n",
      "375/655 complete! (nickcalathes)\n",
      "376/655 complete! (dannygreen)\n",
      "377/655 complete! (taylorgriffin)\n",
      "378/655 complete! (ajprice)\n",
      "379/655 complete! (pattymills)\n",
      "380/655 complete! (lesterhudson)\n",
      "381/655 complete! (derrickrose)\n",
      "382/655 complete! (michaelbeasley)\n",
      "383/655 complete! (ojmayo)\n",
      "384/655 complete! (russellwestbrook)\n",
      "385/655 complete! (kevinlove)\n",
      "386/655 complete! (ericgordon)\n",
      "387/655 complete! (joealexander)\n",
      "388/655 complete! (djaugustin)\n",
      "389/655 complete! (brooklopez)\n",
      "390/655 complete! (jerrydbayless)\n",
      "391/655 complete! (jasonthompson)\n",
      "392/655 complete! (brandonrush)\n",
      "393/655 complete! (anthonyrandolph)\n",
      "394/655 complete! (robinlopez)\n",
      "395/655 complete! (marreesespeights)\n",
      "396/655 complete! (royhibbert)\n",
      "397/655 complete! (javalemcgee)\n",
      "398/655 complete! (ryananderson)\n",
      "399/655 complete! (courtneylee)\n",
      "400/655 complete! (kostakoufos)\n",
      "401/655 complete! (georgehill)\n",
      "402/655 complete! (darrellarthur)\n",
      "403/655 complete! (dontegreene)\n",
      "404/655 complete! (djwhite)\n",
      "405/655 complete! (jrgiddens)\n",
      "406/655 complete! (waltersharpe)\n",
      "407/655 complete! (joeydorsey)\n",
      "408/655 complete! (mariochalmers)\n",
      "409/655 complete! (deandrejordan)\n",
      "410/655 complete! (lucmbahamoute)\n",
      "411/655 complete! (kyleweaver)\n",
      "412/655 complete! (sonnyweems)\n",
      "413/655 complete! (chrisdouglasroberts)\n",
      "414/655 complete! (seansingletary)\n",
      "415/655 complete! (patrickewing)\n",
      "416/655 complete! (henrywalker)\n",
      "417/655 complete! (malikhairston)\n",
      "418/655 complete! (darnelljackson)\n",
      "419/655 complete! (joecrawford)\n",
      "420/655 complete! (gregoden)\n",
      "421/655 complete! (kevindurant)\n",
      "422/655 complete! (alhorford)\n",
      "423/655 complete! (mikeconley)\n",
      "424/655 complete! (jeffgreen)\n",
      "425/655 complete! (coreybrewer)\n",
      "426/655 complete! (brandanwright)\n",
      "427/655 complete! (joakimnoah)\n",
      "428/655 complete! (spencerhawes)\n",
      "429/655 complete! (acielaw)\n",
      "430/655 complete! (thaddeusyoung)\n",
      "431/655 complete! (julianwright)\n",
      "432/655 complete! (rodneystuckey)\n",
      "433/655 complete! (nickyoung)\n",
      "434/655 complete! (seanwilliams)\n",
      "435/655 complete! (javariscrittenton)\n",
      "436/655 complete! (jasonsmith)\n",
      "437/655 complete! (daequancook)\n",
      "438/655 complete! (jareddudley)\n",
      "439/655 complete! (morrisalmond)\n",
      "440/655 complete! (aaronbrooks)\n",
      "441/655 complete! (arronafflalo)\n",
      "442/655 complete! (alandotucker)\n",
      "443/655 complete! (gabepruitt)\n",
      "444/655 complete! (marcuswilliams)\n",
      "445/655 complete! (nickfazekas)\n",
      "446/655 complete! (glendavis)\n",
      "447/655 complete! (jermareodavidson)\n",
      "448/655 complete! (joshmcroberts)\n",
      "449/655 complete! (chrisrichard)\n",
      "450/655 complete! (derrickbyars)\n",
      "451/655 complete! (dominicmcguire)\n",
      "452/655 complete! (aarongray)\n",
      "453/655 complete! (jamesoncurry)\n",
      "454/655 complete! (taureangreen)\n",
      "455/655 complete! (demetrisnichols)\n",
      "456/655 complete! (ramonsessions)\n",
      "457/655 complete! (djstrawberry)\n",
      "458/655 complete! (lamarcusaldridge)\n",
      "459/655 complete! (adammorrison)\n",
      "460/655 complete! (tyrusthomas)\n",
      "461/655 complete! (sheldenwilliams)\n",
      "462/655 complete! (brandonroy)\n",
      "463/655 complete! (randyfoye)\n",
      "464/655 complete! (rudygay)\n",
      "465/655 complete! (patrickobryant)\n",
      "466/655 complete! (jjredick)\n",
      "467/655 complete! (hiltonarmstrong)\n",
      "468/655 complete! (ronniebrewer)\n",
      "469/655 complete! (cedricsimmons)\n",
      "470/655 complete! (rodneycarney)\n",
      "471/655 complete! (shawnewilliams)\n",
      "472/655 complete! (quincydouby)\n",
      "473/655 complete! (renaldobalkman)\n",
      "474/655 complete! (rajonrondo)\n",
      "475/655 complete! (joshboone)\n",
      "476/655 complete! (kylelowry)\n",
      "477/655 complete! (shannonbrown)\n",
      "478/655 complete! (jordanfarmar)\n",
      "479/655 complete! (mauriceager)\n",
      "480/655 complete! (mardycollins)\n",
      "481/655 complete! (jameswhite)\n",
      "482/655 complete! (stevenovak)\n",
      "483/655 complete! (solomonjones)\n",
      "484/655 complete! (pjtucker)\n",
      "485/655 complete! (davidnoel)\n",
      "486/655 complete! (jamesaugustine)\n",
      "487/655 complete! (danielgibson)\n",
      "488/655 complete! (alexanderjohnson)\n",
      "489/655 complete! (deebrown)\n",
      "490/655 complete! (paulmillsap)\n",
      "491/655 complete! (leonpowe)\n",
      "492/655 complete! (ryanhollins)\n",
      "493/655 complete! (guillermodiaz)\n",
      "494/655 complete! (hassanadams)\n",
      "495/655 complete! (willblalock)\n",
      "496/655 complete! (andrewbogut)\n",
      "497/655 complete! (marvinwilliams)\n",
      "498/655 complete! (deronwilliams)\n",
      "499/655 complete! (chrispaul)\n",
      "500/655 complete! (charlievillanueva)\n",
      "501/655 complete! (channingfrye)\n",
      "502/655 complete! (ikediogu)\n",
      "503/655 complete! (rashadmccants)\n",
      "504/655 complete! (antoinewright)\n"
     ]
    },
    {
     "name": "stdout",
     "output_type": "stream",
     "text": [
      "505/655 complete! (joeygraham)\n",
      "506/655 complete! (dannygranger)\n",
      "507/655 complete! (hakimwarrick)\n",
      "508/655 complete! (juliushodge)\n",
      "509/655 complete! (naterobinson)\n",
      "510/655 complete! (jarrettjack)\n",
      "511/655 complete! (franciscogarcia)\n",
      "512/655 complete! (lutherhead)\n",
      "513/655 complete! (jasonmaxiell)\n",
      "514/655 complete! (linaskleiza)\n",
      "515/655 complete! (davidlee)\n",
      "516/655 complete! (salimstoudamire)\n",
      "517/655 complete! (danielewing)\n",
      "518/655 complete! (ronnyturiaf)\n",
      "519/655 complete! (travisdiener)\n",
      "520/655 complete! (vonwafer)\n",
      "521/655 complete! (braceywright)\n",
      "522/655 complete! (ryangomes)\n",
      "523/655 complete! (oriengreene)\n",
      "524/655 complete! (dijonthompson)\n",
      "525/655 complete! (alexacker)\n",
      "526/655 complete! (bengordon)\n",
      "527/655 complete! (devinharris)\n",
      "528/655 complete! (joshchildress)\n",
      "529/655 complete! (luoldeng)\n",
      "530/655 complete! (rafaelaraujo)\n",
      "531/655 complete! (andreiguodala)\n",
      "532/655 complete! (lukejackson)\n",
      "533/655 complete! (krishumphries)\n",
      "534/655 complete! (kirksnyder)\n",
      "535/655 complete! (jameernelson)\n",
      "536/655 complete! (tonyallen)\n",
      "537/655 complete! (kevinmartin)\n",
      "538/655 complete! (jacksonvroman)\n",
      "539/655 complete! (lionelchalmers)\n",
      "540/655 complete! (andreemmett)\n",
      "541/655 complete! (antonioburks)\n",
      "542/655 complete! (royalivey)\n",
      "543/655 complete! (chrisduhon)\n",
      "544/655 complete! (justinreed)\n",
      "545/655 complete! (trevorariza)\n",
      "546/655 complete! (mattfreije)\n",
      "547/655 complete! (carmeloanthony)\n",
      "548/655 complete! (chrisbosh)\n",
      "549/655 complete! (dwyanewade)\n",
      "550/655 complete! (chriskaman)\n",
      "551/655 complete! (kirkhinrich)\n",
      "552/655 complete! (tjford)\n",
      "553/655 complete! (jarvishayes)\n",
      "554/655 complete! (nickcollison)\n",
      "555/655 complete! (marcusbanks)\n",
      "556/655 complete! (lukeridnour)\n",
      "557/655 complete! (reecegaines)\n",
      "558/655 complete! (dahntayjones)\n",
      "559/655 complete! (briancook)\n",
      "560/655 complete! (joshhoward)\n",
      "561/655 complete! (jasonkapono)\n",
      "562/655 complete! (lukewalton)\n",
      "563/655 complete! (travishansen)\n",
      "564/655 complete! (williegreen)\n",
      "565/655 complete! (keithbogans)\n",
      "566/655 complete! (mattbonner)\n",
      "567/655 complete! (mowilliams)\n",
      "568/655 complete! (jamesjones)\n",
      "569/655 complete! (kylekorver)\n",
      "570/655 complete! (mikedunleavy)\n",
      "571/655 complete! (drewgooden)\n",
      "572/655 complete! (dajuanwagner)\n",
      "573/655 complete! (chriswilcox)\n",
      "574/655 complete! (caronbutler)\n",
      "575/655 complete! (jaredjeffries)\n",
      "576/655 complete! (melvinely)\n",
      "577/655 complete! (marcushaislip)\n",
      "578/655 complete! (fredjones)\n",
      "579/655 complete! (curtisborchardt)\n",
      "580/655 complete! (ryanhumphrey)\n",
      "581/655 complete! (kareemrush)\n",
      "582/655 complete! (tayshaunprince)\n",
      "583/655 complete! (frankwilliams)\n",
      "584/655 complete! (johnsalmons)\n",
      "585/655 complete! (chrisjefferies)\n",
      "586/655 complete! (rogermason)\n",
      "587/655 complete! (robertarchibald)\n",
      "588/655 complete! (vincentyarbrough)\n",
      "589/655 complete! (dangadzuric)\n",
      "590/655 complete! (titomaddox)\n",
      "591/655 complete! (mattbarnes)\n",
      "592/655 complete! (chrisowens)\n",
      "593/655 complete! (dariussongaila)\n",
      "594/655 complete! (rasualbutler)\n",
      "595/655 complete! (tamarslay)\n",
      "596/655 complete! (jasonrichardson)\n",
      "597/655 complete! (shanebattier)\n",
      "598/655 complete! (eddiegriffin)\n",
      "599/655 complete! (rodneywhite)\n",
      "600/655 complete! (joejohnson)\n",
      "601/655 complete! (richardjefferson)\n",
      "602/655 complete! (troymurphy)\n",
      "603/655 complete! (stevenhunter)\n",
      "604/655 complete! (kirkhaston)\n",
      "605/655 complete! (michaelbradley)\n",
      "606/655 complete! (jasoncollins)\n",
      "607/655 complete! (zachrandolph)\n",
      "608/655 complete! (brendanhaywood)\n",
      "609/655 complete! (jerylsasser)\n",
      "610/655 complete! (brandonarmstrong)\n",
      "611/655 complete! (geraldwallace)\n",
      "612/655 complete! (jamaaltinsley)\n",
      "613/655 complete! (trentonhassell)\n",
      "614/655 complete! (omarcook)\n",
      "615/655 complete! (willsolomon)\n",
      "616/655 complete! (terencemorris)\n",
      "617/655 complete! (brianscalabrine)\n",
      "618/655 complete! (jefftrepagnier)\n",
      "619/655 complete! (damonebrown)\n",
      "620/655 complete! (earlwatson)\n",
      "621/655 complete! (jamisonbrewer)\n",
      "622/655 complete! (bobbysimmons)\n",
      "623/655 complete! (seanlampley)\n",
      "624/655 complete! (lorenwoods)\n",
      "625/655 complete! (kenjohnson)\n",
      "626/655 complete! (rubenboumtjeboumtje)\n",
      "627/655 complete! (altonford)\n",
      "628/655 complete! (jarroncollins)\n",
      "629/655 complete! (kennysatterfield)\n",
      "630/655 complete! (stromileswift)\n",
      "631/655 complete! (mikemiller)\n",
      "632/655 complete! (dermarrjohnson)\n",
      "633/655 complete! (jamalcrawford)\n",
      "634/655 complete! (joelprzybilla)\n",
      "635/655 complete! (keyondooling)\n",
      "636/655 complete! (jeromemoiso)\n",
      "637/655 complete! (etanthomas)\n",
      "638/655 complete! (courtneyalexander)\n",
      "639/655 complete! (jasoncollier)\n",
      "640/655 complete! (desmondmason)\n",
      "641/655 complete! (quentinrichardson)\n",
      "642/655 complete! (jamaalmagloire)\n",
      "643/655 complete! (speedyclaxton)\n",
      "644/655 complete! (morrispeterson)\n",
      "645/655 complete! (donnellharvey)\n",
      "646/655 complete! (mamadoundiaye)\n",
      "647/655 complete! (danlanghi)\n",
      "648/655 complete! (jakevoskuhl)\n",
      "649/655 complete! (eddiehouse)\n",
      "650/655 complete! (eduardonajera)\n",
      "651/655 complete! (michaelredd)\n",
      "652/655 complete! (briancardinal)\n",
      "653/655 complete! (jabarismith)\n",
      "654/655 complete! (jasonhart)\n",
      "655/655 complete! (kanieldickens)\n"
     ]
    }
   ],
   "source": [
    "# Do the actual loop to get predicted values\n",
    "loo = LeaveOneOut()\n",
    "preds = pd.DataFrame(index=scaledDraft.index, columns=[\"WM_pred\"])\n",
    "\n",
    "model = create_KNN()\n",
    "for _, test_index in loo.split(draftX):\n",
    "\n",
    "    # Split the data according to the oversampling\n",
    "    # X_test, Y_test = draftX.loc[test_index[0]:test_index[0]], draftY.loc[test_index[0]:test_index[0]]\n",
    "    X_test, Y_test = draftX.iloc[test_index[0]:test_index[0]+1], draftY.iloc[test_index[0]:test_index[0]+1]\n",
    "    # X_test, Y_test = draftX.loc[test_index], draftY.loc[test_index]\n",
    "    X_train = oversampledX.drop([test_index[0]], axis=0, inplace=False)\n",
    "    Y_train = oversampledY.drop([test_index[0]], axis=0, inplace=False)\n",
    "    \n",
    "    # Make sure no occurances of test in training\n",
    "    X_train = X_train[X_train.index!=X_test.index.values[0]]\n",
    "    Y_train = Y_train[X_train.index!=X_test.index.values[0]]\n",
    "    \n",
    "    # Convert the input to tensors\n",
    "    # X_train = tf.convert_to_tensor(X_train, dtype=tf.float32)\n",
    "    # Y_train = tf.convert_to_tensor(Y_train, dtype=tf.float32)\n",
    "    old_X_test = X_test\n",
    "    # X_test = tf.convert_to_tensor(X_test, dtype=tf.float32)\n",
    "    \n",
    "    # Generate the model\n",
    "    model.fit(X_train, Y_train)\n",
    "    preds[\"WM_pred\"].iloc[test_index] = model.predict(X_test)\n",
    "    \n",
    "    # Now we use that trained model to make predictions on all of the team combinations\n",
    "    key = scaledDraft.loc[test_index][\"Player\"].values[0]\n",
    "    teamFeaturesDic = teamFeatures[key]\n",
    "    teamFeaturesDic['WM_pred'] = np.nan\n",
    "\n",
    "    targetColLoc = teamFeaturesDic.columns.get_loc(\"WM_pred\")\n",
    "    for i in range(len(teamFeaturesDic)):\n",
    "        team = teamFeaturesDic.iloc[i][\"Team\"]\n",
    "        teamData = teamFeaturesDic.iloc[i:i+1][nba_features]\n",
    "        # Merge it with the other features\n",
    "        for col in allCols: \n",
    "            teamData[col] = old_X_test[col].values[0]\n",
    "\n",
    "        # Do the predictions\n",
    "        teamFeaturesDic.iloc[i, targetColLoc] = model.predict(teamData)\n",
    "        \n",
    "    teamFeatures[key] = teamFeaturesDic\n",
    "    \n",
    "    print(\"{}/{} complete! ({})\".format(test_index[0]+1, len(draftX), key))\n",
    "    \n",
    "scaledDraft = pd.concat([scaledDraft, preds], axis=1, sort=False)\n",
    "datatypes = {\"WM_pred\":float}\n",
    "scaledDraft = scaledDraft.astype(datatypes)"
   ]
  },
  {
   "cell_type": "code",
   "execution_count": 10,
   "metadata": {},
   "outputs": [
    {
     "name": "stdout",
     "output_type": "stream",
     "text": [
      "WM MSE: 4.7084797181122315\n"
     ]
    },
    {
     "data": {
      "image/png": "[encoded data removed]",
      "text/plain": [
       "<Figure size 700x500 with 1 Axes>"
      ]
     },
     "metadata": {
      "needs_background": "light"
     },
     "output_type": "display_data"
    }
   ],
   "source": [
    "# Calculate some of the errors\n",
    "\n",
    "print(\"WM MSE: {}\".format(mean_squared_error(scaledDraft.loc[scaledDraft[\"WM\"].isnull()==False][\"WM\"], \n",
    "                                             preds.loc[scaledDraft[\"WM\"].isnull()==False][\"WM_pred\"], \n",
    "                                             squared=True)))\n",
    "\n",
    "# Some plotting of these\n",
    "import seaborn as sns\n",
    "\n",
    "plt.figure(figsize=(7,5), dpi=100)\n",
    "plt.title(\"Violin Plot of Wins Made\")\n",
    "plt.grid()\n",
    "plotData = scaledDraft[[\"WM\", \"WM_pred\"]].melt().assign(x=\"\")\n",
    "sns.violinplot(data=plotData, x=\"x\", y=\"value\", hue=\"variable\", inner=\"quartile\", split=True)\n",
    "plt.ylabel(\"Wins Made\")\n",
    "plt.xlabel(\"\")\n",
    "plt.show()\n"
   ]
  },
  {
   "cell_type": "code",
   "execution_count": 11,
   "metadata": {
    "scrolled": true
   },
   "outputs": [
    {
     "name": "stdout",
     "output_type": "stream",
     "text": [
      "YEAR: 2000, TEAM: PHI\n"
     ]
    },
    {
     "name": "stderr",
     "output_type": "stream",
     "text": [
      "<ipython-input-11-4fc66cc84f35>:23: SettingWithCopyWarning: \n",
      "A value is trying to be set on a copy of a slice from a DataFrame\n",
      "\n",
      "See the caveats in the documentation: https://pandas.pydata.org/pandas-docs/stable/user_guide/indexing.html#returning-a-view-versus-a-copy\n",
      "  yearDraftData.sort_values(by=[\"overallPick\"], inplace=True)\n",
      "<ipython-input-11-4fc66cc84f35>:53: DeprecationWarning: The default dtype for empty Series will be 'object' instead of 'float64' in a future version. Specify a dtype explicitly to silence this warning.\n",
      "  teamSeries = pd.Series(index=[\"team\", \"oldPick\", \"newPick\", \"year\", \"overallPick\"])\n",
      "<ipython-input-11-4fc66cc84f35>:53: DeprecationWarning: The default dtype for empty Series will be 'object' instead of 'float64' in a future version. Specify a dtype explicitly to silence this warning.\n",
      "  teamSeries = pd.Series(index=[\"team\", \"oldPick\", \"newPick\", \"year\", \"overallPick\"])\n"
     ]
    },
    {
     "name": "stdout",
     "output_type": "stream",
     "text": [
      "YEAR: 2000, TEAM: LAL\n",
      "YEAR: 2000, TEAM: BOS\n",
      "YEAR: 2000, TEAM: PHO\n",
      "YEAR: 2000, TEAM: SAC\n",
      "YEAR: 2000, TEAM: ORL\n",
      "YEAR: 2000, TEAM: MIN\n",
      "YEAR: 2000, TEAM: DAL\n",
      "YEAR: 2000, TEAM: CHO\n",
      "YEAR: 2000, TEAM: DET\n"
     ]
    },
    {
     "name": "stderr",
     "output_type": "stream",
     "text": [
      "<ipython-input-11-4fc66cc84f35>:53: DeprecationWarning: The default dtype for empty Series will be 'object' instead of 'float64' in a future version. Specify a dtype explicitly to silence this warning.\n",
      "  teamSeries = pd.Series(index=[\"team\", \"oldPick\", \"newPick\", \"year\", \"overallPick\"])\n",
      "<ipython-input-11-4fc66cc84f35>:53: DeprecationWarning: The default dtype for empty Series will be 'object' instead of 'float64' in a future version. Specify a dtype explicitly to silence this warning.\n",
      "  teamSeries = pd.Series(index=[\"team\", \"oldPick\", \"newPick\", \"year\", \"overallPick\"])\n",
      "<ipython-input-11-4fc66cc84f35>:53: DeprecationWarning: The default dtype for empty Series will be 'object' instead of 'float64' in a future version. Specify a dtype explicitly to silence this warning.\n",
      "  teamSeries = pd.Series(index=[\"team\", \"oldPick\", \"newPick\", \"year\", \"overallPick\"])\n",
      "<ipython-input-11-4fc66cc84f35>:53: DeprecationWarning: The default dtype for empty Series will be 'object' instead of 'float64' in a future version. Specify a dtype explicitly to silence this warning.\n",
      "  teamSeries = pd.Series(index=[\"team\", \"oldPick\", \"newPick\", \"year\", \"overallPick\"])\n",
      "<ipython-input-11-4fc66cc84f35>:53: DeprecationWarning: The default dtype for empty Series will be 'object' instead of 'float64' in a future version. Specify a dtype explicitly to silence this warning.\n",
      "  teamSeries = pd.Series(index=[\"team\", \"oldPick\", \"newPick\", \"year\", \"overallPick\"])\n",
      "<ipython-input-11-4fc66cc84f35>:53: DeprecationWarning: The default dtype for empty Series will be 'object' instead of 'float64' in a future version. Specify a dtype explicitly to silence this warning.\n",
      "  teamSeries = pd.Series(index=[\"team\", \"oldPick\", \"newPick\", \"year\", \"overallPick\"])\n",
      "<ipython-input-11-4fc66cc84f35>:53: DeprecationWarning: The default dtype for empty Series will be 'object' instead of 'float64' in a future version. Specify a dtype explicitly to silence this warning.\n",
      "  teamSeries = pd.Series(index=[\"team\", \"oldPick\", \"newPick\", \"year\", \"overallPick\"])\n",
      "<ipython-input-11-4fc66cc84f35>:53: DeprecationWarning: The default dtype for empty Series will be 'object' instead of 'float64' in a future version. Specify a dtype explicitly to silence this warning.\n",
      "  teamSeries = pd.Series(index=[\"team\", \"oldPick\", \"newPick\", \"year\", \"overallPick\"])\n"
     ]
    },
    {
     "name": "stdout",
     "output_type": "stream",
     "text": [
      "YEAR: 2000, TEAM: DEN\n",
      "YEAR: 2000, TEAM: MIA\n",
      "YEAR: 2000, TEAM: CHI\n",
      "YEAR: 2000, TEAM: MIL\n",
      "YEAR: 2000, TEAM: IND\n",
      "YEAR: 2000, TEAM: ATL\n",
      "YEAR: 2000, TEAM: POR\n",
      "YEAR: 2000, TEAM: BRK\n"
     ]
    },
    {
     "name": "stderr",
     "output_type": "stream",
     "text": [
      "<ipython-input-11-4fc66cc84f35>:53: DeprecationWarning: The default dtype for empty Series will be 'object' instead of 'float64' in a future version. Specify a dtype explicitly to silence this warning.\n",
      "  teamSeries = pd.Series(index=[\"team\", \"oldPick\", \"newPick\", \"year\", \"overallPick\"])\n",
      "<ipython-input-11-4fc66cc84f35>:53: DeprecationWarning: The default dtype for empty Series will be 'object' instead of 'float64' in a future version. Specify a dtype explicitly to silence this warning.\n",
      "  teamSeries = pd.Series(index=[\"team\", \"oldPick\", \"newPick\", \"year\", \"overallPick\"])\n",
      "<ipython-input-11-4fc66cc84f35>:53: DeprecationWarning: The default dtype for empty Series will be 'object' instead of 'float64' in a future version. Specify a dtype explicitly to silence this warning.\n",
      "  teamSeries = pd.Series(index=[\"team\", \"oldPick\", \"newPick\", \"year\", \"overallPick\"])\n"
     ]
    },
    {
     "name": "stdout",
     "output_type": "stream",
     "text": [
      "YEAR: 2000, TEAM: TOR\n",
      "YEAR: 2000, TEAM: UTA\n",
      "YEAR: 2000, TEAM: SAS\n",
      "YEAR: 2000, TEAM: NOP\n",
      "YEAR: 2000, TEAM: NYK\n",
      "YEAR: 2000, TEAM: HOU\n",
      "YEAR: 2000, TEAM: LAC\n",
      "YEAR: 2000, TEAM: GSW\n"
     ]
    },
    {
     "name": "stderr",
     "output_type": "stream",
     "text": [
      "<ipython-input-11-4fc66cc84f35>:53: DeprecationWarning: The default dtype for empty Series will be 'object' instead of 'float64' in a future version. Specify a dtype explicitly to silence this warning.\n",
      "  teamSeries = pd.Series(index=[\"team\", \"oldPick\", \"newPick\", \"year\", \"overallPick\"])\n",
      "<ipython-input-11-4fc66cc84f35>:53: DeprecationWarning: The default dtype for empty Series will be 'object' instead of 'float64' in a future version. Specify a dtype explicitly to silence this warning.\n",
      "  teamSeries = pd.Series(index=[\"team\", \"oldPick\", \"newPick\", \"year\", \"overallPick\"])\n",
      "<ipython-input-11-4fc66cc84f35>:53: DeprecationWarning: The default dtype for empty Series will be 'object' instead of 'float64' in a future version. Specify a dtype explicitly to silence this warning.\n",
      "  teamSeries = pd.Series(index=[\"team\", \"oldPick\", \"newPick\", \"year\", \"overallPick\"])\n",
      "<ipython-input-11-4fc66cc84f35>:53: DeprecationWarning: The default dtype for empty Series will be 'object' instead of 'float64' in a future version. Specify a dtype explicitly to silence this warning.\n",
      "  teamSeries = pd.Series(index=[\"team\", \"oldPick\", \"newPick\", \"year\", \"overallPick\"])\n",
      "<ipython-input-11-4fc66cc84f35>:53: DeprecationWarning: The default dtype for empty Series will be 'object' instead of 'float64' in a future version. Specify a dtype explicitly to silence this warning.\n",
      "  teamSeries = pd.Series(index=[\"team\", \"oldPick\", \"newPick\", \"year\", \"overallPick\"])\n"
     ]
    },
    {
     "name": "stdout",
     "output_type": "stream",
     "text": [
      "YEAR: 2000, TEAM: OKC\n",
      "YEAR: 2000, TEAM: WAS\n",
      "YEAR: 2000, TEAM: CLE\n",
      "YEAR: 2000, TEAM: MEM\n",
      "YEAR: 2001, TEAM: PHI\n",
      "YEAR: 2001, TEAM: LAL\n",
      "YEAR: 2001, TEAM: BOS\n",
      "YEAR: 2001, TEAM: PHO\n"
     ]
    },
    {
     "name": "stderr",
     "output_type": "stream",
     "text": [
      "<ipython-input-11-4fc66cc84f35>:53: DeprecationWarning: The default dtype for empty Series will be 'object' instead of 'float64' in a future version. Specify a dtype explicitly to silence this warning.\n",
      "  teamSeries = pd.Series(index=[\"team\", \"oldPick\", \"newPick\", \"year\", \"overallPick\"])\n",
      "<ipython-input-11-4fc66cc84f35>:53: DeprecationWarning: The default dtype for empty Series will be 'object' instead of 'float64' in a future version. Specify a dtype explicitly to silence this warning.\n",
      "  teamSeries = pd.Series(index=[\"team\", \"oldPick\", \"newPick\", \"year\", \"overallPick\"])\n",
      "<ipython-input-11-4fc66cc84f35>:23: SettingWithCopyWarning: \n",
      "A value is trying to be set on a copy of a slice from a DataFrame\n",
      "\n",
      "See the caveats in the documentation: https://pandas.pydata.org/pandas-docs/stable/user_guide/indexing.html#returning-a-view-versus-a-copy\n",
      "  yearDraftData.sort_values(by=[\"overallPick\"], inplace=True)\n",
      "<ipython-input-11-4fc66cc84f35>:53: DeprecationWarning: The default dtype for empty Series will be 'object' instead of 'float64' in a future version. Specify a dtype explicitly to silence this warning.\n",
      "  teamSeries = pd.Series(index=[\"team\", \"oldPick\", \"newPick\", \"year\", \"overallPick\"])\n",
      "<ipython-input-11-4fc66cc84f35>:53: DeprecationWarning: The default dtype for empty Series will be 'object' instead of 'float64' in a future version. Specify a dtype explicitly to silence this warning.\n",
      "  teamSeries = pd.Series(index=[\"team\", \"oldPick\", \"newPick\", \"year\", \"overallPick\"])\n",
      "<ipython-input-11-4fc66cc84f35>:53: DeprecationWarning: The default dtype for empty Series will be 'object' instead of 'float64' in a future version. Specify a dtype explicitly to silence this warning.\n",
      "  teamSeries = pd.Series(index=[\"team\", \"oldPick\", \"newPick\", \"year\", \"overallPick\"])\n"
     ]
    },
    {
     "name": "stdout",
     "output_type": "stream",
     "text": [
      "YEAR: 2001, TEAM: SAC\n",
      "YEAR: 2001, TEAM: ORL\n",
      "YEAR: 2001, TEAM: MIN\n",
      "YEAR: 2001, TEAM: DAL\n",
      "YEAR: 2001, TEAM: CHO\n",
      "YEAR: 2001, TEAM: DET\n"
     ]
    },
    {
     "name": "stderr",
     "output_type": "stream",
     "text": [
      "<ipython-input-11-4fc66cc84f35>:53: DeprecationWarning: The default dtype for empty Series will be 'object' instead of 'float64' in a future version. Specify a dtype explicitly to silence this warning.\n",
      "  teamSeries = pd.Series(index=[\"team\", \"oldPick\", \"newPick\", \"year\", \"overallPick\"])\n",
      "<ipython-input-11-4fc66cc84f35>:53: DeprecationWarning: The default dtype for empty Series will be 'object' instead of 'float64' in a future version. Specify a dtype explicitly to silence this warning.\n",
      "  teamSeries = pd.Series(index=[\"team\", \"oldPick\", \"newPick\", \"year\", \"overallPick\"])\n",
      "<ipython-input-11-4fc66cc84f35>:53: DeprecationWarning: The default dtype for empty Series will be 'object' instead of 'float64' in a future version. Specify a dtype explicitly to silence this warning.\n",
      "  teamSeries = pd.Series(index=[\"team\", \"oldPick\", \"newPick\", \"year\", \"overallPick\"])\n",
      "<ipython-input-11-4fc66cc84f35>:53: DeprecationWarning: The default dtype for empty Series will be 'object' instead of 'float64' in a future version. Specify a dtype explicitly to silence this warning.\n",
      "  teamSeries = pd.Series(index=[\"team\", \"oldPick\", \"newPick\", \"year\", \"overallPick\"])\n",
      "<ipython-input-11-4fc66cc84f35>:53: DeprecationWarning: The default dtype for empty Series will be 'object' instead of 'float64' in a future version. Specify a dtype explicitly to silence this warning.\n",
      "  teamSeries = pd.Series(index=[\"team\", \"oldPick\", \"newPick\", \"year\", \"overallPick\"])\n",
      "<ipython-input-11-4fc66cc84f35>:53: DeprecationWarning: The default dtype for empty Series will be 'object' instead of 'float64' in a future version. Specify a dtype explicitly to silence this warning.\n",
      "  teamSeries = pd.Series(index=[\"team\", \"oldPick\", \"newPick\", \"year\", \"overallPick\"])\n"
     ]
    },
    {
     "name": "stdout",
     "output_type": "stream",
     "text": [
      "YEAR: 2001, TEAM: DEN\n",
      "YEAR: 2001, TEAM: MIA\n",
      "YEAR: 2001, TEAM: CHI\n",
      "YEAR: 2001, TEAM: MIL\n",
      "YEAR: 2001, TEAM: IND\n",
      "YEAR: 2001, TEAM: ATL\n",
      "YEAR: 2001, TEAM: POR\n"
     ]
    },
    {
     "name": "stderr",
     "output_type": "stream",
     "text": [
      "<ipython-input-11-4fc66cc84f35>:53: DeprecationWarning: The default dtype for empty Series will be 'object' instead of 'float64' in a future version. Specify a dtype explicitly to silence this warning.\n",
      "  teamSeries = pd.Series(index=[\"team\", \"oldPick\", \"newPick\", \"year\", \"overallPick\"])\n",
      "<ipython-input-11-4fc66cc84f35>:53: DeprecationWarning: The default dtype for empty Series will be 'object' instead of 'float64' in a future version. Specify a dtype explicitly to silence this warning.\n",
      "  teamSeries = pd.Series(index=[\"team\", \"oldPick\", \"newPick\", \"year\", \"overallPick\"])\n",
      "<ipython-input-11-4fc66cc84f35>:53: DeprecationWarning: The default dtype for empty Series will be 'object' instead of 'float64' in a future version. Specify a dtype explicitly to silence this warning.\n",
      "  teamSeries = pd.Series(index=[\"team\", \"oldPick\", \"newPick\", \"year\", \"overallPick\"])\n",
      "<ipython-input-11-4fc66cc84f35>:53: DeprecationWarning: The default dtype for empty Series will be 'object' instead of 'float64' in a future version. Specify a dtype explicitly to silence this warning.\n",
      "  teamSeries = pd.Series(index=[\"team\", \"oldPick\", \"newPick\", \"year\", \"overallPick\"])\n",
      "<ipython-input-11-4fc66cc84f35>:53: DeprecationWarning: The default dtype for empty Series will be 'object' instead of 'float64' in a future version. Specify a dtype explicitly to silence this warning.\n",
      "  teamSeries = pd.Series(index=[\"team\", \"oldPick\", \"newPick\", \"year\", \"overallPick\"])\n"
     ]
    },
    {
     "name": "stdout",
     "output_type": "stream",
     "text": [
      "YEAR: 2001, TEAM: BRK\n",
      "YEAR: 2001, TEAM: TOR\n",
      "YEAR: 2001, TEAM: UTA\n",
      "YEAR: 2001, TEAM: SAS\n",
      "YEAR: 2001, TEAM: NOP\n",
      "YEAR: 2001, TEAM: NYK\n",
      "YEAR: 2001, TEAM: HOU\n"
     ]
    },
    {
     "name": "stderr",
     "output_type": "stream",
     "text": [
      "<ipython-input-11-4fc66cc84f35>:53: DeprecationWarning: The default dtype for empty Series will be 'object' instead of 'float64' in a future version. Specify a dtype explicitly to silence this warning.\n",
      "  teamSeries = pd.Series(index=[\"team\", \"oldPick\", \"newPick\", \"year\", \"overallPick\"])\n",
      "<ipython-input-11-4fc66cc84f35>:53: DeprecationWarning: The default dtype for empty Series will be 'object' instead of 'float64' in a future version. Specify a dtype explicitly to silence this warning.\n",
      "  teamSeries = pd.Series(index=[\"team\", \"oldPick\", \"newPick\", \"year\", \"overallPick\"])\n",
      "<ipython-input-11-4fc66cc84f35>:53: DeprecationWarning: The default dtype for empty Series will be 'object' instead of 'float64' in a future version. Specify a dtype explicitly to silence this warning.\n",
      "  teamSeries = pd.Series(index=[\"team\", \"oldPick\", \"newPick\", \"year\", \"overallPick\"])\n"
     ]
    },
    {
     "name": "stdout",
     "output_type": "stream",
     "text": [
      "YEAR: 2001, TEAM: LAC\n",
      "YEAR: 2001, TEAM: GSW\n",
      "YEAR: 2001, TEAM: OKC\n"
     ]
    },
    {
     "name": "stderr",
     "output_type": "stream",
     "text": [
      "<ipython-input-11-4fc66cc84f35>:53: DeprecationWarning: The default dtype for empty Series will be 'object' instead of 'float64' in a future version. Specify a dtype explicitly to silence this warning.\n",
      "  teamSeries = pd.Series(index=[\"team\", \"oldPick\", \"newPick\", \"year\", \"overallPick\"])\n",
      "<ipython-input-11-4fc66cc84f35>:53: DeprecationWarning: The default dtype for empty Series will be 'object' instead of 'float64' in a future version. Specify a dtype explicitly to silence this warning.\n",
      "  teamSeries = pd.Series(index=[\"team\", \"oldPick\", \"newPick\", \"year\", \"overallPick\"])\n",
      "<ipython-input-11-4fc66cc84f35>:53: DeprecationWarning: The default dtype for empty Series will be 'object' instead of 'float64' in a future version. Specify a dtype explicitly to silence this warning.\n",
      "  teamSeries = pd.Series(index=[\"team\", \"oldPick\", \"newPick\", \"year\", \"overallPick\"])\n",
      "<ipython-input-11-4fc66cc84f35>:53: DeprecationWarning: The default dtype for empty Series will be 'object' instead of 'float64' in a future version. Specify a dtype explicitly to silence this warning.\n",
      "  teamSeries = pd.Series(index=[\"team\", \"oldPick\", \"newPick\", \"year\", \"overallPick\"])\n"
     ]
    },
    {
     "name": "stdout",
     "output_type": "stream",
     "text": [
      "YEAR: 2001, TEAM: WAS\n",
      "YEAR: 2001, TEAM: CLE\n",
      "YEAR: 2001, TEAM: MEM\n",
      "YEAR: 2002, TEAM: PHI\n",
      "YEAR: 2002, TEAM: LAL\n",
      "YEAR: 2002, TEAM: BOS\n",
      "YEAR: 2002, TEAM: PHO\n"
     ]
    },
    {
     "name": "stderr",
     "output_type": "stream",
     "text": [
      "<ipython-input-11-4fc66cc84f35>:53: DeprecationWarning: The default dtype for empty Series will be 'object' instead of 'float64' in a future version. Specify a dtype explicitly to silence this warning.\n",
      "  teamSeries = pd.Series(index=[\"team\", \"oldPick\", \"newPick\", \"year\", \"overallPick\"])\n",
      "<ipython-input-11-4fc66cc84f35>:23: SettingWithCopyWarning: \n",
      "A value is trying to be set on a copy of a slice from a DataFrame\n",
      "\n",
      "See the caveats in the documentation: https://pandas.pydata.org/pandas-docs/stable/user_guide/indexing.html#returning-a-view-versus-a-copy\n",
      "  yearDraftData.sort_values(by=[\"overallPick\"], inplace=True)\n",
      "<ipython-input-11-4fc66cc84f35>:53: DeprecationWarning: The default dtype for empty Series will be 'object' instead of 'float64' in a future version. Specify a dtype explicitly to silence this warning.\n",
      "  teamSeries = pd.Series(index=[\"team\", \"oldPick\", \"newPick\", \"year\", \"overallPick\"])\n",
      "<ipython-input-11-4fc66cc84f35>:53: DeprecationWarning: The default dtype for empty Series will be 'object' instead of 'float64' in a future version. Specify a dtype explicitly to silence this warning.\n",
      "  teamSeries = pd.Series(index=[\"team\", \"oldPick\", \"newPick\", \"year\", \"overallPick\"])\n"
     ]
    },
    {
     "name": "stdout",
     "output_type": "stream",
     "text": [
      "YEAR: 2002, TEAM: SAC\n",
      "YEAR: 2002, TEAM: ORL\n",
      "YEAR: 2002, TEAM: MIN\n",
      "YEAR: 2002, TEAM: DAL\n",
      "YEAR: 2002, TEAM: CHO\n",
      "YEAR: 2002, TEAM: DET\n",
      "YEAR: 2002, TEAM: DEN\n"
     ]
    },
    {
     "name": "stderr",
     "output_type": "stream",
     "text": [
      "<ipython-input-11-4fc66cc84f35>:53: DeprecationWarning: The default dtype for empty Series will be 'object' instead of 'float64' in a future version. Specify a dtype explicitly to silence this warning.\n",
      "  teamSeries = pd.Series(index=[\"team\", \"oldPick\", \"newPick\", \"year\", \"overallPick\"])\n",
      "<ipython-input-11-4fc66cc84f35>:53: DeprecationWarning: The default dtype for empty Series will be 'object' instead of 'float64' in a future version. Specify a dtype explicitly to silence this warning.\n",
      "  teamSeries = pd.Series(index=[\"team\", \"oldPick\", \"newPick\", \"year\", \"overallPick\"])\n",
      "<ipython-input-11-4fc66cc84f35>:53: DeprecationWarning: The default dtype for empty Series will be 'object' instead of 'float64' in a future version. Specify a dtype explicitly to silence this warning.\n",
      "  teamSeries = pd.Series(index=[\"team\", \"oldPick\", \"newPick\", \"year\", \"overallPick\"])\n",
      "<ipython-input-11-4fc66cc84f35>:53: DeprecationWarning: The default dtype for empty Series will be 'object' instead of 'float64' in a future version. Specify a dtype explicitly to silence this warning.\n",
      "  teamSeries = pd.Series(index=[\"team\", \"oldPick\", \"newPick\", \"year\", \"overallPick\"])\n",
      "<ipython-input-11-4fc66cc84f35>:53: DeprecationWarning: The default dtype for empty Series will be 'object' instead of 'float64' in a future version. Specify a dtype explicitly to silence this warning.\n",
      "  teamSeries = pd.Series(index=[\"team\", \"oldPick\", \"newPick\", \"year\", \"overallPick\"])\n",
      "<ipython-input-11-4fc66cc84f35>:53: DeprecationWarning: The default dtype for empty Series will be 'object' instead of 'float64' in a future version. Specify a dtype explicitly to silence this warning.\n",
      "  teamSeries = pd.Series(index=[\"team\", \"oldPick\", \"newPick\", \"year\", \"overallPick\"])\n",
      "<ipython-input-11-4fc66cc84f35>:53: DeprecationWarning: The default dtype for empty Series will be 'object' instead of 'float64' in a future version. Specify a dtype explicitly to silence this warning.\n",
      "  teamSeries = pd.Series(index=[\"team\", \"oldPick\", \"newPick\", \"year\", \"overallPick\"])\n"
     ]
    },
    {
     "name": "stdout",
     "output_type": "stream",
     "text": [
      "YEAR: 2002, TEAM: MIA\n",
      "YEAR: 2002, TEAM: CHI\n",
      "YEAR: 2002, TEAM: MIL\n",
      "YEAR: 2002, TEAM: IND\n",
      "YEAR: 2002, TEAM: ATL\n",
      "YEAR: 2002, TEAM: POR\n",
      "YEAR: 2002, TEAM: BRK\n"
     ]
    },
    {
     "name": "stderr",
     "output_type": "stream",
     "text": [
      "<ipython-input-11-4fc66cc84f35>:53: DeprecationWarning: The default dtype for empty Series will be 'object' instead of 'float64' in a future version. Specify a dtype explicitly to silence this warning.\n",
      "  teamSeries = pd.Series(index=[\"team\", \"oldPick\", \"newPick\", \"year\", \"overallPick\"])\n",
      "<ipython-input-11-4fc66cc84f35>:53: DeprecationWarning: The default dtype for empty Series will be 'object' instead of 'float64' in a future version. Specify a dtype explicitly to silence this warning.\n",
      "  teamSeries = pd.Series(index=[\"team\", \"oldPick\", \"newPick\", \"year\", \"overallPick\"])\n",
      "<ipython-input-11-4fc66cc84f35>:53: DeprecationWarning: The default dtype for empty Series will be 'object' instead of 'float64' in a future version. Specify a dtype explicitly to silence this warning.\n",
      "  teamSeries = pd.Series(index=[\"team\", \"oldPick\", \"newPick\", \"year\", \"overallPick\"])\n",
      "<ipython-input-11-4fc66cc84f35>:53: DeprecationWarning: The default dtype for empty Series will be 'object' instead of 'float64' in a future version. Specify a dtype explicitly to silence this warning.\n",
      "  teamSeries = pd.Series(index=[\"team\", \"oldPick\", \"newPick\", \"year\", \"overallPick\"])\n",
      "<ipython-input-11-4fc66cc84f35>:53: DeprecationWarning: The default dtype for empty Series will be 'object' instead of 'float64' in a future version. Specify a dtype explicitly to silence this warning.\n",
      "  teamSeries = pd.Series(index=[\"team\", \"oldPick\", \"newPick\", \"year\", \"overallPick\"])\n",
      "<ipython-input-11-4fc66cc84f35>:53: DeprecationWarning: The default dtype for empty Series will be 'object' instead of 'float64' in a future version. Specify a dtype explicitly to silence this warning.\n",
      "  teamSeries = pd.Series(index=[\"team\", \"oldPick\", \"newPick\", \"year\", \"overallPick\"])\n",
      "<ipython-input-11-4fc66cc84f35>:53: DeprecationWarning: The default dtype for empty Series will be 'object' instead of 'float64' in a future version. Specify a dtype explicitly to silence this warning.\n",
      "  teamSeries = pd.Series(index=[\"team\", \"oldPick\", \"newPick\", \"year\", \"overallPick\"])\n"
     ]
    },
    {
     "name": "stdout",
     "output_type": "stream",
     "text": [
      "YEAR: 2002, TEAM: TOR\n",
      "YEAR: 2002, TEAM: UTA\n",
      "YEAR: 2002, TEAM: SAS\n",
      "YEAR: 2002, TEAM: NOP\n",
      "YEAR: 2002, TEAM: NYK\n",
      "YEAR: 2002, TEAM: HOU\n",
      "YEAR: 2002, TEAM: LAC\n",
      "YEAR: 2002, TEAM: GSW\n"
     ]
    },
    {
     "name": "stderr",
     "output_type": "stream",
     "text": [
      "<ipython-input-11-4fc66cc84f35>:53: DeprecationWarning: The default dtype for empty Series will be 'object' instead of 'float64' in a future version. Specify a dtype explicitly to silence this warning.\n",
      "  teamSeries = pd.Series(index=[\"team\", \"oldPick\", \"newPick\", \"year\", \"overallPick\"])\n",
      "<ipython-input-11-4fc66cc84f35>:53: DeprecationWarning: The default dtype for empty Series will be 'object' instead of 'float64' in a future version. Specify a dtype explicitly to silence this warning.\n",
      "  teamSeries = pd.Series(index=[\"team\", \"oldPick\", \"newPick\", \"year\", \"overallPick\"])\n",
      "<ipython-input-11-4fc66cc84f35>:53: DeprecationWarning: The default dtype for empty Series will be 'object' instead of 'float64' in a future version. Specify a dtype explicitly to silence this warning.\n",
      "  teamSeries = pd.Series(index=[\"team\", \"oldPick\", \"newPick\", \"year\", \"overallPick\"])\n",
      "<ipython-input-11-4fc66cc84f35>:23: SettingWithCopyWarning: \n",
      "A value is trying to be set on a copy of a slice from a DataFrame\n",
      "\n",
      "See the caveats in the documentation: https://pandas.pydata.org/pandas-docs/stable/user_guide/indexing.html#returning-a-view-versus-a-copy\n",
      "  yearDraftData.sort_values(by=[\"overallPick\"], inplace=True)\n",
      "<ipython-input-11-4fc66cc84f35>:53: DeprecationWarning: The default dtype for empty Series will be 'object' instead of 'float64' in a future version. Specify a dtype explicitly to silence this warning.\n",
      "  teamSeries = pd.Series(index=[\"team\", \"oldPick\", \"newPick\", \"year\", \"overallPick\"])\n",
      "<ipython-input-11-4fc66cc84f35>:53: DeprecationWarning: The default dtype for empty Series will be 'object' instead of 'float64' in a future version. Specify a dtype explicitly to silence this warning.\n",
      "  teamSeries = pd.Series(index=[\"team\", \"oldPick\", \"newPick\", \"year\", \"overallPick\"])\n",
      "<ipython-input-11-4fc66cc84f35>:53: DeprecationWarning: The default dtype for empty Series will be 'object' instead of 'float64' in a future version. Specify a dtype explicitly to silence this warning.\n",
      "  teamSeries = pd.Series(index=[\"team\", \"oldPick\", \"newPick\", \"year\", \"overallPick\"])\n"
     ]
    },
    {
     "name": "stdout",
     "output_type": "stream",
     "text": [
      "YEAR: 2002, TEAM: OKC\n",
      "YEAR: 2002, TEAM: WAS\n",
      "YEAR: 2002, TEAM: CLE\n",
      "YEAR: 2002, TEAM: MEM\n",
      "YEAR: 2003, TEAM: PHI\n",
      "YEAR: 2003, TEAM: LAL\n",
      "YEAR: 2003, TEAM: BOS\n",
      "YEAR: 2003, TEAM: PHO\n",
      "YEAR: 2003, TEAM: SAC\n",
      "YEAR: 2003, TEAM: ORL\n",
      "YEAR: 2003, TEAM: MIN\n",
      "YEAR: 2003, TEAM: DAL\n"
     ]
    },
    {
     "name": "stderr",
     "output_type": "stream",
     "text": [
      "<ipython-input-11-4fc66cc84f35>:53: DeprecationWarning: The default dtype for empty Series will be 'object' instead of 'float64' in a future version. Specify a dtype explicitly to silence this warning.\n",
      "  teamSeries = pd.Series(index=[\"team\", \"oldPick\", \"newPick\", \"year\", \"overallPick\"])\n",
      "<ipython-input-11-4fc66cc84f35>:53: DeprecationWarning: The default dtype for empty Series will be 'object' instead of 'float64' in a future version. Specify a dtype explicitly to silence this warning.\n",
      "  teamSeries = pd.Series(index=[\"team\", \"oldPick\", \"newPick\", \"year\", \"overallPick\"])\n",
      "<ipython-input-11-4fc66cc84f35>:53: DeprecationWarning: The default dtype for empty Series will be 'object' instead of 'float64' in a future version. Specify a dtype explicitly to silence this warning.\n",
      "  teamSeries = pd.Series(index=[\"team\", \"oldPick\", \"newPick\", \"year\", \"overallPick\"])\n",
      "<ipython-input-11-4fc66cc84f35>:53: DeprecationWarning: The default dtype for empty Series will be 'object' instead of 'float64' in a future version. Specify a dtype explicitly to silence this warning.\n",
      "  teamSeries = pd.Series(index=[\"team\", \"oldPick\", \"newPick\", \"year\", \"overallPick\"])\n",
      "<ipython-input-11-4fc66cc84f35>:53: DeprecationWarning: The default dtype for empty Series will be 'object' instead of 'float64' in a future version. Specify a dtype explicitly to silence this warning.\n",
      "  teamSeries = pd.Series(index=[\"team\", \"oldPick\", \"newPick\", \"year\", \"overallPick\"])\n",
      "<ipython-input-11-4fc66cc84f35>:53: DeprecationWarning: The default dtype for empty Series will be 'object' instead of 'float64' in a future version. Specify a dtype explicitly to silence this warning.\n",
      "  teamSeries = pd.Series(index=[\"team\", \"oldPick\", \"newPick\", \"year\", \"overallPick\"])\n",
      "<ipython-input-11-4fc66cc84f35>:53: DeprecationWarning: The default dtype for empty Series will be 'object' instead of 'float64' in a future version. Specify a dtype explicitly to silence this warning.\n",
      "  teamSeries = pd.Series(index=[\"team\", \"oldPick\", \"newPick\", \"year\", \"overallPick\"])\n"
     ]
    },
    {
     "name": "stdout",
     "output_type": "stream",
     "text": [
      "YEAR: 2003, TEAM: CHO\n",
      "YEAR: 2003, TEAM: DET\n",
      "YEAR: 2003, TEAM: DEN\n",
      "YEAR: 2003, TEAM: MIA\n",
      "YEAR: 2003, TEAM: CHI\n",
      "YEAR: 2003, TEAM: MIL\n",
      "YEAR: 2003, TEAM: IND\n",
      "YEAR: 2003, TEAM: ATL\n",
      "YEAR: 2003, TEAM: POR\n",
      "YEAR: 2003, TEAM: BRK\n",
      "YEAR: 2003, TEAM: TOR\n",
      "YEAR: 2003, TEAM: UTA\n",
      "YEAR: 2003, TEAM: SAS\n",
      "YEAR: 2003, TEAM: NOP\n",
      "YEAR: 2003, TEAM: NYK\n",
      "YEAR: 2003, TEAM: HOU"
     ]
    },
    {
     "name": "stderr",
     "output_type": "stream",
     "text": [
      "<ipython-input-11-4fc66cc84f35>:53: DeprecationWarning: The default dtype for empty Series will be 'object' instead of 'float64' in a future version. Specify a dtype explicitly to silence this warning.\n",
      "  teamSeries = pd.Series(index=[\"team\", \"oldPick\", \"newPick\", \"year\", \"overallPick\"])\n",
      "<ipython-input-11-4fc66cc84f35>:53: DeprecationWarning: The default dtype for empty Series will be 'object' instead of 'float64' in a future version. Specify a dtype explicitly to silence this warning.\n",
      "  teamSeries = pd.Series(index=[\"team\", \"oldPick\", \"newPick\", \"year\", \"overallPick\"])\n",
      "<ipython-input-11-4fc66cc84f35>:53: DeprecationWarning: The default dtype for empty Series will be 'object' instead of 'float64' in a future version. Specify a dtype explicitly to silence this warning.\n",
      "  teamSeries = pd.Series(index=[\"team\", \"oldPick\", \"newPick\", \"year\", \"overallPick\"])\n",
      "<ipython-input-11-4fc66cc84f35>:53: DeprecationWarning: The default dtype for empty Series will be 'object' instead of 'float64' in a future version. Specify a dtype explicitly to silence this warning.\n",
      "  teamSeries = pd.Series(index=[\"team\", \"oldPick\", \"newPick\", \"year\", \"overallPick\"])\n"
     ]
    },
    {
     "name": "stdout",
     "output_type": "stream",
     "text": [
      "\n",
      "YEAR: 2003, TEAM: LAC\n",
      "YEAR: 2003, TEAM: GSW\n",
      "YEAR: 2003, TEAM: OKC\n",
      "YEAR: 2003, TEAM: WAS\n",
      "YEAR: 2003, TEAM: CLE\n",
      "YEAR: 2003, TEAM: MEM\n",
      "YEAR: 2004, TEAM: PHI\n"
     ]
    },
    {
     "name": "stderr",
     "output_type": "stream",
     "text": [
      "<ipython-input-11-4fc66cc84f35>:53: DeprecationWarning: The default dtype for empty Series will be 'object' instead of 'float64' in a future version. Specify a dtype explicitly to silence this warning.\n",
      "  teamSeries = pd.Series(index=[\"team\", \"oldPick\", \"newPick\", \"year\", \"overallPick\"])\n",
      "<ipython-input-11-4fc66cc84f35>:53: DeprecationWarning: The default dtype for empty Series will be 'object' instead of 'float64' in a future version. Specify a dtype explicitly to silence this warning.\n",
      "  teamSeries = pd.Series(index=[\"team\", \"oldPick\", \"newPick\", \"year\", \"overallPick\"])\n",
      "<ipython-input-11-4fc66cc84f35>:53: DeprecationWarning: The default dtype for empty Series will be 'object' instead of 'float64' in a future version. Specify a dtype explicitly to silence this warning.\n",
      "  teamSeries = pd.Series(index=[\"team\", \"oldPick\", \"newPick\", \"year\", \"overallPick\"])\n",
      "<ipython-input-11-4fc66cc84f35>:53: DeprecationWarning: The default dtype for empty Series will be 'object' instead of 'float64' in a future version. Specify a dtype explicitly to silence this warning.\n",
      "  teamSeries = pd.Series(index=[\"team\", \"oldPick\", \"newPick\", \"year\", \"overallPick\"])\n",
      "<ipython-input-11-4fc66cc84f35>:23: SettingWithCopyWarning: \n",
      "A value is trying to be set on a copy of a slice from a DataFrame\n",
      "\n",
      "See the caveats in the documentation: https://pandas.pydata.org/pandas-docs/stable/user_guide/indexing.html#returning-a-view-versus-a-copy\n",
      "  yearDraftData.sort_values(by=[\"overallPick\"], inplace=True)\n",
      "<ipython-input-11-4fc66cc84f35>:53: DeprecationWarning: The default dtype for empty Series will be 'object' instead of 'float64' in a future version. Specify a dtype explicitly to silence this warning.\n",
      "  teamSeries = pd.Series(index=[\"team\", \"oldPick\", \"newPick\", \"year\", \"overallPick\"])\n"
     ]
    },
    {
     "name": "stdout",
     "output_type": "stream",
     "text": [
      "YEAR: 2004, TEAM: LAL\n",
      "YEAR: 2004, TEAM: BOS\n",
      "YEAR: 2004, TEAM: PHO\n",
      "YEAR: 2004, TEAM: SAC\n",
      "YEAR: 2004, TEAM: ORL\n",
      "YEAR: 2004, TEAM: MIN\n",
      "YEAR: 2004, TEAM: DAL\n"
     ]
    },
    {
     "name": "stderr",
     "output_type": "stream",
     "text": [
      "<ipython-input-11-4fc66cc84f35>:53: DeprecationWarning: The default dtype for empty Series will be 'object' instead of 'float64' in a future version. Specify a dtype explicitly to silence this warning.\n",
      "  teamSeries = pd.Series(index=[\"team\", \"oldPick\", \"newPick\", \"year\", \"overallPick\"])\n",
      "<ipython-input-11-4fc66cc84f35>:53: DeprecationWarning: The default dtype for empty Series will be 'object' instead of 'float64' in a future version. Specify a dtype explicitly to silence this warning.\n",
      "  teamSeries = pd.Series(index=[\"team\", \"oldPick\", \"newPick\", \"year\", \"overallPick\"])\n",
      "<ipython-input-11-4fc66cc84f35>:53: DeprecationWarning: The default dtype for empty Series will be 'object' instead of 'float64' in a future version. Specify a dtype explicitly to silence this warning.\n",
      "  teamSeries = pd.Series(index=[\"team\", \"oldPick\", \"newPick\", \"year\", \"overallPick\"])\n",
      "<ipython-input-11-4fc66cc84f35>:53: DeprecationWarning: The default dtype for empty Series will be 'object' instead of 'float64' in a future version. Specify a dtype explicitly to silence this warning.\n",
      "  teamSeries = pd.Series(index=[\"team\", \"oldPick\", \"newPick\", \"year\", \"overallPick\"])\n",
      "<ipython-input-11-4fc66cc84f35>:53: DeprecationWarning: The default dtype for empty Series will be 'object' instead of 'float64' in a future version. Specify a dtype explicitly to silence this warning.\n",
      "  teamSeries = pd.Series(index=[\"team\", \"oldPick\", \"newPick\", \"year\", \"overallPick\"])\n"
     ]
    },
    {
     "name": "stdout",
     "output_type": "stream",
     "text": [
      "YEAR: 2004, TEAM: CHO\n",
      "YEAR: 2004, TEAM: DET\n",
      "YEAR: 2004, TEAM: DEN\n",
      "YEAR: 2004, TEAM: MIA\n",
      "YEAR: 2004, TEAM: CHI\n",
      "YEAR: 2004, TEAM: MIL\n",
      "YEAR: 2004, TEAM: IND\n",
      "YEAR: 2004, TEAM: ATL\n",
      "YEAR: 2004, TEAM: POR\n",
      "YEAR: 2004, TEAM: BRK\n"
     ]
    },
    {
     "name": "stderr",
     "output_type": "stream",
     "text": [
      "<ipython-input-11-4fc66cc84f35>:53: DeprecationWarning: The default dtype for empty Series will be 'object' instead of 'float64' in a future version. Specify a dtype explicitly to silence this warning.\n",
      "  teamSeries = pd.Series(index=[\"team\", \"oldPick\", \"newPick\", \"year\", \"overallPick\"])\n",
      "<ipython-input-11-4fc66cc84f35>:53: DeprecationWarning: The default dtype for empty Series will be 'object' instead of 'float64' in a future version. Specify a dtype explicitly to silence this warning.\n",
      "  teamSeries = pd.Series(index=[\"team\", \"oldPick\", \"newPick\", \"year\", \"overallPick\"])\n",
      "<ipython-input-11-4fc66cc84f35>:53: DeprecationWarning: The default dtype for empty Series will be 'object' instead of 'float64' in a future version. Specify a dtype explicitly to silence this warning.\n",
      "  teamSeries = pd.Series(index=[\"team\", \"oldPick\", \"newPick\", \"year\", \"overallPick\"])\n",
      "<ipython-input-11-4fc66cc84f35>:53: DeprecationWarning: The default dtype for empty Series will be 'object' instead of 'float64' in a future version. Specify a dtype explicitly to silence this warning.\n",
      "  teamSeries = pd.Series(index=[\"team\", \"oldPick\", \"newPick\", \"year\", \"overallPick\"])\n"
     ]
    },
    {
     "name": "stdout",
     "output_type": "stream",
     "text": [
      "YEAR: 2004, TEAM: TOR\n",
      "YEAR: 2004, TEAM: UTA\n",
      "YEAR: 2004, TEAM: SAS\n",
      "YEAR: 2004, TEAM: NOP\n",
      "YEAR: 2004, TEAM: NYK\n",
      "YEAR: 2004, TEAM: HOU\n",
      "YEAR: 2004, TEAM: LAC\n",
      "YEAR: 2004, TEAM: GSW\n",
      "YEAR: 2004, TEAM: OKC\n"
     ]
    },
    {
     "name": "stderr",
     "output_type": "stream",
     "text": [
      "<ipython-input-11-4fc66cc84f35>:53: DeprecationWarning: The default dtype for empty Series will be 'object' instead of 'float64' in a future version. Specify a dtype explicitly to silence this warning.\n",
      "  teamSeries = pd.Series(index=[\"team\", \"oldPick\", \"newPick\", \"year\", \"overallPick\"])\n",
      "<ipython-input-11-4fc66cc84f35>:53: DeprecationWarning: The default dtype for empty Series will be 'object' instead of 'float64' in a future version. Specify a dtype explicitly to silence this warning.\n",
      "  teamSeries = pd.Series(index=[\"team\", \"oldPick\", \"newPick\", \"year\", \"overallPick\"])\n",
      "<ipython-input-11-4fc66cc84f35>:53: DeprecationWarning: The default dtype for empty Series will be 'object' instead of 'float64' in a future version. Specify a dtype explicitly to silence this warning.\n",
      "  teamSeries = pd.Series(index=[\"team\", \"oldPick\", \"newPick\", \"year\", \"overallPick\"])\n",
      "<ipython-input-11-4fc66cc84f35>:53: DeprecationWarning: The default dtype for empty Series will be 'object' instead of 'float64' in a future version. Specify a dtype explicitly to silence this warning.\n",
      "  teamSeries = pd.Series(index=[\"team\", \"oldPick\", \"newPick\", \"year\", \"overallPick\"])\n"
     ]
    },
    {
     "name": "stdout",
     "output_type": "stream",
     "text": [
      "YEAR: 2004, TEAM: WAS\n",
      "YEAR: 2004, TEAM: CLE\n",
      "YEAR: 2004, TEAM: MEM\n",
      "YEAR: 2005, TEAM: PHI\n",
      "YEAR: 2005, TEAM: LAL\n",
      "YEAR: 2005, TEAM: BOS\n",
      "YEAR: 2005, TEAM: PHO\n",
      "YEAR: 2005, TEAM: SAC\n"
     ]
    },
    {
     "name": "stderr",
     "output_type": "stream",
     "text": [
      "<ipython-input-11-4fc66cc84f35>:53: DeprecationWarning: The default dtype for empty Series will be 'object' instead of 'float64' in a future version. Specify a dtype explicitly to silence this warning.\n",
      "  teamSeries = pd.Series(index=[\"team\", \"oldPick\", \"newPick\", \"year\", \"overallPick\"])\n",
      "<ipython-input-11-4fc66cc84f35>:53: DeprecationWarning: The default dtype for empty Series will be 'object' instead of 'float64' in a future version. Specify a dtype explicitly to silence this warning.\n",
      "  teamSeries = pd.Series(index=[\"team\", \"oldPick\", \"newPick\", \"year\", \"overallPick\"])\n",
      "<ipython-input-11-4fc66cc84f35>:23: SettingWithCopyWarning: \n",
      "A value is trying to be set on a copy of a slice from a DataFrame\n",
      "\n",
      "See the caveats in the documentation: https://pandas.pydata.org/pandas-docs/stable/user_guide/indexing.html#returning-a-view-versus-a-copy\n",
      "  yearDraftData.sort_values(by=[\"overallPick\"], inplace=True)\n",
      "<ipython-input-11-4fc66cc84f35>:53: DeprecationWarning: The default dtype for empty Series will be 'object' instead of 'float64' in a future version. Specify a dtype explicitly to silence this warning.\n",
      "  teamSeries = pd.Series(index=[\"team\", \"oldPick\", \"newPick\", \"year\", \"overallPick\"])\n",
      "<ipython-input-11-4fc66cc84f35>:53: DeprecationWarning: The default dtype for empty Series will be 'object' instead of 'float64' in a future version. Specify a dtype explicitly to silence this warning.\n",
      "  teamSeries = pd.Series(index=[\"team\", \"oldPick\", \"newPick\", \"year\", \"overallPick\"])\n",
      "<ipython-input-11-4fc66cc84f35>:53: DeprecationWarning: The default dtype for empty Series will be 'object' instead of 'float64' in a future version. Specify a dtype explicitly to silence this warning.\n",
      "  teamSeries = pd.Series(index=[\"team\", \"oldPick\", \"newPick\", \"year\", \"overallPick\"])\n",
      "<ipython-input-11-4fc66cc84f35>:53: DeprecationWarning: The default dtype for empty Series will be 'object' instead of 'float64' in a future version. Specify a dtype explicitly to silence this warning.\n",
      "  teamSeries = pd.Series(index=[\"team\", \"oldPick\", \"newPick\", \"year\", \"overallPick\"])\n"
     ]
    },
    {
     "name": "stdout",
     "output_type": "stream",
     "text": [
      "YEAR: 2005, TEAM: ORL\n",
      "YEAR: 2005, TEAM: MIN\n",
      "YEAR: 2005, TEAM: DAL\n",
      "YEAR: 2005, TEAM: CHO\n",
      "YEAR: 2005, TEAM: DET\n",
      "YEAR: 2005, TEAM: DEN\n",
      "YEAR: 2005, TEAM: MIA\n",
      "YEAR: 2005, TEAM: CHI\n",
      "YEAR: 2005, TEAM: MIL\n"
     ]
    },
    {
     "name": "stderr",
     "output_type": "stream",
     "text": [
      "<ipython-input-11-4fc66cc84f35>:53: DeprecationWarning: The default dtype for empty Series will be 'object' instead of 'float64' in a future version. Specify a dtype explicitly to silence this warning.\n",
      "  teamSeries = pd.Series(index=[\"team\", \"oldPick\", \"newPick\", \"year\", \"overallPick\"])\n",
      "<ipython-input-11-4fc66cc84f35>:53: DeprecationWarning: The default dtype for empty Series will be 'object' instead of 'float64' in a future version. Specify a dtype explicitly to silence this warning.\n",
      "  teamSeries = pd.Series(index=[\"team\", \"oldPick\", \"newPick\", \"year\", \"overallPick\"])\n",
      "<ipython-input-11-4fc66cc84f35>:53: DeprecationWarning: The default dtype for empty Series will be 'object' instead of 'float64' in a future version. Specify a dtype explicitly to silence this warning.\n",
      "  teamSeries = pd.Series(index=[\"team\", \"oldPick\", \"newPick\", \"year\", \"overallPick\"])\n",
      "<ipython-input-11-4fc66cc84f35>:53: DeprecationWarning: The default dtype for empty Series will be 'object' instead of 'float64' in a future version. Specify a dtype explicitly to silence this warning.\n",
      "  teamSeries = pd.Series(index=[\"team\", \"oldPick\", \"newPick\", \"year\", \"overallPick\"])\n",
      "<ipython-input-11-4fc66cc84f35>:53: DeprecationWarning: The default dtype for empty Series will be 'object' instead of 'float64' in a future version. Specify a dtype explicitly to silence this warning.\n",
      "  teamSeries = pd.Series(index=[\"team\", \"oldPick\", \"newPick\", \"year\", \"overallPick\"])\n"
     ]
    },
    {
     "name": "stdout",
     "output_type": "stream",
     "text": [
      "YEAR: 2005, TEAM: IND\n",
      "YEAR: 2005, TEAM: ATL\n",
      "YEAR: 2005, TEAM: POR\n",
      "YEAR: 2005, TEAM: BRK\n",
      "YEAR: 2005, TEAM: TOR\n",
      "YEAR: 2005, TEAM: UTA\n",
      "YEAR: 2005, TEAM: SAS\n",
      "YEAR: 2005, TEAM: NOP\n"
     ]
    },
    {
     "name": "stderr",
     "output_type": "stream",
     "text": [
      "<ipython-input-11-4fc66cc84f35>:53: DeprecationWarning: The default dtype for empty Series will be 'object' instead of 'float64' in a future version. Specify a dtype explicitly to silence this warning.\n",
      "  teamSeries = pd.Series(index=[\"team\", \"oldPick\", \"newPick\", \"year\", \"overallPick\"])\n",
      "<ipython-input-11-4fc66cc84f35>:53: DeprecationWarning: The default dtype for empty Series will be 'object' instead of 'float64' in a future version. Specify a dtype explicitly to silence this warning.\n",
      "  teamSeries = pd.Series(index=[\"team\", \"oldPick\", \"newPick\", \"year\", \"overallPick\"])\n",
      "<ipython-input-11-4fc66cc84f35>:53: DeprecationWarning: The default dtype for empty Series will be 'object' instead of 'float64' in a future version. Specify a dtype explicitly to silence this warning.\n",
      "  teamSeries = pd.Series(index=[\"team\", \"oldPick\", \"newPick\", \"year\", \"overallPick\"])\n",
      "<ipython-input-11-4fc66cc84f35>:53: DeprecationWarning: The default dtype for empty Series will be 'object' instead of 'float64' in a future version. Specify a dtype explicitly to silence this warning.\n",
      "  teamSeries = pd.Series(index=[\"team\", \"oldPick\", \"newPick\", \"year\", \"overallPick\"])\n",
      "<ipython-input-11-4fc66cc84f35>:53: DeprecationWarning: The default dtype for empty Series will be 'object' instead of 'float64' in a future version. Specify a dtype explicitly to silence this warning.\n",
      "  teamSeries = pd.Series(index=[\"team\", \"oldPick\", \"newPick\", \"year\", \"overallPick\"])\n",
      "<ipython-input-11-4fc66cc84f35>:53: DeprecationWarning: The default dtype for empty Series will be 'object' instead of 'float64' in a future version. Specify a dtype explicitly to silence this warning.\n",
      "  teamSeries = pd.Series(index=[\"team\", \"oldPick\", \"newPick\", \"year\", \"overallPick\"])\n",
      "<ipython-input-11-4fc66cc84f35>:53: DeprecationWarning: The default dtype for empty Series will be 'object' instead of 'float64' in a future version. Specify a dtype explicitly to silence this warning.\n",
      "  teamSeries = pd.Series(index=[\"team\", \"oldPick\", \"newPick\", \"year\", \"overallPick\"])\n",
      "<ipython-input-11-4fc66cc84f35>:53: DeprecationWarning: The default dtype for empty Series will be 'object' instead of 'float64' in a future version. Specify a dtype explicitly to silence this warning.\n",
      "  teamSeries = pd.Series(index=[\"team\", \"oldPick\", \"newPick\", \"year\", \"overallPick\"])\n",
      "<ipython-input-11-4fc66cc84f35>:53: DeprecationWarning: The default dtype for empty Series will be 'object' instead of 'float64' in a future version. Specify a dtype explicitly to silence this warning.\n",
      "  teamSeries = pd.Series(index=[\"team\", \"oldPick\", \"newPick\", \"year\", \"overallPick\"])\n",
      "<ipython-input-11-4fc66cc84f35>:53: DeprecationWarning: The default dtype for empty Series will be 'object' instead of 'float64' in a future version. Specify a dtype explicitly to silence this warning.\n",
      "  teamSeries = pd.Series(index=[\"team\", \"oldPick\", \"newPick\", \"year\", \"overallPick\"])\n",
      "<ipython-input-11-4fc66cc84f35>:53: DeprecationWarning: The default dtype for empty Series will be 'object' instead of 'float64' in a future version. Specify a dtype explicitly to silence this warning.\n",
      "  teamSeries = pd.Series(index=[\"team\", \"oldPick\", \"newPick\", \"year\", \"overallPick\"])\n"
     ]
    },
    {
     "name": "stdout",
     "output_type": "stream",
     "text": [
      "YEAR: 2005, TEAM: NYK\n",
      "YEAR: 2005, TEAM: HOU\n",
      "YEAR: 2005, TEAM: LAC\n",
      "YEAR: 2005, TEAM: GSW\n",
      "YEAR: 2005, TEAM: OKC\n",
      "YEAR: 2005, TEAM: WAS\n",
      "YEAR: 2005, TEAM: CLE\n",
      "YEAR: 2005, TEAM: MEM\n",
      "YEAR: 2006, TEAM: PHI\n",
      "YEAR: 2006, TEAM: LAL\n",
      "YEAR: 2006, TEAM: BOS\n",
      "YEAR: 2006, TEAM: PHO\n"
     ]
    },
    {
     "name": "stderr",
     "output_type": "stream",
     "text": [
      "<ipython-input-11-4fc66cc84f35>:53: DeprecationWarning: The default dtype for empty Series will be 'object' instead of 'float64' in a future version. Specify a dtype explicitly to silence this warning.\n",
      "  teamSeries = pd.Series(index=[\"team\", \"oldPick\", \"newPick\", \"year\", \"overallPick\"])\n",
      "<ipython-input-11-4fc66cc84f35>:23: SettingWithCopyWarning: \n",
      "A value is trying to be set on a copy of a slice from a DataFrame\n",
      "\n",
      "See the caveats in the documentation: https://pandas.pydata.org/pandas-docs/stable/user_guide/indexing.html#returning-a-view-versus-a-copy\n",
      "  yearDraftData.sort_values(by=[\"overallPick\"], inplace=True)\n",
      "<ipython-input-11-4fc66cc84f35>:53: DeprecationWarning: The default dtype for empty Series will be 'object' instead of 'float64' in a future version. Specify a dtype explicitly to silence this warning.\n",
      "  teamSeries = pd.Series(index=[\"team\", \"oldPick\", \"newPick\", \"year\", \"overallPick\"])\n",
      "<ipython-input-11-4fc66cc84f35>:53: DeprecationWarning: The default dtype for empty Series will be 'object' instead of 'float64' in a future version. Specify a dtype explicitly to silence this warning.\n",
      "  teamSeries = pd.Series(index=[\"team\", \"oldPick\", \"newPick\", \"year\", \"overallPick\"])\n",
      "<ipython-input-11-4fc66cc84f35>:53: DeprecationWarning: The default dtype for empty Series will be 'object' instead of 'float64' in a future version. Specify a dtype explicitly to silence this warning.\n",
      "  teamSeries = pd.Series(index=[\"team\", \"oldPick\", \"newPick\", \"year\", \"overallPick\"])\n"
     ]
    },
    {
     "name": "stdout",
     "output_type": "stream",
     "text": [
      "YEAR: 2006, TEAM: SAC\n",
      "YEAR: 2006, TEAM: ORL\n",
      "YEAR: 2006, TEAM: MIN\n",
      "YEAR: 2006, TEAM: DAL\n",
      "YEAR: 2006, TEAM: CHO\n",
      "YEAR: 2006, TEAM: DET\n"
     ]
    },
    {
     "name": "stderr",
     "output_type": "stream",
     "text": [
      "<ipython-input-11-4fc66cc84f35>:53: DeprecationWarning: The default dtype for empty Series will be 'object' instead of 'float64' in a future version. Specify a dtype explicitly to silence this warning.\n",
      "  teamSeries = pd.Series(index=[\"team\", \"oldPick\", \"newPick\", \"year\", \"overallPick\"])\n",
      "<ipython-input-11-4fc66cc84f35>:53: DeprecationWarning: The default dtype for empty Series will be 'object' instead of 'float64' in a future version. Specify a dtype explicitly to silence this warning.\n",
      "  teamSeries = pd.Series(index=[\"team\", \"oldPick\", \"newPick\", \"year\", \"overallPick\"])\n",
      "<ipython-input-11-4fc66cc84f35>:53: DeprecationWarning: The default dtype for empty Series will be 'object' instead of 'float64' in a future version. Specify a dtype explicitly to silence this warning.\n",
      "  teamSeries = pd.Series(index=[\"team\", \"oldPick\", \"newPick\", \"year\", \"overallPick\"])\n",
      "<ipython-input-11-4fc66cc84f35>:53: DeprecationWarning: The default dtype for empty Series will be 'object' instead of 'float64' in a future version. Specify a dtype explicitly to silence this warning.\n",
      "  teamSeries = pd.Series(index=[\"team\", \"oldPick\", \"newPick\", \"year\", \"overallPick\"])\n",
      "<ipython-input-11-4fc66cc84f35>:53: DeprecationWarning: The default dtype for empty Series will be 'object' instead of 'float64' in a future version. Specify a dtype explicitly to silence this warning.\n",
      "  teamSeries = pd.Series(index=[\"team\", \"oldPick\", \"newPick\", \"year\", \"overallPick\"])\n"
     ]
    },
    {
     "name": "stdout",
     "output_type": "stream",
     "text": [
      "YEAR: 2006, TEAM: DEN\n",
      "YEAR: 2006, TEAM: MIA\n",
      "YEAR: 2006, TEAM: CHI\n",
      "YEAR: 2006, TEAM: MIL\n",
      "YEAR: 2006, TEAM: IND\n",
      "YEAR: 2006, TEAM: ATL\n",
      "YEAR: 2006, TEAM: POR\n"
     ]
    },
    {
     "name": "stderr",
     "output_type": "stream",
     "text": [
      "<ipython-input-11-4fc66cc84f35>:53: DeprecationWarning: The default dtype for empty Series will be 'object' instead of 'float64' in a future version. Specify a dtype explicitly to silence this warning.\n",
      "  teamSeries = pd.Series(index=[\"team\", \"oldPick\", \"newPick\", \"year\", \"overallPick\"])\n",
      "<ipython-input-11-4fc66cc84f35>:53: DeprecationWarning: The default dtype for empty Series will be 'object' instead of 'float64' in a future version. Specify a dtype explicitly to silence this warning.\n",
      "  teamSeries = pd.Series(index=[\"team\", \"oldPick\", \"newPick\", \"year\", \"overallPick\"])\n",
      "<ipython-input-11-4fc66cc84f35>:53: DeprecationWarning: The default dtype for empty Series will be 'object' instead of 'float64' in a future version. Specify a dtype explicitly to silence this warning.\n",
      "  teamSeries = pd.Series(index=[\"team\", \"oldPick\", \"newPick\", \"year\", \"overallPick\"])\n",
      "<ipython-input-11-4fc66cc84f35>:53: DeprecationWarning: The default dtype for empty Series will be 'object' instead of 'float64' in a future version. Specify a dtype explicitly to silence this warning.\n",
      "  teamSeries = pd.Series(index=[\"team\", \"oldPick\", \"newPick\", \"year\", \"overallPick\"])\n",
      "<ipython-input-11-4fc66cc84f35>:53: DeprecationWarning: The default dtype for empty Series will be 'object' instead of 'float64' in a future version. Specify a dtype explicitly to silence this warning.\n",
      "  teamSeries = pd.Series(index=[\"team\", \"oldPick\", \"newPick\", \"year\", \"overallPick\"])\n",
      "<ipython-input-11-4fc66cc84f35>:53: DeprecationWarning: The default dtype for empty Series will be 'object' instead of 'float64' in a future version. Specify a dtype explicitly to silence this warning.\n",
      "  teamSeries = pd.Series(index=[\"team\", \"oldPick\", \"newPick\", \"year\", \"overallPick\"])\n"
     ]
    },
    {
     "name": "stdout",
     "output_type": "stream",
     "text": [
      "YEAR: 2006, TEAM: BRK\n",
      "YEAR: 2006, TEAM: TOR\n",
      "YEAR: 2006, TEAM: UTA\n",
      "YEAR: 2006, TEAM: SAS\n",
      "YEAR: 2006, TEAM: NOP\n"
     ]
    },
    {
     "name": "stderr",
     "output_type": "stream",
     "text": [
      "<ipython-input-11-4fc66cc84f35>:53: DeprecationWarning: The default dtype for empty Series will be 'object' instead of 'float64' in a future version. Specify a dtype explicitly to silence this warning.\n",
      "  teamSeries = pd.Series(index=[\"team\", \"oldPick\", \"newPick\", \"year\", \"overallPick\"])\n",
      "<ipython-input-11-4fc66cc84f35>:53: DeprecationWarning: The default dtype for empty Series will be 'object' instead of 'float64' in a future version. Specify a dtype explicitly to silence this warning.\n",
      "  teamSeries = pd.Series(index=[\"team\", \"oldPick\", \"newPick\", \"year\", \"overallPick\"])\n",
      "<ipython-input-11-4fc66cc84f35>:53: DeprecationWarning: The default dtype for empty Series will be 'object' instead of 'float64' in a future version. Specify a dtype explicitly to silence this warning.\n",
      "  teamSeries = pd.Series(index=[\"team\", \"oldPick\", \"newPick\", \"year\", \"overallPick\"])\n",
      "<ipython-input-11-4fc66cc84f35>:53: DeprecationWarning: The default dtype for empty Series will be 'object' instead of 'float64' in a future version. Specify a dtype explicitly to silence this warning.\n",
      "  teamSeries = pd.Series(index=[\"team\", \"oldPick\", \"newPick\", \"year\", \"overallPick\"])\n"
     ]
    },
    {
     "name": "stdout",
     "output_type": "stream",
     "text": [
      "YEAR: 2006, TEAM: NYK\n",
      "YEAR: 2006, TEAM: HOU\n",
      "YEAR: 2006, TEAM: LAC\n",
      "YEAR: 2006, TEAM: GSW\n",
      "YEAR: 2006, TEAM: OKC\n"
     ]
    },
    {
     "name": "stderr",
     "output_type": "stream",
     "text": [
      "<ipython-input-11-4fc66cc84f35>:53: DeprecationWarning: The default dtype for empty Series will be 'object' instead of 'float64' in a future version. Specify a dtype explicitly to silence this warning.\n",
      "  teamSeries = pd.Series(index=[\"team\", \"oldPick\", \"newPick\", \"year\", \"overallPick\"])\n",
      "<ipython-input-11-4fc66cc84f35>:53: DeprecationWarning: The default dtype for empty Series will be 'object' instead of 'float64' in a future version. Specify a dtype explicitly to silence this warning.\n",
      "  teamSeries = pd.Series(index=[\"team\", \"oldPick\", \"newPick\", \"year\", \"overallPick\"])\n",
      "<ipython-input-11-4fc66cc84f35>:53: DeprecationWarning: The default dtype for empty Series will be 'object' instead of 'float64' in a future version. Specify a dtype explicitly to silence this warning.\n",
      "  teamSeries = pd.Series(index=[\"team\", \"oldPick\", \"newPick\", \"year\", \"overallPick\"])\n",
      "<ipython-input-11-4fc66cc84f35>:53: DeprecationWarning: The default dtype for empty Series will be 'object' instead of 'float64' in a future version. Specify a dtype explicitly to silence this warning.\n",
      "  teamSeries = pd.Series(index=[\"team\", \"oldPick\", \"newPick\", \"year\", \"overallPick\"])\n",
      "<ipython-input-11-4fc66cc84f35>:53: DeprecationWarning: The default dtype for empty Series will be 'object' instead of 'float64' in a future version. Specify a dtype explicitly to silence this warning.\n",
      "  teamSeries = pd.Series(index=[\"team\", \"oldPick\", \"newPick\", \"year\", \"overallPick\"])\n"
     ]
    },
    {
     "name": "stdout",
     "output_type": "stream",
     "text": [
      "YEAR: 2006, TEAM: WAS\n",
      "YEAR: 2006, TEAM: CLE\n",
      "YEAR: 2006, TEAM: MEM\n",
      "YEAR: 2007, TEAM: PHI\n",
      "YEAR: 2007, TEAM: LAL\n",
      "YEAR: 2007, TEAM: BOS\n"
     ]
    },
    {
     "name": "stderr",
     "output_type": "stream",
     "text": [
      "<ipython-input-11-4fc66cc84f35>:53: DeprecationWarning: The default dtype for empty Series will be 'object' instead of 'float64' in a future version. Specify a dtype explicitly to silence this warning.\n",
      "  teamSeries = pd.Series(index=[\"team\", \"oldPick\", \"newPick\", \"year\", \"overallPick\"])\n",
      "<ipython-input-11-4fc66cc84f35>:53: DeprecationWarning: The default dtype for empty Series will be 'object' instead of 'float64' in a future version. Specify a dtype explicitly to silence this warning.\n",
      "  teamSeries = pd.Series(index=[\"team\", \"oldPick\", \"newPick\", \"year\", \"overallPick\"])\n",
      "<ipython-input-11-4fc66cc84f35>:23: SettingWithCopyWarning: \n",
      "A value is trying to be set on a copy of a slice from a DataFrame\n",
      "\n",
      "See the caveats in the documentation: https://pandas.pydata.org/pandas-docs/stable/user_guide/indexing.html#returning-a-view-versus-a-copy\n",
      "  yearDraftData.sort_values(by=[\"overallPick\"], inplace=True)\n",
      "<ipython-input-11-4fc66cc84f35>:53: DeprecationWarning: The default dtype for empty Series will be 'object' instead of 'float64' in a future version. Specify a dtype explicitly to silence this warning.\n",
      "  teamSeries = pd.Series(index=[\"team\", \"oldPick\", \"newPick\", \"year\", \"overallPick\"])\n",
      "<ipython-input-11-4fc66cc84f35>:53: DeprecationWarning: The default dtype for empty Series will be 'object' instead of 'float64' in a future version. Specify a dtype explicitly to silence this warning.\n",
      "  teamSeries = pd.Series(index=[\"team\", \"oldPick\", \"newPick\", \"year\", \"overallPick\"])\n",
      "<ipython-input-11-4fc66cc84f35>:53: DeprecationWarning: The default dtype for empty Series will be 'object' instead of 'float64' in a future version. Specify a dtype explicitly to silence this warning.\n",
      "  teamSeries = pd.Series(index=[\"team\", \"oldPick\", \"newPick\", \"year\", \"overallPick\"])\n",
      "<ipython-input-11-4fc66cc84f35>:53: DeprecationWarning: The default dtype for empty Series will be 'object' instead of 'float64' in a future version. Specify a dtype explicitly to silence this warning.\n",
      "  teamSeries = pd.Series(index=[\"team\", \"oldPick\", \"newPick\", \"year\", \"overallPick\"])\n",
      "<ipython-input-11-4fc66cc84f35>:53: DeprecationWarning: The default dtype for empty Series will be 'object' instead of 'float64' in a future version. Specify a dtype explicitly to silence this warning.\n",
      "  teamSeries = pd.Series(index=[\"team\", \"oldPick\", \"newPick\", \"year\", \"overallPick\"])\n"
     ]
    },
    {
     "name": "stdout",
     "output_type": "stream",
     "text": [
      "YEAR: 2007, TEAM: PHO\n",
      "YEAR: 2007, TEAM: SAC\n",
      "YEAR: 2007, TEAM: ORL\n",
      "YEAR: 2007, TEAM: MIN\n"
     ]
    },
    {
     "name": "stderr",
     "output_type": "stream",
     "text": [
      "<ipython-input-11-4fc66cc84f35>:53: DeprecationWarning: The default dtype for empty Series will be 'object' instead of 'float64' in a future version. Specify a dtype explicitly to silence this warning.\n",
      "  teamSeries = pd.Series(index=[\"team\", \"oldPick\", \"newPick\", \"year\", \"overallPick\"])\n",
      "<ipython-input-11-4fc66cc84f35>:53: DeprecationWarning: The default dtype for empty Series will be 'object' instead of 'float64' in a future version. Specify a dtype explicitly to silence this warning.\n",
      "  teamSeries = pd.Series(index=[\"team\", \"oldPick\", \"newPick\", \"year\", \"overallPick\"])\n",
      "<ipython-input-11-4fc66cc84f35>:53: DeprecationWarning: The default dtype for empty Series will be 'object' instead of 'float64' in a future version. Specify a dtype explicitly to silence this warning.\n",
      "  teamSeries = pd.Series(index=[\"team\", \"oldPick\", \"newPick\", \"year\", \"overallPick\"])\n",
      "<ipython-input-11-4fc66cc84f35>:53: DeprecationWarning: The default dtype for empty Series will be 'object' instead of 'float64' in a future version. Specify a dtype explicitly to silence this warning.\n",
      "  teamSeries = pd.Series(index=[\"team\", \"oldPick\", \"newPick\", \"year\", \"overallPick\"])\n"
     ]
    },
    {
     "name": "stdout",
     "output_type": "stream",
     "text": [
      "YEAR: 2007, TEAM: DAL\n",
      "YEAR: 2007, TEAM: CHO\n",
      "YEAR: 2007, TEAM: DET\n",
      "YEAR: 2007, TEAM: DEN\n",
      "YEAR: 2007, TEAM: MIA\n",
      "YEAR: 2007, TEAM: CHI\n",
      "YEAR: 2007, TEAM: MIL\n",
      "YEAR: 2007, TEAM: IND\n",
      "YEAR: 2007, TEAM: ATL\n",
      "YEAR: 2007, TEAM: POR\n"
     ]
    },
    {
     "name": "stderr",
     "output_type": "stream",
     "text": [
      "<ipython-input-11-4fc66cc84f35>:53: DeprecationWarning: The default dtype for empty Series will be 'object' instead of 'float64' in a future version. Specify a dtype explicitly to silence this warning.\n",
      "  teamSeries = pd.Series(index=[\"team\", \"oldPick\", \"newPick\", \"year\", \"overallPick\"])\n",
      "<ipython-input-11-4fc66cc84f35>:53: DeprecationWarning: The default dtype for empty Series will be 'object' instead of 'float64' in a future version. Specify a dtype explicitly to silence this warning.\n",
      "  teamSeries = pd.Series(index=[\"team\", \"oldPick\", \"newPick\", \"year\", \"overallPick\"])\n",
      "<ipython-input-11-4fc66cc84f35>:53: DeprecationWarning: The default dtype for empty Series will be 'object' instead of 'float64' in a future version. Specify a dtype explicitly to silence this warning.\n",
      "  teamSeries = pd.Series(index=[\"team\", \"oldPick\", \"newPick\", \"year\", \"overallPick\"])\n",
      "<ipython-input-11-4fc66cc84f35>:53: DeprecationWarning: The default dtype for empty Series will be 'object' instead of 'float64' in a future version. Specify a dtype explicitly to silence this warning.\n",
      "  teamSeries = pd.Series(index=[\"team\", \"oldPick\", \"newPick\", \"year\", \"overallPick\"])\n",
      "<ipython-input-11-4fc66cc84f35>:53: DeprecationWarning: The default dtype for empty Series will be 'object' instead of 'float64' in a future version. Specify a dtype explicitly to silence this warning.\n",
      "  teamSeries = pd.Series(index=[\"team\", \"oldPick\", \"newPick\", \"year\", \"overallPick\"])\n",
      "<ipython-input-11-4fc66cc84f35>:53: DeprecationWarning: The default dtype for empty Series will be 'object' instead of 'float64' in a future version. Specify a dtype explicitly to silence this warning.\n",
      "  teamSeries = pd.Series(index=[\"team\", \"oldPick\", \"newPick\", \"year\", \"overallPick\"])\n",
      "<ipython-input-11-4fc66cc84f35>:53: DeprecationWarning: The default dtype for empty Series will be 'object' instead of 'float64' in a future version. Specify a dtype explicitly to silence this warning.\n",
      "  teamSeries = pd.Series(index=[\"team\", \"oldPick\", \"newPick\", \"year\", \"overallPick\"])\n",
      "<ipython-input-11-4fc66cc84f35>:53: DeprecationWarning: The default dtype for empty Series will be 'object' instead of 'float64' in a future version. Specify a dtype explicitly to silence this warning.\n",
      "  teamSeries = pd.Series(index=[\"team\", \"oldPick\", \"newPick\", \"year\", \"overallPick\"])\n"
     ]
    },
    {
     "name": "stdout",
     "output_type": "stream",
     "text": [
      "YEAR: 2007, TEAM: BRK\n",
      "YEAR: 2007, TEAM: TOR\n",
      "YEAR: 2007, TEAM: UTA\n",
      "YEAR: 2007, TEAM: SAS\n",
      "YEAR: 2007, TEAM: NOP\n",
      "YEAR: 2007, TEAM: NYK\n",
      "YEAR: 2007, TEAM: HOU\n",
      "YEAR: 2007, TEAM: LAC\n",
      "YEAR: 2007, TEAM: GSW\n"
     ]
    },
    {
     "name": "stderr",
     "output_type": "stream",
     "text": [
      "<ipython-input-11-4fc66cc84f35>:53: DeprecationWarning: The default dtype for empty Series will be 'object' instead of 'float64' in a future version. Specify a dtype explicitly to silence this warning.\n",
      "  teamSeries = pd.Series(index=[\"team\", \"oldPick\", \"newPick\", \"year\", \"overallPick\"])\n",
      "<ipython-input-11-4fc66cc84f35>:53: DeprecationWarning: The default dtype for empty Series will be 'object' instead of 'float64' in a future version. Specify a dtype explicitly to silence this warning.\n",
      "  teamSeries = pd.Series(index=[\"team\", \"oldPick\", \"newPick\", \"year\", \"overallPick\"])\n"
     ]
    },
    {
     "name": "stdout",
     "output_type": "stream",
     "text": [
      "YEAR: 2007, TEAM: OKC\n",
      "YEAR: 2007, TEAM: WAS\n",
      "YEAR: 2007, TEAM: CLE\n",
      "YEAR: 2007, TEAM: MEM\n",
      "YEAR: 2008, TEAM: PHI\n"
     ]
    },
    {
     "name": "stderr",
     "output_type": "stream",
     "text": [
      "<ipython-input-11-4fc66cc84f35>:53: DeprecationWarning: The default dtype for empty Series will be 'object' instead of 'float64' in a future version. Specify a dtype explicitly to silence this warning.\n",
      "  teamSeries = pd.Series(index=[\"team\", \"oldPick\", \"newPick\", \"year\", \"overallPick\"])\n",
      "<ipython-input-11-4fc66cc84f35>:53: DeprecationWarning: The default dtype for empty Series will be 'object' instead of 'float64' in a future version. Specify a dtype explicitly to silence this warning.\n",
      "  teamSeries = pd.Series(index=[\"team\", \"oldPick\", \"newPick\", \"year\", \"overallPick\"])\n",
      "<ipython-input-11-4fc66cc84f35>:53: DeprecationWarning: The default dtype for empty Series will be 'object' instead of 'float64' in a future version. Specify a dtype explicitly to silence this warning.\n",
      "  teamSeries = pd.Series(index=[\"team\", \"oldPick\", \"newPick\", \"year\", \"overallPick\"])\n",
      "<ipython-input-11-4fc66cc84f35>:53: DeprecationWarning: The default dtype for empty Series will be 'object' instead of 'float64' in a future version. Specify a dtype explicitly to silence this warning.\n",
      "  teamSeries = pd.Series(index=[\"team\", \"oldPick\", \"newPick\", \"year\", \"overallPick\"])\n",
      "<ipython-input-11-4fc66cc84f35>:23: SettingWithCopyWarning: \n",
      "A value is trying to be set on a copy of a slice from a DataFrame\n",
      "\n",
      "See the caveats in the documentation: https://pandas.pydata.org/pandas-docs/stable/user_guide/indexing.html#returning-a-view-versus-a-copy\n",
      "  yearDraftData.sort_values(by=[\"overallPick\"], inplace=True)\n",
      "<ipython-input-11-4fc66cc84f35>:53: DeprecationWarning: The default dtype for empty Series will be 'object' instead of 'float64' in a future version. Specify a dtype explicitly to silence this warning.\n",
      "  teamSeries = pd.Series(index=[\"team\", \"oldPick\", \"newPick\", \"year\", \"overallPick\"])\n"
     ]
    },
    {
     "name": "stdout",
     "output_type": "stream",
     "text": [
      "YEAR: 2008, TEAM: LAL\n",
      "YEAR: 2008, TEAM: BOS\n",
      "YEAR: 2008, TEAM: PHO\n",
      "YEAR: 2008, TEAM: SAC\n",
      "YEAR: 2008, TEAM: ORL\n"
     ]
    },
    {
     "name": "stderr",
     "output_type": "stream",
     "text": [
      "<ipython-input-11-4fc66cc84f35>:53: DeprecationWarning: The default dtype for empty Series will be 'object' instead of 'float64' in a future version. Specify a dtype explicitly to silence this warning.\n",
      "  teamSeries = pd.Series(index=[\"team\", \"oldPick\", \"newPick\", \"year\", \"overallPick\"])\n",
      "<ipython-input-11-4fc66cc84f35>:53: DeprecationWarning: The default dtype for empty Series will be 'object' instead of 'float64' in a future version. Specify a dtype explicitly to silence this warning.\n",
      "  teamSeries = pd.Series(index=[\"team\", \"oldPick\", \"newPick\", \"year\", \"overallPick\"])\n",
      "<ipython-input-11-4fc66cc84f35>:53: DeprecationWarning: The default dtype for empty Series will be 'object' instead of 'float64' in a future version. Specify a dtype explicitly to silence this warning.\n",
      "  teamSeries = pd.Series(index=[\"team\", \"oldPick\", \"newPick\", \"year\", \"overallPick\"])\n",
      "<ipython-input-11-4fc66cc84f35>:53: DeprecationWarning: The default dtype for empty Series will be 'object' instead of 'float64' in a future version. Specify a dtype explicitly to silence this warning.\n",
      "  teamSeries = pd.Series(index=[\"team\", \"oldPick\", \"newPick\", \"year\", \"overallPick\"])\n",
      "<ipython-input-11-4fc66cc84f35>:53: DeprecationWarning: The default dtype for empty Series will be 'object' instead of 'float64' in a future version. Specify a dtype explicitly to silence this warning.\n",
      "  teamSeries = pd.Series(index=[\"team\", \"oldPick\", \"newPick\", \"year\", \"overallPick\"])\n"
     ]
    },
    {
     "name": "stdout",
     "output_type": "stream",
     "text": [
      "YEAR: 2008, TEAM: MIN\n",
      "YEAR: 2008, TEAM: DAL\n",
      "YEAR: 2008, TEAM: CHO\n",
      "YEAR: 2008, TEAM: DET\n",
      "YEAR: 2008, TEAM: DEN\n"
     ]
    },
    {
     "name": "stderr",
     "output_type": "stream",
     "text": [
      "<ipython-input-11-4fc66cc84f35>:53: DeprecationWarning: The default dtype for empty Series will be 'object' instead of 'float64' in a future version. Specify a dtype explicitly to silence this warning.\n",
      "  teamSeries = pd.Series(index=[\"team\", \"oldPick\", \"newPick\", \"year\", \"overallPick\"])\n",
      "<ipython-input-11-4fc66cc84f35>:53: DeprecationWarning: The default dtype for empty Series will be 'object' instead of 'float64' in a future version. Specify a dtype explicitly to silence this warning.\n",
      "  teamSeries = pd.Series(index=[\"team\", \"oldPick\", \"newPick\", \"year\", \"overallPick\"])\n",
      "<ipython-input-11-4fc66cc84f35>:53: DeprecationWarning: The default dtype for empty Series will be 'object' instead of 'float64' in a future version. Specify a dtype explicitly to silence this warning.\n",
      "  teamSeries = pd.Series(index=[\"team\", \"oldPick\", \"newPick\", \"year\", \"overallPick\"])\n"
     ]
    },
    {
     "name": "stdout",
     "output_type": "stream",
     "text": [
      "YEAR: 2008, TEAM: MIA\n",
      "YEAR: 2008, TEAM: CHI\n",
      "YEAR: 2008, TEAM: MIL\n",
      "YEAR: 2008, TEAM: IND\n",
      "YEAR: 2008, TEAM: ATL\n",
      "YEAR: 2008, TEAM: POR\n"
     ]
    },
    {
     "name": "stderr",
     "output_type": "stream",
     "text": [
      "<ipython-input-11-4fc66cc84f35>:53: DeprecationWarning: The default dtype for empty Series will be 'object' instead of 'float64' in a future version. Specify a dtype explicitly to silence this warning.\n",
      "  teamSeries = pd.Series(index=[\"team\", \"oldPick\", \"newPick\", \"year\", \"overallPick\"])\n",
      "<ipython-input-11-4fc66cc84f35>:53: DeprecationWarning: The default dtype for empty Series will be 'object' instead of 'float64' in a future version. Specify a dtype explicitly to silence this warning.\n",
      "  teamSeries = pd.Series(index=[\"team\", \"oldPick\", \"newPick\", \"year\", \"overallPick\"])\n",
      "<ipython-input-11-4fc66cc84f35>:53: DeprecationWarning: The default dtype for empty Series will be 'object' instead of 'float64' in a future version. Specify a dtype explicitly to silence this warning.\n",
      "  teamSeries = pd.Series(index=[\"team\", \"oldPick\", \"newPick\", \"year\", \"overallPick\"])\n",
      "<ipython-input-11-4fc66cc84f35>:53: DeprecationWarning: The default dtype for empty Series will be 'object' instead of 'float64' in a future version. Specify a dtype explicitly to silence this warning.\n",
      "  teamSeries = pd.Series(index=[\"team\", \"oldPick\", \"newPick\", \"year\", \"overallPick\"])\n",
      "<ipython-input-11-4fc66cc84f35>:53: DeprecationWarning: The default dtype for empty Series will be 'object' instead of 'float64' in a future version. Specify a dtype explicitly to silence this warning.\n",
      "  teamSeries = pd.Series(index=[\"team\", \"oldPick\", \"newPick\", \"year\", \"overallPick\"])\n"
     ]
    },
    {
     "name": "stdout",
     "output_type": "stream",
     "text": [
      "YEAR: 2008, TEAM: BRK\n",
      "YEAR: 2008, TEAM: TOR\n",
      "YEAR: 2008, TEAM: UTA\n",
      "YEAR: 2008, TEAM: SAS\n",
      "YEAR: 2008, TEAM: NOP\n"
     ]
    },
    {
     "name": "stderr",
     "output_type": "stream",
     "text": [
      "<ipython-input-11-4fc66cc84f35>:53: DeprecationWarning: The default dtype for empty Series will be 'object' instead of 'float64' in a future version. Specify a dtype explicitly to silence this warning.\n",
      "  teamSeries = pd.Series(index=[\"team\", \"oldPick\", \"newPick\", \"year\", \"overallPick\"])\n",
      "<ipython-input-11-4fc66cc84f35>:53: DeprecationWarning: The default dtype for empty Series will be 'object' instead of 'float64' in a future version. Specify a dtype explicitly to silence this warning.\n",
      "  teamSeries = pd.Series(index=[\"team\", \"oldPick\", \"newPick\", \"year\", \"overallPick\"])\n",
      "<ipython-input-11-4fc66cc84f35>:53: DeprecationWarning: The default dtype for empty Series will be 'object' instead of 'float64' in a future version. Specify a dtype explicitly to silence this warning.\n",
      "  teamSeries = pd.Series(index=[\"team\", \"oldPick\", \"newPick\", \"year\", \"overallPick\"])\n",
      "<ipython-input-11-4fc66cc84f35>:53: DeprecationWarning: The default dtype for empty Series will be 'object' instead of 'float64' in a future version. Specify a dtype explicitly to silence this warning.\n",
      "  teamSeries = pd.Series(index=[\"team\", \"oldPick\", \"newPick\", \"year\", \"overallPick\"])\n",
      "<ipython-input-11-4fc66cc84f35>:53: DeprecationWarning: The default dtype for empty Series will be 'object' instead of 'float64' in a future version. Specify a dtype explicitly to silence this warning.\n",
      "  teamSeries = pd.Series(index=[\"team\", \"oldPick\", \"newPick\", \"year\", \"overallPick\"])\n",
      "<ipython-input-11-4fc66cc84f35>:53: DeprecationWarning: The default dtype for empty Series will be 'object' instead of 'float64' in a future version. Specify a dtype explicitly to silence this warning.\n",
      "  teamSeries = pd.Series(index=[\"team\", \"oldPick\", \"newPick\", \"year\", \"overallPick\"])\n"
     ]
    },
    {
     "name": "stdout",
     "output_type": "stream",
     "text": [
      "YEAR: 2008, TEAM: NYK\n",
      "YEAR: 2008, TEAM: HOU\n",
      "YEAR: 2008, TEAM: LAC\n",
      "YEAR: 2008, TEAM: GSW\n",
      "YEAR: 2008, TEAM: OKC\n"
     ]
    },
    {
     "name": "stderr",
     "output_type": "stream",
     "text": [
      "<ipython-input-11-4fc66cc84f35>:53: DeprecationWarning: The default dtype for empty Series will be 'object' instead of 'float64' in a future version. Specify a dtype explicitly to silence this warning.\n",
      "  teamSeries = pd.Series(index=[\"team\", \"oldPick\", \"newPick\", \"year\", \"overallPick\"])\n",
      "<ipython-input-11-4fc66cc84f35>:53: DeprecationWarning: The default dtype for empty Series will be 'object' instead of 'float64' in a future version. Specify a dtype explicitly to silence this warning.\n",
      "  teamSeries = pd.Series(index=[\"team\", \"oldPick\", \"newPick\", \"year\", \"overallPick\"])\n",
      "<ipython-input-11-4fc66cc84f35>:53: DeprecationWarning: The default dtype for empty Series will be 'object' instead of 'float64' in a future version. Specify a dtype explicitly to silence this warning.\n",
      "  teamSeries = pd.Series(index=[\"team\", \"oldPick\", \"newPick\", \"year\", \"overallPick\"])\n",
      "<ipython-input-11-4fc66cc84f35>:53: DeprecationWarning: The default dtype for empty Series will be 'object' instead of 'float64' in a future version. Specify a dtype explicitly to silence this warning.\n",
      "  teamSeries = pd.Series(index=[\"team\", \"oldPick\", \"newPick\", \"year\", \"overallPick\"])\n",
      "<ipython-input-11-4fc66cc84f35>:23: SettingWithCopyWarning: \n",
      "A value is trying to be set on a copy of a slice from a DataFrame\n",
      "\n",
      "See the caveats in the documentation: https://pandas.pydata.org/pandas-docs/stable/user_guide/indexing.html#returning-a-view-versus-a-copy\n",
      "  yearDraftData.sort_values(by=[\"overallPick\"], inplace=True)\n",
      "<ipython-input-11-4fc66cc84f35>:53: DeprecationWarning: The default dtype for empty Series will be 'object' instead of 'float64' in a future version. Specify a dtype explicitly to silence this warning.\n",
      "  teamSeries = pd.Series(index=[\"team\", \"oldPick\", \"newPick\", \"year\", \"overallPick\"])\n"
     ]
    },
    {
     "name": "stdout",
     "output_type": "stream",
     "text": [
      "YEAR: 2008, TEAM: WAS\n",
      "YEAR: 2008, TEAM: CLE\n",
      "YEAR: 2008, TEAM: MEM\n",
      "YEAR: 2009, TEAM: PHI\n",
      "YEAR: 2009, TEAM: LAL\n"
     ]
    },
    {
     "name": "stderr",
     "output_type": "stream",
     "text": [
      "<ipython-input-11-4fc66cc84f35>:53: DeprecationWarning: The default dtype for empty Series will be 'object' instead of 'float64' in a future version. Specify a dtype explicitly to silence this warning.\n",
      "  teamSeries = pd.Series(index=[\"team\", \"oldPick\", \"newPick\", \"year\", \"overallPick\"])\n",
      "<ipython-input-11-4fc66cc84f35>:53: DeprecationWarning: The default dtype for empty Series will be 'object' instead of 'float64' in a future version. Specify a dtype explicitly to silence this warning.\n",
      "  teamSeries = pd.Series(index=[\"team\", \"oldPick\", \"newPick\", \"year\", \"overallPick\"])\n",
      "<ipython-input-11-4fc66cc84f35>:53: DeprecationWarning: The default dtype for empty Series will be 'object' instead of 'float64' in a future version. Specify a dtype explicitly to silence this warning.\n",
      "  teamSeries = pd.Series(index=[\"team\", \"oldPick\", \"newPick\", \"year\", \"overallPick\"])\n",
      "<ipython-input-11-4fc66cc84f35>:53: DeprecationWarning: The default dtype for empty Series will be 'object' instead of 'float64' in a future version. Specify a dtype explicitly to silence this warning.\n",
      "  teamSeries = pd.Series(index=[\"team\", \"oldPick\", \"newPick\", \"year\", \"overallPick\"])\n"
     ]
    },
    {
     "name": "stdout",
     "output_type": "stream",
     "text": [
      "YEAR: 2009, TEAM: BOS\n",
      "YEAR: 2009, TEAM: PHO\n",
      "YEAR: 2009, TEAM: SAC\n",
      "YEAR: 2009, TEAM: ORL\n",
      "YEAR: 2009, TEAM: MIN\n"
     ]
    },
    {
     "name": "stderr",
     "output_type": "stream",
     "text": [
      "<ipython-input-11-4fc66cc84f35>:53: DeprecationWarning: The default dtype for empty Series will be 'object' instead of 'float64' in a future version. Specify a dtype explicitly to silence this warning.\n",
      "  teamSeries = pd.Series(index=[\"team\", \"oldPick\", \"newPick\", \"year\", \"overallPick\"])\n",
      "<ipython-input-11-4fc66cc84f35>:53: DeprecationWarning: The default dtype for empty Series will be 'object' instead of 'float64' in a future version. Specify a dtype explicitly to silence this warning.\n",
      "  teamSeries = pd.Series(index=[\"team\", \"oldPick\", \"newPick\", \"year\", \"overallPick\"])\n",
      "<ipython-input-11-4fc66cc84f35>:53: DeprecationWarning: The default dtype for empty Series will be 'object' instead of 'float64' in a future version. Specify a dtype explicitly to silence this warning.\n",
      "  teamSeries = pd.Series(index=[\"team\", \"oldPick\", \"newPick\", \"year\", \"overallPick\"])\n",
      "<ipython-input-11-4fc66cc84f35>:53: DeprecationWarning: The default dtype for empty Series will be 'object' instead of 'float64' in a future version. Specify a dtype explicitly to silence this warning.\n",
      "  teamSeries = pd.Series(index=[\"team\", \"oldPick\", \"newPick\", \"year\", \"overallPick\"])\n"
     ]
    },
    {
     "name": "stdout",
     "output_type": "stream",
     "text": [
      "YEAR: 2009, TEAM: DAL\n",
      "YEAR: 2009, TEAM: CHO\n",
      "YEAR: 2009, TEAM: DET\n",
      "YEAR: 2009, TEAM: DEN\n",
      "YEAR: 2009, TEAM: MIA\n",
      "YEAR: 2009, TEAM: CHI\n"
     ]
    },
    {
     "name": "stderr",
     "output_type": "stream",
     "text": [
      "<ipython-input-11-4fc66cc84f35>:53: DeprecationWarning: The default dtype for empty Series will be 'object' instead of 'float64' in a future version. Specify a dtype explicitly to silence this warning.\n",
      "  teamSeries = pd.Series(index=[\"team\", \"oldPick\", \"newPick\", \"year\", \"overallPick\"])\n",
      "<ipython-input-11-4fc66cc84f35>:53: DeprecationWarning: The default dtype for empty Series will be 'object' instead of 'float64' in a future version. Specify a dtype explicitly to silence this warning.\n",
      "  teamSeries = pd.Series(index=[\"team\", \"oldPick\", \"newPick\", \"year\", \"overallPick\"])\n",
      "<ipython-input-11-4fc66cc84f35>:53: DeprecationWarning: The default dtype for empty Series will be 'object' instead of 'float64' in a future version. Specify a dtype explicitly to silence this warning.\n",
      "  teamSeries = pd.Series(index=[\"team\", \"oldPick\", \"newPick\", \"year\", \"overallPick\"])\n",
      "<ipython-input-11-4fc66cc84f35>:53: DeprecationWarning: The default dtype for empty Series will be 'object' instead of 'float64' in a future version. Specify a dtype explicitly to silence this warning.\n",
      "  teamSeries = pd.Series(index=[\"team\", \"oldPick\", \"newPick\", \"year\", \"overallPick\"])\n"
     ]
    },
    {
     "name": "stdout",
     "output_type": "stream",
     "text": [
      "YEAR: 2009, TEAM: MIL\n",
      "YEAR: 2009, TEAM: IND\n",
      "YEAR: 2009, TEAM: ATL\n",
      "YEAR: 2009, TEAM: POR\n",
      "YEAR: 2009, TEAM: BRK\n",
      "YEAR: 2009, TEAM: TOR\n"
     ]
    },
    {
     "name": "stderr",
     "output_type": "stream",
     "text": [
      "<ipython-input-11-4fc66cc84f35>:53: DeprecationWarning: The default dtype for empty Series will be 'object' instead of 'float64' in a future version. Specify a dtype explicitly to silence this warning.\n",
      "  teamSeries = pd.Series(index=[\"team\", \"oldPick\", \"newPick\", \"year\", \"overallPick\"])\n",
      "<ipython-input-11-4fc66cc84f35>:53: DeprecationWarning: The default dtype for empty Series will be 'object' instead of 'float64' in a future version. Specify a dtype explicitly to silence this warning.\n",
      "  teamSeries = pd.Series(index=[\"team\", \"oldPick\", \"newPick\", \"year\", \"overallPick\"])\n",
      "<ipython-input-11-4fc66cc84f35>:53: DeprecationWarning: The default dtype for empty Series will be 'object' instead of 'float64' in a future version. Specify a dtype explicitly to silence this warning.\n",
      "  teamSeries = pd.Series(index=[\"team\", \"oldPick\", \"newPick\", \"year\", \"overallPick\"])\n"
     ]
    },
    {
     "name": "stdout",
     "output_type": "stream",
     "text": [
      "YEAR: 2009, TEAM: UTA\n",
      "YEAR: 2009, TEAM: SAS\n",
      "YEAR: 2009, TEAM: NOP\n",
      "YEAR: 2009, TEAM: NYK\n",
      "YEAR: 2009, TEAM: HOU\n",
      "YEAR: 2009, TEAM: LAC\n"
     ]
    },
    {
     "name": "stderr",
     "output_type": "stream",
     "text": [
      "<ipython-input-11-4fc66cc84f35>:53: DeprecationWarning: The default dtype for empty Series will be 'object' instead of 'float64' in a future version. Specify a dtype explicitly to silence this warning.\n",
      "  teamSeries = pd.Series(index=[\"team\", \"oldPick\", \"newPick\", \"year\", \"overallPick\"])\n",
      "<ipython-input-11-4fc66cc84f35>:53: DeprecationWarning: The default dtype for empty Series will be 'object' instead of 'float64' in a future version. Specify a dtype explicitly to silence this warning.\n",
      "  teamSeries = pd.Series(index=[\"team\", \"oldPick\", \"newPick\", \"year\", \"overallPick\"])\n",
      "<ipython-input-11-4fc66cc84f35>:53: DeprecationWarning: The default dtype for empty Series will be 'object' instead of 'float64' in a future version. Specify a dtype explicitly to silence this warning.\n",
      "  teamSeries = pd.Series(index=[\"team\", \"oldPick\", \"newPick\", \"year\", \"overallPick\"])\n",
      "<ipython-input-11-4fc66cc84f35>:53: DeprecationWarning: The default dtype for empty Series will be 'object' instead of 'float64' in a future version. Specify a dtype explicitly to silence this warning.\n",
      "  teamSeries = pd.Series(index=[\"team\", \"oldPick\", \"newPick\", \"year\", \"overallPick\"])\n"
     ]
    },
    {
     "name": "stdout",
     "output_type": "stream",
     "text": [
      "YEAR: 2009, TEAM: GSW\n",
      "YEAR: 2009, TEAM: OKC\n",
      "YEAR: 2009, TEAM: WAS\n",
      "YEAR: 2009, TEAM: CLE\n",
      "YEAR: 2009, TEAM: MEM\n"
     ]
    },
    {
     "name": "stderr",
     "output_type": "stream",
     "text": [
      "<ipython-input-11-4fc66cc84f35>:53: DeprecationWarning: The default dtype for empty Series will be 'object' instead of 'float64' in a future version. Specify a dtype explicitly to silence this warning.\n",
      "  teamSeries = pd.Series(index=[\"team\", \"oldPick\", \"newPick\", \"year\", \"overallPick\"])\n",
      "<ipython-input-11-4fc66cc84f35>:53: DeprecationWarning: The default dtype for empty Series will be 'object' instead of 'float64' in a future version. Specify a dtype explicitly to silence this warning.\n",
      "  teamSeries = pd.Series(index=[\"team\", \"oldPick\", \"newPick\", \"year\", \"overallPick\"])\n",
      "<ipython-input-11-4fc66cc84f35>:53: DeprecationWarning: The default dtype for empty Series will be 'object' instead of 'float64' in a future version. Specify a dtype explicitly to silence this warning.\n",
      "  teamSeries = pd.Series(index=[\"team\", \"oldPick\", \"newPick\", \"year\", \"overallPick\"])\n",
      "<ipython-input-11-4fc66cc84f35>:53: DeprecationWarning: The default dtype for empty Series will be 'object' instead of 'float64' in a future version. Specify a dtype explicitly to silence this warning.\n",
      "  teamSeries = pd.Series(index=[\"team\", \"oldPick\", \"newPick\", \"year\", \"overallPick\"])\n",
      "<ipython-input-11-4fc66cc84f35>:23: SettingWithCopyWarning: \n",
      "A value is trying to be set on a copy of a slice from a DataFrame\n",
      "\n",
      "See the caveats in the documentation: https://pandas.pydata.org/pandas-docs/stable/user_guide/indexing.html#returning-a-view-versus-a-copy\n",
      "  yearDraftData.sort_values(by=[\"overallPick\"], inplace=True)\n",
      "<ipython-input-11-4fc66cc84f35>:53: DeprecationWarning: The default dtype for empty Series will be 'object' instead of 'float64' in a future version. Specify a dtype explicitly to silence this warning.\n",
      "  teamSeries = pd.Series(index=[\"team\", \"oldPick\", \"newPick\", \"year\", \"overallPick\"])\n"
     ]
    },
    {
     "name": "stdout",
     "output_type": "stream",
     "text": [
      "YEAR: 2010, TEAM: PHI\n",
      "YEAR: 2010, TEAM: LAL\n",
      "YEAR: 2010, TEAM: BOS\n",
      "YEAR: 2010, TEAM: PHO\n"
     ]
    },
    {
     "name": "stderr",
     "output_type": "stream",
     "text": [
      "<ipython-input-11-4fc66cc84f35>:53: DeprecationWarning: The default dtype for empty Series will be 'object' instead of 'float64' in a future version. Specify a dtype explicitly to silence this warning.\n",
      "  teamSeries = pd.Series(index=[\"team\", \"oldPick\", \"newPick\", \"year\", \"overallPick\"])\n",
      "<ipython-input-11-4fc66cc84f35>:53: DeprecationWarning: The default dtype for empty Series will be 'object' instead of 'float64' in a future version. Specify a dtype explicitly to silence this warning.\n",
      "  teamSeries = pd.Series(index=[\"team\", \"oldPick\", \"newPick\", \"year\", \"overallPick\"])\n",
      "<ipython-input-11-4fc66cc84f35>:53: DeprecationWarning: The default dtype for empty Series will be 'object' instead of 'float64' in a future version. Specify a dtype explicitly to silence this warning.\n",
      "  teamSeries = pd.Series(index=[\"team\", \"oldPick\", \"newPick\", \"year\", \"overallPick\"])\n",
      "<ipython-input-11-4fc66cc84f35>:53: DeprecationWarning: The default dtype for empty Series will be 'object' instead of 'float64' in a future version. Specify a dtype explicitly to silence this warning.\n",
      "  teamSeries = pd.Series(index=[\"team\", \"oldPick\", \"newPick\", \"year\", \"overallPick\"])\n"
     ]
    },
    {
     "name": "stdout",
     "output_type": "stream",
     "text": [
      "YEAR: 2010, TEAM: SAC\n",
      "YEAR: 2010, TEAM: ORL\n",
      "YEAR: 2010, TEAM: MIN\n"
     ]
    },
    {
     "name": "stderr",
     "output_type": "stream",
     "text": [
      "<ipython-input-11-4fc66cc84f35>:53: DeprecationWarning: The default dtype for empty Series will be 'object' instead of 'float64' in a future version. Specify a dtype explicitly to silence this warning.\n",
      "  teamSeries = pd.Series(index=[\"team\", \"oldPick\", \"newPick\", \"year\", \"overallPick\"])\n",
      "<ipython-input-11-4fc66cc84f35>:53: DeprecationWarning: The default dtype for empty Series will be 'object' instead of 'float64' in a future version. Specify a dtype explicitly to silence this warning.\n",
      "  teamSeries = pd.Series(index=[\"team\", \"oldPick\", \"newPick\", \"year\", \"overallPick\"])\n",
      "<ipython-input-11-4fc66cc84f35>:53: DeprecationWarning: The default dtype for empty Series will be 'object' instead of 'float64' in a future version. Specify a dtype explicitly to silence this warning.\n",
      "  teamSeries = pd.Series(index=[\"team\", \"oldPick\", \"newPick\", \"year\", \"overallPick\"])\n"
     ]
    },
    {
     "name": "stdout",
     "output_type": "stream",
     "text": [
      "YEAR: 2010, TEAM: DAL\n",
      "YEAR: 2010, TEAM: CHO\n",
      "YEAR: 2010, TEAM: DET\n",
      "YEAR: 2010, TEAM: DEN\n",
      "YEAR: 2010, TEAM: MIA\n"
     ]
    },
    {
     "name": "stderr",
     "output_type": "stream",
     "text": [
      "<ipython-input-11-4fc66cc84f35>:53: DeprecationWarning: The default dtype for empty Series will be 'object' instead of 'float64' in a future version. Specify a dtype explicitly to silence this warning.\n",
      "  teamSeries = pd.Series(index=[\"team\", \"oldPick\", \"newPick\", \"year\", \"overallPick\"])\n",
      "<ipython-input-11-4fc66cc84f35>:53: DeprecationWarning: The default dtype for empty Series will be 'object' instead of 'float64' in a future version. Specify a dtype explicitly to silence this warning.\n",
      "  teamSeries = pd.Series(index=[\"team\", \"oldPick\", \"newPick\", \"year\", \"overallPick\"])\n",
      "<ipython-input-11-4fc66cc84f35>:53: DeprecationWarning: The default dtype for empty Series will be 'object' instead of 'float64' in a future version. Specify a dtype explicitly to silence this warning.\n",
      "  teamSeries = pd.Series(index=[\"team\", \"oldPick\", \"newPick\", \"year\", \"overallPick\"])\n"
     ]
    },
    {
     "name": "stdout",
     "output_type": "stream",
     "text": [
      "YEAR: 2010, TEAM: CHI\n",
      "YEAR: 2010, TEAM: MIL\n",
      "YEAR: 2010, TEAM: IND\n"
     ]
    },
    {
     "name": "stderr",
     "output_type": "stream",
     "text": [
      "<ipython-input-11-4fc66cc84f35>:53: DeprecationWarning: The default dtype for empty Series will be 'object' instead of 'float64' in a future version. Specify a dtype explicitly to silence this warning.\n",
      "  teamSeries = pd.Series(index=[\"team\", \"oldPick\", \"newPick\", \"year\", \"overallPick\"])\n",
      "<ipython-input-11-4fc66cc84f35>:53: DeprecationWarning: The default dtype for empty Series will be 'object' instead of 'float64' in a future version. Specify a dtype explicitly to silence this warning.\n",
      "  teamSeries = pd.Series(index=[\"team\", \"oldPick\", \"newPick\", \"year\", \"overallPick\"])\n",
      "<ipython-input-11-4fc66cc84f35>:53: DeprecationWarning: The default dtype for empty Series will be 'object' instead of 'float64' in a future version. Specify a dtype explicitly to silence this warning.\n",
      "  teamSeries = pd.Series(index=[\"team\", \"oldPick\", \"newPick\", \"year\", \"overallPick\"])\n"
     ]
    },
    {
     "name": "stdout",
     "output_type": "stream",
     "text": [
      "YEAR: 2010, TEAM: ATL\n",
      "YEAR: 2010, TEAM: POR\n",
      "YEAR: 2010, TEAM: BRK\n"
     ]
    },
    {
     "name": "stderr",
     "output_type": "stream",
     "text": [
      "<ipython-input-11-4fc66cc84f35>:53: DeprecationWarning: The default dtype for empty Series will be 'object' instead of 'float64' in a future version. Specify a dtype explicitly to silence this warning.\n",
      "  teamSeries = pd.Series(index=[\"team\", \"oldPick\", \"newPick\", \"year\", \"overallPick\"])\n",
      "<ipython-input-11-4fc66cc84f35>:53: DeprecationWarning: The default dtype for empty Series will be 'object' instead of 'float64' in a future version. Specify a dtype explicitly to silence this warning.\n",
      "  teamSeries = pd.Series(index=[\"team\", \"oldPick\", \"newPick\", \"year\", \"overallPick\"])\n",
      "<ipython-input-11-4fc66cc84f35>:53: DeprecationWarning: The default dtype for empty Series will be 'object' instead of 'float64' in a future version. Specify a dtype explicitly to silence this warning.\n",
      "  teamSeries = pd.Series(index=[\"team\", \"oldPick\", \"newPick\", \"year\", \"overallPick\"])\n"
     ]
    },
    {
     "name": "stdout",
     "output_type": "stream",
     "text": [
      "YEAR: 2010, TEAM: TOR\n",
      "YEAR: 2010, TEAM: UTA\n",
      "YEAR: 2010, TEAM: SAS\n",
      "YEAR: 2010, TEAM: NOP\n",
      "YEAR: 2010, TEAM: NYK\n"
     ]
    },
    {
     "name": "stderr",
     "output_type": "stream",
     "text": [
      "<ipython-input-11-4fc66cc84f35>:53: DeprecationWarning: The default dtype for empty Series will be 'object' instead of 'float64' in a future version. Specify a dtype explicitly to silence this warning.\n",
      "  teamSeries = pd.Series(index=[\"team\", \"oldPick\", \"newPick\", \"year\", \"overallPick\"])\n",
      "<ipython-input-11-4fc66cc84f35>:53: DeprecationWarning: The default dtype for empty Series will be 'object' instead of 'float64' in a future version. Specify a dtype explicitly to silence this warning.\n",
      "  teamSeries = pd.Series(index=[\"team\", \"oldPick\", \"newPick\", \"year\", \"overallPick\"])\n",
      "<ipython-input-11-4fc66cc84f35>:53: DeprecationWarning: The default dtype for empty Series will be 'object' instead of 'float64' in a future version. Specify a dtype explicitly to silence this warning.\n",
      "  teamSeries = pd.Series(index=[\"team\", \"oldPick\", \"newPick\", \"year\", \"overallPick\"])\n",
      "<ipython-input-11-4fc66cc84f35>:53: DeprecationWarning: The default dtype for empty Series will be 'object' instead of 'float64' in a future version. Specify a dtype explicitly to silence this warning.\n",
      "  teamSeries = pd.Series(index=[\"team\", \"oldPick\", \"newPick\", \"year\", \"overallPick\"])\n"
     ]
    },
    {
     "name": "stdout",
     "output_type": "stream",
     "text": [
      "YEAR: 2010, TEAM: HOU\n",
      "YEAR: 2010, TEAM: LAC\n",
      "YEAR: 2010, TEAM: GSW\n",
      "YEAR: 2010, TEAM: OKC\n"
     ]
    },
    {
     "name": "stderr",
     "output_type": "stream",
     "text": [
      "<ipython-input-11-4fc66cc84f35>:53: DeprecationWarning: The default dtype for empty Series will be 'object' instead of 'float64' in a future version. Specify a dtype explicitly to silence this warning.\n",
      "  teamSeries = pd.Series(index=[\"team\", \"oldPick\", \"newPick\", \"year\", \"overallPick\"])\n",
      "<ipython-input-11-4fc66cc84f35>:53: DeprecationWarning: The default dtype for empty Series will be 'object' instead of 'float64' in a future version. Specify a dtype explicitly to silence this warning.\n",
      "  teamSeries = pd.Series(index=[\"team\", \"oldPick\", \"newPick\", \"year\", \"overallPick\"])\n",
      "<ipython-input-11-4fc66cc84f35>:53: DeprecationWarning: The default dtype for empty Series will be 'object' instead of 'float64' in a future version. Specify a dtype explicitly to silence this warning.\n",
      "  teamSeries = pd.Series(index=[\"team\", \"oldPick\", \"newPick\", \"year\", \"overallPick\"])\n",
      "<ipython-input-11-4fc66cc84f35>:53: DeprecationWarning: The default dtype for empty Series will be 'object' instead of 'float64' in a future version. Specify a dtype explicitly to silence this warning.\n",
      "  teamSeries = pd.Series(index=[\"team\", \"oldPick\", \"newPick\", \"year\", \"overallPick\"])\n"
     ]
    },
    {
     "name": "stdout",
     "output_type": "stream",
     "text": [
      "YEAR: 2010, TEAM: WAS\n",
      "YEAR: 2010, TEAM: CLE\n",
      "YEAR: 2010, TEAM: MEM\n"
     ]
    },
    {
     "name": "stderr",
     "output_type": "stream",
     "text": [
      "<ipython-input-11-4fc66cc84f35>:53: DeprecationWarning: The default dtype for empty Series will be 'object' instead of 'float64' in a future version. Specify a dtype explicitly to silence this warning.\n",
      "  teamSeries = pd.Series(index=[\"team\", \"oldPick\", \"newPick\", \"year\", \"overallPick\"])\n",
      "<ipython-input-11-4fc66cc84f35>:23: SettingWithCopyWarning: \n",
      "A value is trying to be set on a copy of a slice from a DataFrame\n",
      "\n",
      "See the caveats in the documentation: https://pandas.pydata.org/pandas-docs/stable/user_guide/indexing.html#returning-a-view-versus-a-copy\n",
      "  yearDraftData.sort_values(by=[\"overallPick\"], inplace=True)\n",
      "<ipython-input-11-4fc66cc84f35>:53: DeprecationWarning: The default dtype for empty Series will be 'object' instead of 'float64' in a future version. Specify a dtype explicitly to silence this warning.\n",
      "  teamSeries = pd.Series(index=[\"team\", \"oldPick\", \"newPick\", \"year\", \"overallPick\"])\n",
      "<ipython-input-11-4fc66cc84f35>:53: DeprecationWarning: The default dtype for empty Series will be 'object' instead of 'float64' in a future version. Specify a dtype explicitly to silence this warning.\n",
      "  teamSeries = pd.Series(index=[\"team\", \"oldPick\", \"newPick\", \"year\", \"overallPick\"])\n",
      "<ipython-input-11-4fc66cc84f35>:53: DeprecationWarning: The default dtype for empty Series will be 'object' instead of 'float64' in a future version. Specify a dtype explicitly to silence this warning.\n",
      "  teamSeries = pd.Series(index=[\"team\", \"oldPick\", \"newPick\", \"year\", \"overallPick\"])\n"
     ]
    },
    {
     "name": "stdout",
     "output_type": "stream",
     "text": [
      "YEAR: 2011, TEAM: PHI\n",
      "YEAR: 2011, TEAM: LAL\n",
      "YEAR: 2011, TEAM: BOS\n",
      "YEAR: 2011, TEAM: PHO\n"
     ]
    },
    {
     "name": "stderr",
     "output_type": "stream",
     "text": [
      "<ipython-input-11-4fc66cc84f35>:53: DeprecationWarning: The default dtype for empty Series will be 'object' instead of 'float64' in a future version. Specify a dtype explicitly to silence this warning.\n",
      "  teamSeries = pd.Series(index=[\"team\", \"oldPick\", \"newPick\", \"year\", \"overallPick\"])\n",
      "<ipython-input-11-4fc66cc84f35>:53: DeprecationWarning: The default dtype for empty Series will be 'object' instead of 'float64' in a future version. Specify a dtype explicitly to silence this warning.\n",
      "  teamSeries = pd.Series(index=[\"team\", \"oldPick\", \"newPick\", \"year\", \"overallPick\"])\n",
      "<ipython-input-11-4fc66cc84f35>:53: DeprecationWarning: The default dtype for empty Series will be 'object' instead of 'float64' in a future version. Specify a dtype explicitly to silence this warning.\n",
      "  teamSeries = pd.Series(index=[\"team\", \"oldPick\", \"newPick\", \"year\", \"overallPick\"])\n"
     ]
    },
    {
     "name": "stdout",
     "output_type": "stream",
     "text": [
      "YEAR: 2011, TEAM: SAC\n",
      "YEAR: 2011, TEAM: ORL\n",
      "YEAR: 2011, TEAM: MIN\n",
      "YEAR: 2011, TEAM: DAL\n"
     ]
    },
    {
     "name": "stderr",
     "output_type": "stream",
     "text": [
      "<ipython-input-11-4fc66cc84f35>:53: DeprecationWarning: The default dtype for empty Series will be 'object' instead of 'float64' in a future version. Specify a dtype explicitly to silence this warning.\n",
      "  teamSeries = pd.Series(index=[\"team\", \"oldPick\", \"newPick\", \"year\", \"overallPick\"])\n",
      "<ipython-input-11-4fc66cc84f35>:53: DeprecationWarning: The default dtype for empty Series will be 'object' instead of 'float64' in a future version. Specify a dtype explicitly to silence this warning.\n",
      "  teamSeries = pd.Series(index=[\"team\", \"oldPick\", \"newPick\", \"year\", \"overallPick\"])\n",
      "<ipython-input-11-4fc66cc84f35>:53: DeprecationWarning: The default dtype for empty Series will be 'object' instead of 'float64' in a future version. Specify a dtype explicitly to silence this warning.\n",
      "  teamSeries = pd.Series(index=[\"team\", \"oldPick\", \"newPick\", \"year\", \"overallPick\"])\n",
      "<ipython-input-11-4fc66cc84f35>:53: DeprecationWarning: The default dtype for empty Series will be 'object' instead of 'float64' in a future version. Specify a dtype explicitly to silence this warning.\n",
      "  teamSeries = pd.Series(index=[\"team\", \"oldPick\", \"newPick\", \"year\", \"overallPick\"])\n"
     ]
    },
    {
     "name": "stdout",
     "output_type": "stream",
     "text": [
      "YEAR: 2011, TEAM: CHO\n",
      "YEAR: 2011, TEAM: DET\n",
      "YEAR: 2011, TEAM: DEN\n",
      "YEAR: 2011, TEAM: MIA\n",
      "YEAR: 2011, TEAM: CHI\n"
     ]
    },
    {
     "name": "stderr",
     "output_type": "stream",
     "text": [
      "<ipython-input-11-4fc66cc84f35>:53: DeprecationWarning: The default dtype for empty Series will be 'object' instead of 'float64' in a future version. Specify a dtype explicitly to silence this warning.\n",
      "  teamSeries = pd.Series(index=[\"team\", \"oldPick\", \"newPick\", \"year\", \"overallPick\"])\n",
      "<ipython-input-11-4fc66cc84f35>:53: DeprecationWarning: The default dtype for empty Series will be 'object' instead of 'float64' in a future version. Specify a dtype explicitly to silence this warning.\n",
      "  teamSeries = pd.Series(index=[\"team\", \"oldPick\", \"newPick\", \"year\", \"overallPick\"])\n"
     ]
    },
    {
     "name": "stdout",
     "output_type": "stream",
     "text": [
      "YEAR: 2011, TEAM: MIL\n",
      "YEAR: 2011, TEAM: IND\n",
      "YEAR: 2011, TEAM: ATL\n",
      "YEAR: 2011, TEAM: POR\n"
     ]
    },
    {
     "name": "stderr",
     "output_type": "stream",
     "text": [
      "<ipython-input-11-4fc66cc84f35>:53: DeprecationWarning: The default dtype for empty Series will be 'object' instead of 'float64' in a future version. Specify a dtype explicitly to silence this warning.\n",
      "  teamSeries = pd.Series(index=[\"team\", \"oldPick\", \"newPick\", \"year\", \"overallPick\"])\n",
      "<ipython-input-11-4fc66cc84f35>:53: DeprecationWarning: The default dtype for empty Series will be 'object' instead of 'float64' in a future version. Specify a dtype explicitly to silence this warning.\n",
      "  teamSeries = pd.Series(index=[\"team\", \"oldPick\", \"newPick\", \"year\", \"overallPick\"])\n",
      "<ipython-input-11-4fc66cc84f35>:53: DeprecationWarning: The default dtype for empty Series will be 'object' instead of 'float64' in a future version. Specify a dtype explicitly to silence this warning.\n",
      "  teamSeries = pd.Series(index=[\"team\", \"oldPick\", \"newPick\", \"year\", \"overallPick\"])\n",
      "<ipython-input-11-4fc66cc84f35>:53: DeprecationWarning: The default dtype for empty Series will be 'object' instead of 'float64' in a future version. Specify a dtype explicitly to silence this warning.\n",
      "  teamSeries = pd.Series(index=[\"team\", \"oldPick\", \"newPick\", \"year\", \"overallPick\"])\n"
     ]
    },
    {
     "name": "stdout",
     "output_type": "stream",
     "text": [
      "YEAR: 2011, TEAM: BRK\n",
      "YEAR: 2011, TEAM: TOR\n",
      "YEAR: 2011, TEAM: UTA\n",
      "YEAR: 2011, TEAM: SAS\n"
     ]
    },
    {
     "name": "stderr",
     "output_type": "stream",
     "text": [
      "<ipython-input-11-4fc66cc84f35>:53: DeprecationWarning: The default dtype for empty Series will be 'object' instead of 'float64' in a future version. Specify a dtype explicitly to silence this warning.\n",
      "  teamSeries = pd.Series(index=[\"team\", \"oldPick\", \"newPick\", \"year\", \"overallPick\"])\n",
      "<ipython-input-11-4fc66cc84f35>:53: DeprecationWarning: The default dtype for empty Series will be 'object' instead of 'float64' in a future version. Specify a dtype explicitly to silence this warning.\n",
      "  teamSeries = pd.Series(index=[\"team\", \"oldPick\", \"newPick\", \"year\", \"overallPick\"])\n",
      "<ipython-input-11-4fc66cc84f35>:53: DeprecationWarning: The default dtype for empty Series will be 'object' instead of 'float64' in a future version. Specify a dtype explicitly to silence this warning.\n",
      "  teamSeries = pd.Series(index=[\"team\", \"oldPick\", \"newPick\", \"year\", \"overallPick\"])\n",
      "<ipython-input-11-4fc66cc84f35>:53: DeprecationWarning: The default dtype for empty Series will be 'object' instead of 'float64' in a future version. Specify a dtype explicitly to silence this warning.\n",
      "  teamSeries = pd.Series(index=[\"team\", \"oldPick\", \"newPick\", \"year\", \"overallPick\"])\n"
     ]
    },
    {
     "name": "stdout",
     "output_type": "stream",
     "text": [
      "YEAR: 2011, TEAM: NOP\n",
      "YEAR: 2011, TEAM: NYK\n",
      "YEAR: 2011, TEAM: HOU\n",
      "YEAR: 2011, TEAM: LAC\n"
     ]
    },
    {
     "name": "stderr",
     "output_type": "stream",
     "text": [
      "<ipython-input-11-4fc66cc84f35>:53: DeprecationWarning: The default dtype for empty Series will be 'object' instead of 'float64' in a future version. Specify a dtype explicitly to silence this warning.\n",
      "  teamSeries = pd.Series(index=[\"team\", \"oldPick\", \"newPick\", \"year\", \"overallPick\"])\n",
      "<ipython-input-11-4fc66cc84f35>:53: DeprecationWarning: The default dtype for empty Series will be 'object' instead of 'float64' in a future version. Specify a dtype explicitly to silence this warning.\n",
      "  teamSeries = pd.Series(index=[\"team\", \"oldPick\", \"newPick\", \"year\", \"overallPick\"])\n",
      "<ipython-input-11-4fc66cc84f35>:53: DeprecationWarning: The default dtype for empty Series will be 'object' instead of 'float64' in a future version. Specify a dtype explicitly to silence this warning.\n",
      "  teamSeries = pd.Series(index=[\"team\", \"oldPick\", \"newPick\", \"year\", \"overallPick\"])\n"
     ]
    },
    {
     "name": "stdout",
     "output_type": "stream",
     "text": [
      "YEAR: 2011, TEAM: GSW\n",
      "YEAR: 2011, TEAM: OKC\n",
      "YEAR: 2011, TEAM: WAS\n",
      "YEAR: 2011, TEAM: CLE\n"
     ]
    },
    {
     "name": "stderr",
     "output_type": "stream",
     "text": [
      "<ipython-input-11-4fc66cc84f35>:53: DeprecationWarning: The default dtype for empty Series will be 'object' instead of 'float64' in a future version. Specify a dtype explicitly to silence this warning.\n",
      "  teamSeries = pd.Series(index=[\"team\", \"oldPick\", \"newPick\", \"year\", \"overallPick\"])\n",
      "<ipython-input-11-4fc66cc84f35>:53: DeprecationWarning: The default dtype for empty Series will be 'object' instead of 'float64' in a future version. Specify a dtype explicitly to silence this warning.\n",
      "  teamSeries = pd.Series(index=[\"team\", \"oldPick\", \"newPick\", \"year\", \"overallPick\"])\n",
      "<ipython-input-11-4fc66cc84f35>:53: DeprecationWarning: The default dtype for empty Series will be 'object' instead of 'float64' in a future version. Specify a dtype explicitly to silence this warning.\n",
      "  teamSeries = pd.Series(index=[\"team\", \"oldPick\", \"newPick\", \"year\", \"overallPick\"])\n",
      "<ipython-input-11-4fc66cc84f35>:53: DeprecationWarning: The default dtype for empty Series will be 'object' instead of 'float64' in a future version. Specify a dtype explicitly to silence this warning.\n",
      "  teamSeries = pd.Series(index=[\"team\", \"oldPick\", \"newPick\", \"year\", \"overallPick\"])\n"
     ]
    },
    {
     "name": "stdout",
     "output_type": "stream",
     "text": [
      "YEAR: 2011, TEAM: MEM\n",
      "YEAR: 2012, TEAM: PHI\n",
      "YEAR: 2012, TEAM: LAL\n"
     ]
    },
    {
     "name": "stderr",
     "output_type": "stream",
     "text": [
      "<ipython-input-11-4fc66cc84f35>:53: DeprecationWarning: The default dtype for empty Series will be 'object' instead of 'float64' in a future version. Specify a dtype explicitly to silence this warning.\n",
      "  teamSeries = pd.Series(index=[\"team\", \"oldPick\", \"newPick\", \"year\", \"overallPick\"])\n",
      "<ipython-input-11-4fc66cc84f35>:23: SettingWithCopyWarning: \n",
      "A value is trying to be set on a copy of a slice from a DataFrame\n",
      "\n",
      "See the caveats in the documentation: https://pandas.pydata.org/pandas-docs/stable/user_guide/indexing.html#returning-a-view-versus-a-copy\n",
      "  yearDraftData.sort_values(by=[\"overallPick\"], inplace=True)\n",
      "<ipython-input-11-4fc66cc84f35>:53: DeprecationWarning: The default dtype for empty Series will be 'object' instead of 'float64' in a future version. Specify a dtype explicitly to silence this warning.\n",
      "  teamSeries = pd.Series(index=[\"team\", \"oldPick\", \"newPick\", \"year\", \"overallPick\"])\n",
      "<ipython-input-11-4fc66cc84f35>:53: DeprecationWarning: The default dtype for empty Series will be 'object' instead of 'float64' in a future version. Specify a dtype explicitly to silence this warning.\n",
      "  teamSeries = pd.Series(index=[\"team\", \"oldPick\", \"newPick\", \"year\", \"overallPick\"])\n"
     ]
    },
    {
     "name": "stdout",
     "output_type": "stream",
     "text": [
      "YEAR: 2012, TEAM: BOS\n",
      "YEAR: 2012, TEAM: PHO\n",
      "YEAR: 2012, TEAM: SAC\n",
      "YEAR: 2012, TEAM: ORL\n"
     ]
    },
    {
     "name": "stderr",
     "output_type": "stream",
     "text": [
      "<ipython-input-11-4fc66cc84f35>:53: DeprecationWarning: The default dtype for empty Series will be 'object' instead of 'float64' in a future version. Specify a dtype explicitly to silence this warning.\n",
      "  teamSeries = pd.Series(index=[\"team\", \"oldPick\", \"newPick\", \"year\", \"overallPick\"])\n",
      "<ipython-input-11-4fc66cc84f35>:53: DeprecationWarning: The default dtype for empty Series will be 'object' instead of 'float64' in a future version. Specify a dtype explicitly to silence this warning.\n",
      "  teamSeries = pd.Series(index=[\"team\", \"oldPick\", \"newPick\", \"year\", \"overallPick\"])\n",
      "<ipython-input-11-4fc66cc84f35>:53: DeprecationWarning: The default dtype for empty Series will be 'object' instead of 'float64' in a future version. Specify a dtype explicitly to silence this warning.\n",
      "  teamSeries = pd.Series(index=[\"team\", \"oldPick\", \"newPick\", \"year\", \"overallPick\"])\n",
      "<ipython-input-11-4fc66cc84f35>:53: DeprecationWarning: The default dtype for empty Series will be 'object' instead of 'float64' in a future version. Specify a dtype explicitly to silence this warning.\n",
      "  teamSeries = pd.Series(index=[\"team\", \"oldPick\", \"newPick\", \"year\", \"overallPick\"])\n"
     ]
    },
    {
     "name": "stdout",
     "output_type": "stream",
     "text": [
      "YEAR: 2012, TEAM: MIN\n",
      "YEAR: 2012, TEAM: DAL\n",
      "YEAR: 2012, TEAM: CHO\n"
     ]
    },
    {
     "name": "stderr",
     "output_type": "stream",
     "text": [
      "<ipython-input-11-4fc66cc84f35>:53: DeprecationWarning: The default dtype for empty Series will be 'object' instead of 'float64' in a future version. Specify a dtype explicitly to silence this warning.\n",
      "  teamSeries = pd.Series(index=[\"team\", \"oldPick\", \"newPick\", \"year\", \"overallPick\"])\n",
      "<ipython-input-11-4fc66cc84f35>:53: DeprecationWarning: The default dtype for empty Series will be 'object' instead of 'float64' in a future version. Specify a dtype explicitly to silence this warning.\n",
      "  teamSeries = pd.Series(index=[\"team\", \"oldPick\", \"newPick\", \"year\", \"overallPick\"])\n",
      "<ipython-input-11-4fc66cc84f35>:53: DeprecationWarning: The default dtype for empty Series will be 'object' instead of 'float64' in a future version. Specify a dtype explicitly to silence this warning.\n",
      "  teamSeries = pd.Series(index=[\"team\", \"oldPick\", \"newPick\", \"year\", \"overallPick\"])\n",
      "<ipython-input-11-4fc66cc84f35>:53: DeprecationWarning: The default dtype for empty Series will be 'object' instead of 'float64' in a future version. Specify a dtype explicitly to silence this warning.\n",
      "  teamSeries = pd.Series(index=[\"team\", \"oldPick\", \"newPick\", \"year\", \"overallPick\"])\n"
     ]
    },
    {
     "name": "stdout",
     "output_type": "stream",
     "text": [
      "YEAR: 2012, TEAM: DET\n",
      "YEAR: 2012, TEAM: DEN\n",
      "YEAR: 2012, TEAM: MIA\n",
      "YEAR: 2012, TEAM: CHI\n"
     ]
    },
    {
     "name": "stderr",
     "output_type": "stream",
     "text": [
      "<ipython-input-11-4fc66cc84f35>:53: DeprecationWarning: The default dtype for empty Series will be 'object' instead of 'float64' in a future version. Specify a dtype explicitly to silence this warning.\n",
      "  teamSeries = pd.Series(index=[\"team\", \"oldPick\", \"newPick\", \"year\", \"overallPick\"])\n",
      "<ipython-input-11-4fc66cc84f35>:53: DeprecationWarning: The default dtype for empty Series will be 'object' instead of 'float64' in a future version. Specify a dtype explicitly to silence this warning.\n",
      "  teamSeries = pd.Series(index=[\"team\", \"oldPick\", \"newPick\", \"year\", \"overallPick\"])\n",
      "<ipython-input-11-4fc66cc84f35>:53: DeprecationWarning: The default dtype for empty Series will be 'object' instead of 'float64' in a future version. Specify a dtype explicitly to silence this warning.\n",
      "  teamSeries = pd.Series(index=[\"team\", \"oldPick\", \"newPick\", \"year\", \"overallPick\"])\n",
      "<ipython-input-11-4fc66cc84f35>:53: DeprecationWarning: The default dtype for empty Series will be 'object' instead of 'float64' in a future version. Specify a dtype explicitly to silence this warning.\n",
      "  teamSeries = pd.Series(index=[\"team\", \"oldPick\", \"newPick\", \"year\", \"overallPick\"])\n"
     ]
    },
    {
     "name": "stdout",
     "output_type": "stream",
     "text": [
      "YEAR: 2012, TEAM: MIL\n",
      "YEAR: 2012, TEAM: IND\n",
      "YEAR: 2012, TEAM: ATL\n",
      "YEAR: 2012, TEAM: POR\n"
     ]
    },
    {
     "name": "stderr",
     "output_type": "stream",
     "text": [
      "<ipython-input-11-4fc66cc84f35>:53: DeprecationWarning: The default dtype for empty Series will be 'object' instead of 'float64' in a future version. Specify a dtype explicitly to silence this warning.\n",
      "  teamSeries = pd.Series(index=[\"team\", \"oldPick\", \"newPick\", \"year\", \"overallPick\"])\n",
      "<ipython-input-11-4fc66cc84f35>:53: DeprecationWarning: The default dtype for empty Series will be 'object' instead of 'float64' in a future version. Specify a dtype explicitly to silence this warning.\n",
      "  teamSeries = pd.Series(index=[\"team\", \"oldPick\", \"newPick\", \"year\", \"overallPick\"])\n"
     ]
    },
    {
     "name": "stdout",
     "output_type": "stream",
     "text": [
      "YEAR: 2012, TEAM: BRK\n",
      "YEAR: 2012, TEAM: TOR\n",
      "YEAR: 2012, TEAM: UTA\n"
     ]
    },
    {
     "name": "stderr",
     "output_type": "stream",
     "text": [
      "<ipython-input-11-4fc66cc84f35>:53: DeprecationWarning: The default dtype for empty Series will be 'object' instead of 'float64' in a future version. Specify a dtype explicitly to silence this warning.\n",
      "  teamSeries = pd.Series(index=[\"team\", \"oldPick\", \"newPick\", \"year\", \"overallPick\"])\n",
      "<ipython-input-11-4fc66cc84f35>:53: DeprecationWarning: The default dtype for empty Series will be 'object' instead of 'float64' in a future version. Specify a dtype explicitly to silence this warning.\n",
      "  teamSeries = pd.Series(index=[\"team\", \"oldPick\", \"newPick\", \"year\", \"overallPick\"])\n"
     ]
    },
    {
     "name": "stdout",
     "output_type": "stream",
     "text": [
      "YEAR: 2012, TEAM: SAS\n",
      "YEAR: 2012, TEAM: NOP\n",
      "YEAR: 2012, TEAM: NYK\n"
     ]
    },
    {
     "name": "stderr",
     "output_type": "stream",
     "text": [
      "<ipython-input-11-4fc66cc84f35>:53: DeprecationWarning: The default dtype for empty Series will be 'object' instead of 'float64' in a future version. Specify a dtype explicitly to silence this warning.\n",
      "  teamSeries = pd.Series(index=[\"team\", \"oldPick\", \"newPick\", \"year\", \"overallPick\"])\n",
      "<ipython-input-11-4fc66cc84f35>:53: DeprecationWarning: The default dtype for empty Series will be 'object' instead of 'float64' in a future version. Specify a dtype explicitly to silence this warning.\n",
      "  teamSeries = pd.Series(index=[\"team\", \"oldPick\", \"newPick\", \"year\", \"overallPick\"])\n"
     ]
    },
    {
     "name": "stdout",
     "output_type": "stream",
     "text": [
      "YEAR: 2012, TEAM: HOU\n",
      "YEAR: 2012, TEAM: LAC\n",
      "YEAR: 2012, TEAM: GSW\n",
      "YEAR: 2012, TEAM: OKC\n"
     ]
    },
    {
     "name": "stderr",
     "output_type": "stream",
     "text": [
      "<ipython-input-11-4fc66cc84f35>:53: DeprecationWarning: The default dtype for empty Series will be 'object' instead of 'float64' in a future version. Specify a dtype explicitly to silence this warning.\n",
      "  teamSeries = pd.Series(index=[\"team\", \"oldPick\", \"newPick\", \"year\", \"overallPick\"])\n",
      "<ipython-input-11-4fc66cc84f35>:53: DeprecationWarning: The default dtype for empty Series will be 'object' instead of 'float64' in a future version. Specify a dtype explicitly to silence this warning.\n",
      "  teamSeries = pd.Series(index=[\"team\", \"oldPick\", \"newPick\", \"year\", \"overallPick\"])\n",
      "<ipython-input-11-4fc66cc84f35>:53: DeprecationWarning: The default dtype for empty Series will be 'object' instead of 'float64' in a future version. Specify a dtype explicitly to silence this warning.\n",
      "  teamSeries = pd.Series(index=[\"team\", \"oldPick\", \"newPick\", \"year\", \"overallPick\"])\n"
     ]
    },
    {
     "name": "stdout",
     "output_type": "stream",
     "text": [
      "YEAR: 2012, TEAM: WAS\n",
      "YEAR: 2012, TEAM: CLE\n",
      "YEAR: 2012, TEAM: MEM\n"
     ]
    },
    {
     "name": "stderr",
     "output_type": "stream",
     "text": [
      "<ipython-input-11-4fc66cc84f35>:53: DeprecationWarning: The default dtype for empty Series will be 'object' instead of 'float64' in a future version. Specify a dtype explicitly to silence this warning.\n",
      "  teamSeries = pd.Series(index=[\"team\", \"oldPick\", \"newPick\", \"year\", \"overallPick\"])\n",
      "<ipython-input-11-4fc66cc84f35>:53: DeprecationWarning: The default dtype for empty Series will be 'object' instead of 'float64' in a future version. Specify a dtype explicitly to silence this warning.\n",
      "  teamSeries = pd.Series(index=[\"team\", \"oldPick\", \"newPick\", \"year\", \"overallPick\"])\n",
      "<ipython-input-11-4fc66cc84f35>:23: SettingWithCopyWarning: \n",
      "A value is trying to be set on a copy of a slice from a DataFrame\n",
      "\n",
      "See the caveats in the documentation: https://pandas.pydata.org/pandas-docs/stable/user_guide/indexing.html#returning-a-view-versus-a-copy\n",
      "  yearDraftData.sort_values(by=[\"overallPick\"], inplace=True)\n",
      "<ipython-input-11-4fc66cc84f35>:53: DeprecationWarning: The default dtype for empty Series will be 'object' instead of 'float64' in a future version. Specify a dtype explicitly to silence this warning.\n",
      "  teamSeries = pd.Series(index=[\"team\", \"oldPick\", \"newPick\", \"year\", \"overallPick\"])\n"
     ]
    },
    {
     "name": "stdout",
     "output_type": "stream",
     "text": [
      "YEAR: 2013, TEAM: PHI\n",
      "YEAR: 2013, TEAM: LAL\n",
      "YEAR: 2013, TEAM: BOS\n",
      "YEAR: 2013, TEAM: PHO\n"
     ]
    },
    {
     "name": "stderr",
     "output_type": "stream",
     "text": [
      "<ipython-input-11-4fc66cc84f35>:53: DeprecationWarning: The default dtype for empty Series will be 'object' instead of 'float64' in a future version. Specify a dtype explicitly to silence this warning.\n",
      "  teamSeries = pd.Series(index=[\"team\", \"oldPick\", \"newPick\", \"year\", \"overallPick\"])\n",
      "<ipython-input-11-4fc66cc84f35>:53: DeprecationWarning: The default dtype for empty Series will be 'object' instead of 'float64' in a future version. Specify a dtype explicitly to silence this warning.\n",
      "  teamSeries = pd.Series(index=[\"team\", \"oldPick\", \"newPick\", \"year\", \"overallPick\"])\n",
      "<ipython-input-11-4fc66cc84f35>:53: DeprecationWarning: The default dtype for empty Series will be 'object' instead of 'float64' in a future version. Specify a dtype explicitly to silence this warning.\n",
      "  teamSeries = pd.Series(index=[\"team\", \"oldPick\", \"newPick\", \"year\", \"overallPick\"])\n"
     ]
    },
    {
     "name": "stdout",
     "output_type": "stream",
     "text": [
      "YEAR: 2013, TEAM: SAC\n",
      "YEAR: 2013, TEAM: ORL\n",
      "YEAR: 2013, TEAM: MIN\n",
      "YEAR: 2013, TEAM: DAL\n"
     ]
    },
    {
     "name": "stderr",
     "output_type": "stream",
     "text": [
      "<ipython-input-11-4fc66cc84f35>:53: DeprecationWarning: The default dtype for empty Series will be 'object' instead of 'float64' in a future version. Specify a dtype explicitly to silence this warning.\n",
      "  teamSeries = pd.Series(index=[\"team\", \"oldPick\", \"newPick\", \"year\", \"overallPick\"])\n",
      "<ipython-input-11-4fc66cc84f35>:53: DeprecationWarning: The default dtype for empty Series will be 'object' instead of 'float64' in a future version. Specify a dtype explicitly to silence this warning.\n",
      "  teamSeries = pd.Series(index=[\"team\", \"oldPick\", \"newPick\", \"year\", \"overallPick\"])\n",
      "<ipython-input-11-4fc66cc84f35>:53: DeprecationWarning: The default dtype for empty Series will be 'object' instead of 'float64' in a future version. Specify a dtype explicitly to silence this warning.\n",
      "  teamSeries = pd.Series(index=[\"team\", \"oldPick\", \"newPick\", \"year\", \"overallPick\"])\n",
      "<ipython-input-11-4fc66cc84f35>:53: DeprecationWarning: The default dtype for empty Series will be 'object' instead of 'float64' in a future version. Specify a dtype explicitly to silence this warning.\n",
      "  teamSeries = pd.Series(index=[\"team\", \"oldPick\", \"newPick\", \"year\", \"overallPick\"])\n"
     ]
    },
    {
     "name": "stdout",
     "output_type": "stream",
     "text": [
      "YEAR: 2013, TEAM: CHO\n",
      "YEAR: 2013, TEAM: DET\n",
      "YEAR: 2013, TEAM: DEN\n",
      "YEAR: 2013, TEAM: MIA\n",
      "YEAR: 2013, TEAM: CHI\n"
     ]
    },
    {
     "name": "stderr",
     "output_type": "stream",
     "text": [
      "<ipython-input-11-4fc66cc84f35>:53: DeprecationWarning: The default dtype for empty Series will be 'object' instead of 'float64' in a future version. Specify a dtype explicitly to silence this warning.\n",
      "  teamSeries = pd.Series(index=[\"team\", \"oldPick\", \"newPick\", \"year\", \"overallPick\"])\n",
      "<ipython-input-11-4fc66cc84f35>:53: DeprecationWarning: The default dtype for empty Series will be 'object' instead of 'float64' in a future version. Specify a dtype explicitly to silence this warning.\n",
      "  teamSeries = pd.Series(index=[\"team\", \"oldPick\", \"newPick\", \"year\", \"overallPick\"])\n"
     ]
    },
    {
     "name": "stdout",
     "output_type": "stream",
     "text": [
      "YEAR: 2013, TEAM: MIL\n",
      "YEAR: 2013, TEAM: IND\n",
      "YEAR: 2013, TEAM: ATL\n",
      "YEAR: 2013, TEAM: POR\n"
     ]
    },
    {
     "name": "stderr",
     "output_type": "stream",
     "text": [
      "<ipython-input-11-4fc66cc84f35>:53: DeprecationWarning: The default dtype for empty Series will be 'object' instead of 'float64' in a future version. Specify a dtype explicitly to silence this warning.\n",
      "  teamSeries = pd.Series(index=[\"team\", \"oldPick\", \"newPick\", \"year\", \"overallPick\"])\n",
      "<ipython-input-11-4fc66cc84f35>:53: DeprecationWarning: The default dtype for empty Series will be 'object' instead of 'float64' in a future version. Specify a dtype explicitly to silence this warning.\n",
      "  teamSeries = pd.Series(index=[\"team\", \"oldPick\", \"newPick\", \"year\", \"overallPick\"])\n",
      "<ipython-input-11-4fc66cc84f35>:53: DeprecationWarning: The default dtype for empty Series will be 'object' instead of 'float64' in a future version. Specify a dtype explicitly to silence this warning.\n",
      "  teamSeries = pd.Series(index=[\"team\", \"oldPick\", \"newPick\", \"year\", \"overallPick\"])\n",
      "<ipython-input-11-4fc66cc84f35>:53: DeprecationWarning: The default dtype for empty Series will be 'object' instead of 'float64' in a future version. Specify a dtype explicitly to silence this warning.\n",
      "  teamSeries = pd.Series(index=[\"team\", \"oldPick\", \"newPick\", \"year\", \"overallPick\"])\n"
     ]
    },
    {
     "name": "stdout",
     "output_type": "stream",
     "text": [
      "YEAR: 2013, TEAM: BRK\n",
      "YEAR: 2013, TEAM: TOR\n",
      "YEAR: 2013, TEAM: UTA\n",
      "YEAR: 2013, TEAM: SAS\n"
     ]
    },
    {
     "name": "stderr",
     "output_type": "stream",
     "text": [
      "<ipython-input-11-4fc66cc84f35>:53: DeprecationWarning: The default dtype for empty Series will be 'object' instead of 'float64' in a future version. Specify a dtype explicitly to silence this warning.\n",
      "  teamSeries = pd.Series(index=[\"team\", \"oldPick\", \"newPick\", \"year\", \"overallPick\"])\n",
      "<ipython-input-11-4fc66cc84f35>:53: DeprecationWarning: The default dtype for empty Series will be 'object' instead of 'float64' in a future version. Specify a dtype explicitly to silence this warning.\n",
      "  teamSeries = pd.Series(index=[\"team\", \"oldPick\", \"newPick\", \"year\", \"overallPick\"])\n",
      "<ipython-input-11-4fc66cc84f35>:53: DeprecationWarning: The default dtype for empty Series will be 'object' instead of 'float64' in a future version. Specify a dtype explicitly to silence this warning.\n",
      "  teamSeries = pd.Series(index=[\"team\", \"oldPick\", \"newPick\", \"year\", \"overallPick\"])\n"
     ]
    },
    {
     "name": "stdout",
     "output_type": "stream",
     "text": [
      "YEAR: 2013, TEAM: NOP\n",
      "YEAR: 2013, TEAM: NYK\n",
      "YEAR: 2013, TEAM: HOU\n",
      "YEAR: 2013, TEAM: LAC\n",
      "YEAR: 2013, TEAM: GSW\n"
     ]
    },
    {
     "name": "stderr",
     "output_type": "stream",
     "text": [
      "<ipython-input-11-4fc66cc84f35>:53: DeprecationWarning: The default dtype for empty Series will be 'object' instead of 'float64' in a future version. Specify a dtype explicitly to silence this warning.\n",
      "  teamSeries = pd.Series(index=[\"team\", \"oldPick\", \"newPick\", \"year\", \"overallPick\"])\n",
      "<ipython-input-11-4fc66cc84f35>:53: DeprecationWarning: The default dtype for empty Series will be 'object' instead of 'float64' in a future version. Specify a dtype explicitly to silence this warning.\n",
      "  teamSeries = pd.Series(index=[\"team\", \"oldPick\", \"newPick\", \"year\", \"overallPick\"])\n",
      "<ipython-input-11-4fc66cc84f35>:53: DeprecationWarning: The default dtype for empty Series will be 'object' instead of 'float64' in a future version. Specify a dtype explicitly to silence this warning.\n",
      "  teamSeries = pd.Series(index=[\"team\", \"oldPick\", \"newPick\", \"year\", \"overallPick\"])\n"
     ]
    },
    {
     "name": "stdout",
     "output_type": "stream",
     "text": [
      "YEAR: 2013, TEAM: OKC\n",
      "YEAR: 2013, TEAM: WAS\n",
      "YEAR: 2013, TEAM: CLE\n",
      "YEAR: 2013, TEAM: MEM\n"
     ]
    },
    {
     "name": "stderr",
     "output_type": "stream",
     "text": [
      "<ipython-input-11-4fc66cc84f35>:53: DeprecationWarning: The default dtype for empty Series will be 'object' instead of 'float64' in a future version. Specify a dtype explicitly to silence this warning.\n",
      "  teamSeries = pd.Series(index=[\"team\", \"oldPick\", \"newPick\", \"year\", \"overallPick\"])\n",
      "<ipython-input-11-4fc66cc84f35>:53: DeprecationWarning: The default dtype for empty Series will be 'object' instead of 'float64' in a future version. Specify a dtype explicitly to silence this warning.\n",
      "  teamSeries = pd.Series(index=[\"team\", \"oldPick\", \"newPick\", \"year\", \"overallPick\"])\n",
      "<ipython-input-11-4fc66cc84f35>:53: DeprecationWarning: The default dtype for empty Series will be 'object' instead of 'float64' in a future version. Specify a dtype explicitly to silence this warning.\n",
      "  teamSeries = pd.Series(index=[\"team\", \"oldPick\", \"newPick\", \"year\", \"overallPick\"])\n",
      "<ipython-input-11-4fc66cc84f35>:23: SettingWithCopyWarning: \n",
      "A value is trying to be set on a copy of a slice from a DataFrame\n",
      "\n",
      "See the caveats in the documentation: https://pandas.pydata.org/pandas-docs/stable/user_guide/indexing.html#returning-a-view-versus-a-copy\n",
      "  yearDraftData.sort_values(by=[\"overallPick\"], inplace=True)\n",
      "<ipython-input-11-4fc66cc84f35>:53: DeprecationWarning: The default dtype for empty Series will be 'object' instead of 'float64' in a future version. Specify a dtype explicitly to silence this warning.\n",
      "  teamSeries = pd.Series(index=[\"team\", \"oldPick\", \"newPick\", \"year\", \"overallPick\"])\n"
     ]
    },
    {
     "name": "stdout",
     "output_type": "stream",
     "text": [
      "YEAR: 2014, TEAM: PHI\n",
      "YEAR: 2014, TEAM: LAL\n",
      "YEAR: 2014, TEAM: BOS\n"
     ]
    },
    {
     "name": "stderr",
     "output_type": "stream",
     "text": [
      "<ipython-input-11-4fc66cc84f35>:53: DeprecationWarning: The default dtype for empty Series will be 'object' instead of 'float64' in a future version. Specify a dtype explicitly to silence this warning.\n",
      "  teamSeries = pd.Series(index=[\"team\", \"oldPick\", \"newPick\", \"year\", \"overallPick\"])\n",
      "<ipython-input-11-4fc66cc84f35>:53: DeprecationWarning: The default dtype for empty Series will be 'object' instead of 'float64' in a future version. Specify a dtype explicitly to silence this warning.\n",
      "  teamSeries = pd.Series(index=[\"team\", \"oldPick\", \"newPick\", \"year\", \"overallPick\"])\n",
      "<ipython-input-11-4fc66cc84f35>:53: DeprecationWarning: The default dtype for empty Series will be 'object' instead of 'float64' in a future version. Specify a dtype explicitly to silence this warning.\n",
      "  teamSeries = pd.Series(index=[\"team\", \"oldPick\", \"newPick\", \"year\", \"overallPick\"])\n"
     ]
    },
    {
     "name": "stdout",
     "output_type": "stream",
     "text": [
      "YEAR: 2014, TEAM: PHO\n",
      "YEAR: 2014, TEAM: SAC\n",
      "YEAR: 2014, TEAM: ORL\n",
      "YEAR: 2014, TEAM: MIN\n"
     ]
    },
    {
     "name": "stderr",
     "output_type": "stream",
     "text": [
      "<ipython-input-11-4fc66cc84f35>:53: DeprecationWarning: The default dtype for empty Series will be 'object' instead of 'float64' in a future version. Specify a dtype explicitly to silence this warning.\n",
      "  teamSeries = pd.Series(index=[\"team\", \"oldPick\", \"newPick\", \"year\", \"overallPick\"])\n",
      "<ipython-input-11-4fc66cc84f35>:53: DeprecationWarning: The default dtype for empty Series will be 'object' instead of 'float64' in a future version. Specify a dtype explicitly to silence this warning.\n",
      "  teamSeries = pd.Series(index=[\"team\", \"oldPick\", \"newPick\", \"year\", \"overallPick\"])\n",
      "<ipython-input-11-4fc66cc84f35>:53: DeprecationWarning: The default dtype for empty Series will be 'object' instead of 'float64' in a future version. Specify a dtype explicitly to silence this warning.\n",
      "  teamSeries = pd.Series(index=[\"team\", \"oldPick\", \"newPick\", \"year\", \"overallPick\"])\n"
     ]
    },
    {
     "name": "stdout",
     "output_type": "stream",
     "text": [
      "YEAR: 2014, TEAM: DAL\n",
      "YEAR: 2014, TEAM: CHO\n",
      "YEAR: 2014, TEAM: DET\n",
      "YEAR: 2014, TEAM: DEN\n"
     ]
    },
    {
     "name": "stderr",
     "output_type": "stream",
     "text": [
      "<ipython-input-11-4fc66cc84f35>:53: DeprecationWarning: The default dtype for empty Series will be 'object' instead of 'float64' in a future version. Specify a dtype explicitly to silence this warning.\n",
      "  teamSeries = pd.Series(index=[\"team\", \"oldPick\", \"newPick\", \"year\", \"overallPick\"])\n",
      "<ipython-input-11-4fc66cc84f35>:53: DeprecationWarning: The default dtype for empty Series will be 'object' instead of 'float64' in a future version. Specify a dtype explicitly to silence this warning.\n",
      "  teamSeries = pd.Series(index=[\"team\", \"oldPick\", \"newPick\", \"year\", \"overallPick\"])\n",
      "<ipython-input-11-4fc66cc84f35>:53: DeprecationWarning: The default dtype for empty Series will be 'object' instead of 'float64' in a future version. Specify a dtype explicitly to silence this warning.\n",
      "  teamSeries = pd.Series(index=[\"team\", \"oldPick\", \"newPick\", \"year\", \"overallPick\"])\n",
      "<ipython-input-11-4fc66cc84f35>:53: DeprecationWarning: The default dtype for empty Series will be 'object' instead of 'float64' in a future version. Specify a dtype explicitly to silence this warning.\n",
      "  teamSeries = pd.Series(index=[\"team\", \"oldPick\", \"newPick\", \"year\", \"overallPick\"])\n"
     ]
    },
    {
     "name": "stdout",
     "output_type": "stream",
     "text": [
      "YEAR: 2014, TEAM: MIA\n",
      "YEAR: 2014, TEAM: CHI\n",
      "YEAR: 2014, TEAM: MIL\n"
     ]
    },
    {
     "name": "stderr",
     "output_type": "stream",
     "text": [
      "<ipython-input-11-4fc66cc84f35>:53: DeprecationWarning: The default dtype for empty Series will be 'object' instead of 'float64' in a future version. Specify a dtype explicitly to silence this warning.\n",
      "  teamSeries = pd.Series(index=[\"team\", \"oldPick\", \"newPick\", \"year\", \"overallPick\"])\n",
      "<ipython-input-11-4fc66cc84f35>:53: DeprecationWarning: The default dtype for empty Series will be 'object' instead of 'float64' in a future version. Specify a dtype explicitly to silence this warning.\n",
      "  teamSeries = pd.Series(index=[\"team\", \"oldPick\", \"newPick\", \"year\", \"overallPick\"])\n",
      "<ipython-input-11-4fc66cc84f35>:53: DeprecationWarning: The default dtype for empty Series will be 'object' instead of 'float64' in a future version. Specify a dtype explicitly to silence this warning.\n",
      "  teamSeries = pd.Series(index=[\"team\", \"oldPick\", \"newPick\", \"year\", \"overallPick\"])\n"
     ]
    },
    {
     "name": "stdout",
     "output_type": "stream",
     "text": [
      "YEAR: 2014, TEAM: IND\n",
      "YEAR: 2014, TEAM: ATL\n",
      "YEAR: 2014, TEAM: POR\n",
      "YEAR: 2014, TEAM: BRK\n",
      "YEAR: 2014, TEAM: TOR\n",
      "YEAR: 2014, TEAM: UTA\n",
      "YEAR: 2014, TEAM: SAS\n",
      "YEAR: 2014, TEAM: NOP\n",
      "YEAR: 2014, TEAM: NYK\n",
      "YEAR: 2014, TEAM: HOU\n"
     ]
    },
    {
     "name": "stderr",
     "output_type": "stream",
     "text": [
      "<ipython-input-11-4fc66cc84f35>:53: DeprecationWarning: The default dtype for empty Series will be 'object' instead of 'float64' in a future version. Specify a dtype explicitly to silence this warning.\n",
      "  teamSeries = pd.Series(index=[\"team\", \"oldPick\", \"newPick\", \"year\", \"overallPick\"])\n",
      "<ipython-input-11-4fc66cc84f35>:53: DeprecationWarning: The default dtype for empty Series will be 'object' instead of 'float64' in a future version. Specify a dtype explicitly to silence this warning.\n",
      "  teamSeries = pd.Series(index=[\"team\", \"oldPick\", \"newPick\", \"year\", \"overallPick\"])\n",
      "<ipython-input-11-4fc66cc84f35>:53: DeprecationWarning: The default dtype for empty Series will be 'object' instead of 'float64' in a future version. Specify a dtype explicitly to silence this warning.\n",
      "  teamSeries = pd.Series(index=[\"team\", \"oldPick\", \"newPick\", \"year\", \"overallPick\"])\n"
     ]
    },
    {
     "name": "stdout",
     "output_type": "stream",
     "text": [
      "YEAR: 2014, TEAM: LAC\n",
      "YEAR: 2014, TEAM: GSW\n",
      "YEAR: 2014, TEAM: OKC\n",
      "YEAR: 2014, TEAM: WAS\n",
      "YEAR: 2014, TEAM: CLE\n",
      "YEAR: 2014, TEAM: MEM\n"
     ]
    },
    {
     "name": "stderr",
     "output_type": "stream",
     "text": [
      "<ipython-input-11-4fc66cc84f35>:53: DeprecationWarning: The default dtype for empty Series will be 'object' instead of 'float64' in a future version. Specify a dtype explicitly to silence this warning.\n",
      "  teamSeries = pd.Series(index=[\"team\", \"oldPick\", \"newPick\", \"year\", \"overallPick\"])\n",
      "<ipython-input-11-4fc66cc84f35>:53: DeprecationWarning: The default dtype for empty Series will be 'object' instead of 'float64' in a future version. Specify a dtype explicitly to silence this warning.\n",
      "  teamSeries = pd.Series(index=[\"team\", \"oldPick\", \"newPick\", \"year\", \"overallPick\"])\n",
      "<ipython-input-11-4fc66cc84f35>:53: DeprecationWarning: The default dtype for empty Series will be 'object' instead of 'float64' in a future version. Specify a dtype explicitly to silence this warning.\n",
      "  teamSeries = pd.Series(index=[\"team\", \"oldPick\", \"newPick\", \"year\", \"overallPick\"])\n",
      "<ipython-input-11-4fc66cc84f35>:53: DeprecationWarning: The default dtype for empty Series will be 'object' instead of 'float64' in a future version. Specify a dtype explicitly to silence this warning.\n",
      "  teamSeries = pd.Series(index=[\"team\", \"oldPick\", \"newPick\", \"year\", \"overallPick\"])\n",
      "<ipython-input-11-4fc66cc84f35>:53: DeprecationWarning: The default dtype for empty Series will be 'object' instead of 'float64' in a future version. Specify a dtype explicitly to silence this warning.\n",
      "  teamSeries = pd.Series(index=[\"team\", \"oldPick\", \"newPick\", \"year\", \"overallPick\"])\n",
      "<ipython-input-11-4fc66cc84f35>:23: SettingWithCopyWarning: \n",
      "A value is trying to be set on a copy of a slice from a DataFrame\n",
      "\n",
      "See the caveats in the documentation: https://pandas.pydata.org/pandas-docs/stable/user_guide/indexing.html#returning-a-view-versus-a-copy\n",
      "  yearDraftData.sort_values(by=[\"overallPick\"], inplace=True)\n",
      "<ipython-input-11-4fc66cc84f35>:53: DeprecationWarning: The default dtype for empty Series will be 'object' instead of 'float64' in a future version. Specify a dtype explicitly to silence this warning.\n",
      "  teamSeries = pd.Series(index=[\"team\", \"oldPick\", \"newPick\", \"year\", \"overallPick\"])\n",
      "<ipython-input-11-4fc66cc84f35>:53: DeprecationWarning: The default dtype for empty Series will be 'object' instead of 'float64' in a future version. Specify a dtype explicitly to silence this warning.\n",
      "  teamSeries = pd.Series(index=[\"team\", \"oldPick\", \"newPick\", \"year\", \"overallPick\"])\n",
      "<ipython-input-11-4fc66cc84f35>:53: DeprecationWarning: The default dtype for empty Series will be 'object' instead of 'float64' in a future version. Specify a dtype explicitly to silence this warning.\n",
      "  teamSeries = pd.Series(index=[\"team\", \"oldPick\", \"newPick\", \"year\", \"overallPick\"])\n"
     ]
    },
    {
     "name": "stdout",
     "output_type": "stream",
     "text": [
      "YEAR: 2015, TEAM: PHI\n",
      "YEAR: 2015, TEAM: LAL\n",
      "YEAR: 2015, TEAM: BOS\n",
      "YEAR: 2015, TEAM: PHO\n"
     ]
    },
    {
     "name": "stderr",
     "output_type": "stream",
     "text": [
      "<ipython-input-11-4fc66cc84f35>:53: DeprecationWarning: The default dtype for empty Series will be 'object' instead of 'float64' in a future version. Specify a dtype explicitly to silence this warning.\n",
      "  teamSeries = pd.Series(index=[\"team\", \"oldPick\", \"newPick\", \"year\", \"overallPick\"])\n",
      "<ipython-input-11-4fc66cc84f35>:53: DeprecationWarning: The default dtype for empty Series will be 'object' instead of 'float64' in a future version. Specify a dtype explicitly to silence this warning.\n",
      "  teamSeries = pd.Series(index=[\"team\", \"oldPick\", \"newPick\", \"year\", \"overallPick\"])\n",
      "<ipython-input-11-4fc66cc84f35>:53: DeprecationWarning: The default dtype for empty Series will be 'object' instead of 'float64' in a future version. Specify a dtype explicitly to silence this warning.\n",
      "  teamSeries = pd.Series(index=[\"team\", \"oldPick\", \"newPick\", \"year\", \"overallPick\"])\n"
     ]
    },
    {
     "name": "stdout",
     "output_type": "stream",
     "text": [
      "YEAR: 2015, TEAM: SAC\n",
      "YEAR: 2015, TEAM: ORL\n",
      "YEAR: 2015, TEAM: MIN\n",
      "YEAR: 2015, TEAM: DAL\n"
     ]
    },
    {
     "name": "stderr",
     "output_type": "stream",
     "text": [
      "<ipython-input-11-4fc66cc84f35>:53: DeprecationWarning: The default dtype for empty Series will be 'object' instead of 'float64' in a future version. Specify a dtype explicitly to silence this warning.\n",
      "  teamSeries = pd.Series(index=[\"team\", \"oldPick\", \"newPick\", \"year\", \"overallPick\"])\n",
      "<ipython-input-11-4fc66cc84f35>:53: DeprecationWarning: The default dtype for empty Series will be 'object' instead of 'float64' in a future version. Specify a dtype explicitly to silence this warning.\n",
      "  teamSeries = pd.Series(index=[\"team\", \"oldPick\", \"newPick\", \"year\", \"overallPick\"])\n",
      "<ipython-input-11-4fc66cc84f35>:53: DeprecationWarning: The default dtype for empty Series will be 'object' instead of 'float64' in a future version. Specify a dtype explicitly to silence this warning.\n",
      "  teamSeries = pd.Series(index=[\"team\", \"oldPick\", \"newPick\", \"year\", \"overallPick\"])\n",
      "<ipython-input-11-4fc66cc84f35>:53: DeprecationWarning: The default dtype for empty Series will be 'object' instead of 'float64' in a future version. Specify a dtype explicitly to silence this warning.\n",
      "  teamSeries = pd.Series(index=[\"team\", \"oldPick\", \"newPick\", \"year\", \"overallPick\"])\n",
      "<ipython-input-11-4fc66cc84f35>:53: DeprecationWarning: The default dtype for empty Series will be 'object' instead of 'float64' in a future version. Specify a dtype explicitly to silence this warning.\n",
      "  teamSeries = pd.Series(index=[\"team\", \"oldPick\", \"newPick\", \"year\", \"overallPick\"])\n",
      "<ipython-input-11-4fc66cc84f35>:53: DeprecationWarning: The default dtype for empty Series will be 'object' instead of 'float64' in a future version. Specify a dtype explicitly to silence this warning.\n",
      "  teamSeries = pd.Series(index=[\"team\", \"oldPick\", \"newPick\", \"year\", \"overallPick\"])\n"
     ]
    },
    {
     "name": "stdout",
     "output_type": "stream",
     "text": [
      "YEAR: 2015, TEAM: CHO\n",
      "YEAR: 2015, TEAM: DET\n",
      "YEAR: 2015, TEAM: DEN\n",
      "YEAR: 2015, TEAM: MIA\n",
      "YEAR: 2015, TEAM: CHI\n",
      "YEAR: 2015, TEAM: MIL\n"
     ]
    },
    {
     "name": "stderr",
     "output_type": "stream",
     "text": [
      "<ipython-input-11-4fc66cc84f35>:53: DeprecationWarning: The default dtype for empty Series will be 'object' instead of 'float64' in a future version. Specify a dtype explicitly to silence this warning.\n",
      "  teamSeries = pd.Series(index=[\"team\", \"oldPick\", \"newPick\", \"year\", \"overallPick\"])\n",
      "<ipython-input-11-4fc66cc84f35>:53: DeprecationWarning: The default dtype for empty Series will be 'object' instead of 'float64' in a future version. Specify a dtype explicitly to silence this warning.\n",
      "  teamSeries = pd.Series(index=[\"team\", \"oldPick\", \"newPick\", \"year\", \"overallPick\"])\n",
      "<ipython-input-11-4fc66cc84f35>:53: DeprecationWarning: The default dtype for empty Series will be 'object' instead of 'float64' in a future version. Specify a dtype explicitly to silence this warning.\n",
      "  teamSeries = pd.Series(index=[\"team\", \"oldPick\", \"newPick\", \"year\", \"overallPick\"])\n",
      "<ipython-input-11-4fc66cc84f35>:53: DeprecationWarning: The default dtype for empty Series will be 'object' instead of 'float64' in a future version. Specify a dtype explicitly to silence this warning.\n",
      "  teamSeries = pd.Series(index=[\"team\", \"oldPick\", \"newPick\", \"year\", \"overallPick\"])\n"
     ]
    },
    {
     "name": "stdout",
     "output_type": "stream",
     "text": [
      "YEAR: 2015, TEAM: IND\n",
      "YEAR: 2015, TEAM: ATL\n",
      "YEAR: 2015, TEAM: POR\n",
      "YEAR: 2015, TEAM: BRK\n",
      "YEAR: 2015, TEAM: TOR\n",
      "YEAR: 2015, TEAM: UTA\n"
     ]
    },
    {
     "name": "stderr",
     "output_type": "stream",
     "text": [
      "<ipython-input-11-4fc66cc84f35>:53: DeprecationWarning: The default dtype for empty Series will be 'object' instead of 'float64' in a future version. Specify a dtype explicitly to silence this warning.\n",
      "  teamSeries = pd.Series(index=[\"team\", \"oldPick\", \"newPick\", \"year\", \"overallPick\"])\n",
      "<ipython-input-11-4fc66cc84f35>:53: DeprecationWarning: The default dtype for empty Series will be 'object' instead of 'float64' in a future version. Specify a dtype explicitly to silence this warning.\n",
      "  teamSeries = pd.Series(index=[\"team\", \"oldPick\", \"newPick\", \"year\", \"overallPick\"])\n",
      "<ipython-input-11-4fc66cc84f35>:53: DeprecationWarning: The default dtype for empty Series will be 'object' instead of 'float64' in a future version. Specify a dtype explicitly to silence this warning.\n",
      "  teamSeries = pd.Series(index=[\"team\", \"oldPick\", \"newPick\", \"year\", \"overallPick\"])\n"
     ]
    },
    {
     "name": "stdout",
     "output_type": "stream",
     "text": [
      "YEAR: 2015, TEAM: SAS\n",
      "YEAR: 2015, TEAM: NOP\n",
      "YEAR: 2015, TEAM: NYK\n",
      "YEAR: 2015, TEAM: HOU\n"
     ]
    },
    {
     "name": "stderr",
     "output_type": "stream",
     "text": [
      "<ipython-input-11-4fc66cc84f35>:53: DeprecationWarning: The default dtype for empty Series will be 'object' instead of 'float64' in a future version. Specify a dtype explicitly to silence this warning.\n",
      "  teamSeries = pd.Series(index=[\"team\", \"oldPick\", \"newPick\", \"year\", \"overallPick\"])\n",
      "<ipython-input-11-4fc66cc84f35>:53: DeprecationWarning: The default dtype for empty Series will be 'object' instead of 'float64' in a future version. Specify a dtype explicitly to silence this warning.\n",
      "  teamSeries = pd.Series(index=[\"team\", \"oldPick\", \"newPick\", \"year\", \"overallPick\"])\n",
      "<ipython-input-11-4fc66cc84f35>:53: DeprecationWarning: The default dtype for empty Series will be 'object' instead of 'float64' in a future version. Specify a dtype explicitly to silence this warning.\n",
      "  teamSeries = pd.Series(index=[\"team\", \"oldPick\", \"newPick\", \"year\", \"overallPick\"])\n"
     ]
    },
    {
     "name": "stdout",
     "output_type": "stream",
     "text": [
      "YEAR: 2015, TEAM: LAC\n",
      "YEAR: 2015, TEAM: GSW\n",
      "YEAR: 2015, TEAM: OKC\n",
      "YEAR: 2015, TEAM: WAS\n",
      "YEAR: 2015, TEAM: CLE\n"
     ]
    },
    {
     "name": "stderr",
     "output_type": "stream",
     "text": [
      "<ipython-input-11-4fc66cc84f35>:53: DeprecationWarning: The default dtype for empty Series will be 'object' instead of 'float64' in a future version. Specify a dtype explicitly to silence this warning.\n",
      "  teamSeries = pd.Series(index=[\"team\", \"oldPick\", \"newPick\", \"year\", \"overallPick\"])\n",
      "<ipython-input-11-4fc66cc84f35>:53: DeprecationWarning: The default dtype for empty Series will be 'object' instead of 'float64' in a future version. Specify a dtype explicitly to silence this warning.\n",
      "  teamSeries = pd.Series(index=[\"team\", \"oldPick\", \"newPick\", \"year\", \"overallPick\"])\n",
      "<ipython-input-11-4fc66cc84f35>:53: DeprecationWarning: The default dtype for empty Series will be 'object' instead of 'float64' in a future version. Specify a dtype explicitly to silence this warning.\n",
      "  teamSeries = pd.Series(index=[\"team\", \"oldPick\", \"newPick\", \"year\", \"overallPick\"])\n",
      "<ipython-input-11-4fc66cc84f35>:23: SettingWithCopyWarning: \n",
      "A value is trying to be set on a copy of a slice from a DataFrame\n",
      "\n",
      "See the caveats in the documentation: https://pandas.pydata.org/pandas-docs/stable/user_guide/indexing.html#returning-a-view-versus-a-copy\n",
      "  yearDraftData.sort_values(by=[\"overallPick\"], inplace=True)\n",
      "<ipython-input-11-4fc66cc84f35>:53: DeprecationWarning: The default dtype for empty Series will be 'object' instead of 'float64' in a future version. Specify a dtype explicitly to silence this warning.\n",
      "  teamSeries = pd.Series(index=[\"team\", \"oldPick\", \"newPick\", \"year\", \"overallPick\"])\n",
      "<ipython-input-11-4fc66cc84f35>:53: DeprecationWarning: The default dtype for empty Series will be 'object' instead of 'float64' in a future version. Specify a dtype explicitly to silence this warning.\n",
      "  teamSeries = pd.Series(index=[\"team\", \"oldPick\", \"newPick\", \"year\", \"overallPick\"])\n"
     ]
    },
    {
     "name": "stdout",
     "output_type": "stream",
     "text": [
      "YEAR: 2015, TEAM: MEM\n",
      "YEAR: 2016, TEAM: PHI\n",
      "YEAR: 2016, TEAM: LAL\n",
      "YEAR: 2016, TEAM: BOS\n",
      "YEAR: 2016, TEAM: PHO\n"
     ]
    },
    {
     "name": "stderr",
     "output_type": "stream",
     "text": [
      "<ipython-input-11-4fc66cc84f35>:53: DeprecationWarning: The default dtype for empty Series will be 'object' instead of 'float64' in a future version. Specify a dtype explicitly to silence this warning.\n",
      "  teamSeries = pd.Series(index=[\"team\", \"oldPick\", \"newPick\", \"year\", \"overallPick\"])\n",
      "<ipython-input-11-4fc66cc84f35>:53: DeprecationWarning: The default dtype for empty Series will be 'object' instead of 'float64' in a future version. Specify a dtype explicitly to silence this warning.\n",
      "  teamSeries = pd.Series(index=[\"team\", \"oldPick\", \"newPick\", \"year\", \"overallPick\"])\n",
      "<ipython-input-11-4fc66cc84f35>:53: DeprecationWarning: The default dtype for empty Series will be 'object' instead of 'float64' in a future version. Specify a dtype explicitly to silence this warning.\n",
      "  teamSeries = pd.Series(index=[\"team\", \"oldPick\", \"newPick\", \"year\", \"overallPick\"])\n",
      "<ipython-input-11-4fc66cc84f35>:53: DeprecationWarning: The default dtype for empty Series will be 'object' instead of 'float64' in a future version. Specify a dtype explicitly to silence this warning.\n",
      "  teamSeries = pd.Series(index=[\"team\", \"oldPick\", \"newPick\", \"year\", \"overallPick\"])\n"
     ]
    },
    {
     "name": "stdout",
     "output_type": "stream",
     "text": [
      "YEAR: 2016, TEAM: SAC\n",
      "YEAR: 2016, TEAM: ORL\n",
      "YEAR: 2016, TEAM: MIN\n",
      "YEAR: 2016, TEAM: DAL\n"
     ]
    },
    {
     "name": "stderr",
     "output_type": "stream",
     "text": [
      "<ipython-input-11-4fc66cc84f35>:53: DeprecationWarning: The default dtype for empty Series will be 'object' instead of 'float64' in a future version. Specify a dtype explicitly to silence this warning.\n",
      "  teamSeries = pd.Series(index=[\"team\", \"oldPick\", \"newPick\", \"year\", \"overallPick\"])\n",
      "<ipython-input-11-4fc66cc84f35>:53: DeprecationWarning: The default dtype for empty Series will be 'object' instead of 'float64' in a future version. Specify a dtype explicitly to silence this warning.\n",
      "  teamSeries = pd.Series(index=[\"team\", \"oldPick\", \"newPick\", \"year\", \"overallPick\"])\n",
      "<ipython-input-11-4fc66cc84f35>:53: DeprecationWarning: The default dtype for empty Series will be 'object' instead of 'float64' in a future version. Specify a dtype explicitly to silence this warning.\n",
      "  teamSeries = pd.Series(index=[\"team\", \"oldPick\", \"newPick\", \"year\", \"overallPick\"])\n",
      "<ipython-input-11-4fc66cc84f35>:53: DeprecationWarning: The default dtype for empty Series will be 'object' instead of 'float64' in a future version. Specify a dtype explicitly to silence this warning.\n",
      "  teamSeries = pd.Series(index=[\"team\", \"oldPick\", \"newPick\", \"year\", \"overallPick\"])\n"
     ]
    },
    {
     "name": "stdout",
     "output_type": "stream",
     "text": [
      "YEAR: 2016, TEAM: CHO\n",
      "YEAR: 2016, TEAM: DET\n",
      "YEAR: 2016, TEAM: DEN\n",
      "YEAR: 2016, TEAM: MIA\n",
      "YEAR: 2016, TEAM: CHI\n"
     ]
    },
    {
     "name": "stderr",
     "output_type": "stream",
     "text": [
      "<ipython-input-11-4fc66cc84f35>:53: DeprecationWarning: The default dtype for empty Series will be 'object' instead of 'float64' in a future version. Specify a dtype explicitly to silence this warning.\n",
      "  teamSeries = pd.Series(index=[\"team\", \"oldPick\", \"newPick\", \"year\", \"overallPick\"])\n",
      "<ipython-input-11-4fc66cc84f35>:53: DeprecationWarning: The default dtype for empty Series will be 'object' instead of 'float64' in a future version. Specify a dtype explicitly to silence this warning.\n",
      "  teamSeries = pd.Series(index=[\"team\", \"oldPick\", \"newPick\", \"year\", \"overallPick\"])\n",
      "<ipython-input-11-4fc66cc84f35>:53: DeprecationWarning: The default dtype for empty Series will be 'object' instead of 'float64' in a future version. Specify a dtype explicitly to silence this warning.\n",
      "  teamSeries = pd.Series(index=[\"team\", \"oldPick\", \"newPick\", \"year\", \"overallPick\"])\n"
     ]
    },
    {
     "name": "stdout",
     "output_type": "stream",
     "text": [
      "YEAR: 2016, TEAM: MIL\n",
      "YEAR: 2016, TEAM: IND\n",
      "YEAR: 2016, TEAM: ATL\n",
      "YEAR: 2016, TEAM: POR\n",
      "YEAR: 2016, TEAM: BRK\n"
     ]
    },
    {
     "name": "stderr",
     "output_type": "stream",
     "text": [
      "<ipython-input-11-4fc66cc84f35>:53: DeprecationWarning: The default dtype for empty Series will be 'object' instead of 'float64' in a future version. Specify a dtype explicitly to silence this warning.\n",
      "  teamSeries = pd.Series(index=[\"team\", \"oldPick\", \"newPick\", \"year\", \"overallPick\"])\n",
      "<ipython-input-11-4fc66cc84f35>:53: DeprecationWarning: The default dtype for empty Series will be 'object' instead of 'float64' in a future version. Specify a dtype explicitly to silence this warning.\n",
      "  teamSeries = pd.Series(index=[\"team\", \"oldPick\", \"newPick\", \"year\", \"overallPick\"])\n",
      "<ipython-input-11-4fc66cc84f35>:53: DeprecationWarning: The default dtype for empty Series will be 'object' instead of 'float64' in a future version. Specify a dtype explicitly to silence this warning.\n",
      "  teamSeries = pd.Series(index=[\"team\", \"oldPick\", \"newPick\", \"year\", \"overallPick\"])\n"
     ]
    },
    {
     "name": "stdout",
     "output_type": "stream",
     "text": [
      "YEAR: 2016, TEAM: TOR\n",
      "YEAR: 2016, TEAM: UTA\n",
      "YEAR: 2016, TEAM: SAS\n",
      "YEAR: 2016, TEAM: NOP\n"
     ]
    },
    {
     "name": "stderr",
     "output_type": "stream",
     "text": [
      "<ipython-input-11-4fc66cc84f35>:53: DeprecationWarning: The default dtype for empty Series will be 'object' instead of 'float64' in a future version. Specify a dtype explicitly to silence this warning.\n",
      "  teamSeries = pd.Series(index=[\"team\", \"oldPick\", \"newPick\", \"year\", \"overallPick\"])\n",
      "<ipython-input-11-4fc66cc84f35>:53: DeprecationWarning: The default dtype for empty Series will be 'object' instead of 'float64' in a future version. Specify a dtype explicitly to silence this warning.\n",
      "  teamSeries = pd.Series(index=[\"team\", \"oldPick\", \"newPick\", \"year\", \"overallPick\"])\n",
      "<ipython-input-11-4fc66cc84f35>:53: DeprecationWarning: The default dtype for empty Series will be 'object' instead of 'float64' in a future version. Specify a dtype explicitly to silence this warning.\n",
      "  teamSeries = pd.Series(index=[\"team\", \"oldPick\", \"newPick\", \"year\", \"overallPick\"])\n",
      "<ipython-input-11-4fc66cc84f35>:53: DeprecationWarning: The default dtype for empty Series will be 'object' instead of 'float64' in a future version. Specify a dtype explicitly to silence this warning.\n",
      "  teamSeries = pd.Series(index=[\"team\", \"oldPick\", \"newPick\", \"year\", \"overallPick\"])\n"
     ]
    },
    {
     "name": "stdout",
     "output_type": "stream",
     "text": [
      "YEAR: 2016, TEAM: NYK\n",
      "YEAR: 2016, TEAM: HOU\n",
      "YEAR: 2016, TEAM: LAC\n",
      "YEAR: 2016, TEAM: GSW\n"
     ]
    },
    {
     "name": "stderr",
     "output_type": "stream",
     "text": [
      "<ipython-input-11-4fc66cc84f35>:53: DeprecationWarning: The default dtype for empty Series will be 'object' instead of 'float64' in a future version. Specify a dtype explicitly to silence this warning.\n",
      "  teamSeries = pd.Series(index=[\"team\", \"oldPick\", \"newPick\", \"year\", \"overallPick\"])\n",
      "<ipython-input-11-4fc66cc84f35>:53: DeprecationWarning: The default dtype for empty Series will be 'object' instead of 'float64' in a future version. Specify a dtype explicitly to silence this warning.\n",
      "  teamSeries = pd.Series(index=[\"team\", \"oldPick\", \"newPick\", \"year\", \"overallPick\"])\n",
      "<ipython-input-11-4fc66cc84f35>:53: DeprecationWarning: The default dtype for empty Series will be 'object' instead of 'float64' in a future version. Specify a dtype explicitly to silence this warning.\n",
      "  teamSeries = pd.Series(index=[\"team\", \"oldPick\", \"newPick\", \"year\", \"overallPick\"])\n"
     ]
    },
    {
     "name": "stdout",
     "output_type": "stream",
     "text": [
      "YEAR: 2016, TEAM: OKC\n",
      "YEAR: 2016, TEAM: WAS\n",
      "YEAR: 2016, TEAM: CLE\n",
      "YEAR: 2016, TEAM: MEM\n"
     ]
    }
   ],
   "source": [
    "# Define a function to grab the next best pick for a team\n",
    "def getHighestPred(data, team):\n",
    "    playerNames = data['Player']\n",
    "    bestName, bestProj = None, -100\n",
    "    for name in playerNames:\n",
    "        playerProjs = teamFeatures[name]\n",
    "        proj = playerProjs[playerProjs[\"Team\"]==team][\"WM_pred\"].values[0]\n",
    "        \n",
    "        if proj > bestProj:\n",
    "            bestName = name\n",
    "    \n",
    "    return bestName\n",
    "PICKCOUNT = 0\n",
    "# Create a mock draft to evaluate how many wins are gained\n",
    "scaledDraft.rename(columns={\"Pk\":\"overallPick\"}, inplace=True)\n",
    "simData = pd.DataFrame(columns=[\"team\", \"oldPick\", \"newPick\", \"year\"])\n",
    "ALL_TEAMS = scaledDraft[\"Tm\"].unique()\n",
    "for year in np.unique(scaledDraft[\"Year\"]):\n",
    "    if year > 2016:\n",
    "        continue\n",
    "    yearDraftData = scaledDraft[scaledDraft[\"Year\"]==year]\n",
    "    yearNBAData = scaledNBA[scaledNBA[\"Year\"]==year]\n",
    "    yearDraftData.sort_values(by=[\"overallPick\"], inplace=True)\n",
    "    picks, teams = yearDraftData[\"overallPick\"].to_numpy(), yearDraftData[\"Tm\"].to_numpy()\n",
    "    picks, teams = picks[~pd.isnull(picks)], teams[~pd.isnull(picks)]\n",
    "    \n",
    "    for myTeam in ALL_TEAMS:\n",
    "        print(\"YEAR: {}, TEAM: {}\".format(year, myTeam))\n",
    "        oldPicks = yearDraftData.loc[yearDraftData[\"Tm\"]==myTeam][\"Player\"].to_numpy() # These are players\n",
    "        myPicks = yearDraftData.loc[yearDraftData[\"Tm\"]==myTeam]['overallPick'].to_numpy() # These are numbers\n",
    "        alreadyPicked = []\n",
    "        myActualPicks = []\n",
    "        \n",
    "        # Figure out what the new picks will be\n",
    "        for pick in picks:\n",
    "            avalPicks = yearDraftData[~yearDraftData.Player.isin(alreadyPicked)]\n",
    "            if pick in myPicks:\n",
    "                # Choose highest remaining target value\n",
    "                # myPick = getHighestPred(avalPicks, myTeam)\n",
    "                myPick = avalPicks.loc[avalPicks[\"WM_pred\"]==max(avalPicks[\"WM_pred\"])][\"Player\"].iloc[0]\n",
    "                PICKCOUNT += 1\n",
    "                alreadyPicked.append(myPick)\n",
    "                myActualPicks.append(myPick)\n",
    "            else:\n",
    "                minPick = min(avalPicks['overallPick'])\n",
    "                theirPick = avalPicks.loc[avalPicks['overallPick']==minPick][\"Player\"].iloc[0]\n",
    "                alreadyPicked.append(theirPick)\n",
    "                \n",
    "        if len(np.unique(myActualPicks))!=len(myActualPicks):\n",
    "            print(\"ERROR\")\n",
    "            \n",
    "        for i in range(len(myPicks)):\n",
    "            teamSeries = pd.Series(index=[\"team\", \"oldPick\", \"newPick\", \"year\", \"overallPick\"])\n",
    "            teamSeries[\"year\"] = year\n",
    "            teamSeries[\"team\"] = myTeam\n",
    "            teamSeries[\"oldPick\"] = oldPicks[i]\n",
    "            teamSeries[\"newPick\"] = myActualPicks[i]\n",
    "            teamSeries['overallPick'] = myPicks[i]\n",
    "            \n",
    "            simData = simData.append(teamSeries, ignore_index=True)\n",
    "            "
   ]
  },
  {
   "cell_type": "code",
   "execution_count": null,
   "metadata": {},
   "outputs": [],
   "source": [
    "print(PICKCOUNT)"
   ]
  },
  {
   "cell_type": "code",
   "execution_count": 12,
   "metadata": {},
   "outputs": [
    {
     "name": "stderr",
     "output_type": "stream",
     "text": [
      "<ipython-input-12-301c5e4a8ae7>:17: DeprecationWarning: The default dtype for empty Series will be 'object' instead of 'float64' in a future version. Specify a dtype explicitly to silence this warning.\n",
      "  resultSeries = pd.Series(index=resultCols)\n"
     ]
    }
   ],
   "source": [
    "# Calculate the average added wins !!!!!!!\n",
    "resultCols = [\"team\", \"oldWins\", \"newWins\", \"addedWins\", \"numPicks\"]\n",
    "resultsData = pd.DataFrame(columns=resultCols)\n",
    "for team in np.unique(simData[\"team\"]):\n",
    "    teamData = simData[simData[\"team\"]==team]\n",
    "    oldWins, newWins = [], []\n",
    "    for i in range(len(teamData)):\n",
    "        oldPlayer = teamData[\"oldPick\"].iloc[i]\n",
    "        newPlayer = teamData[\"newPick\"].iloc[i]\n",
    "        oW = scaledDraft[scaledDraft[\"Player\"]==oldPlayer][\"WM\"].iloc[0]\n",
    "        nW = scaledDraft[scaledDraft[\"Player\"]==newPlayer][\"WM\"].iloc[0]\n",
    "        if pd.isnull(oW) or pd.isnull(nW):\n",
    "            continue\n",
    "        oldWins.append(oW)\n",
    "        newWins.append(nW)\n",
    "\n",
    "    resultSeries = pd.Series(index=resultCols)\n",
    "    resultSeries[\"team\"] = team\n",
    "    resultSeries[\"oldWins\"] = np.mean(oldWins)\n",
    "    resultSeries[\"newWins\"] = np.mean(newWins)\n",
    "    resultSeries[\"addedWins\"] = np.mean([newWins[i] - oldWins[i] for i in range(len(newWins))])\n",
    "    resultSeries[\"numPicks\"] = len(teamData)\n",
    "    resultsData = resultsData.append(resultSeries, ignore_index=True)"
   ]
  },
  {
   "cell_type": "code",
   "execution_count": 13,
   "metadata": {},
   "outputs": [
    {
     "data": {
      "image/png": "[encoded data removed]",
      "text/plain": [
       "<Figure size 1000x800 with 1 Axes>"
      ]
     },
     "metadata": {
      "needs_background": "light"
     },
     "output_type": "display_data"
    }
   ],
   "source": [
    "# Create a plot from this!\n",
    "plt.figure(figsize=(10,8), dpi=100)\n",
    "labels = resultsData.team.to_numpy()\n",
    "heights = resultsData.addedWins.to_numpy()\n",
    "avgHeight = np.mean(heights)\n",
    "stdHeight = np.std(heights)\n",
    "\n",
    "x = range(len(labels))\n",
    "plt.bar(x, heights)\n",
    "plt.plot([min(x), max(x)], [avgHeight, avgHeight], \"--r\", linewidth=3, \n",
    "         label=\"Average ({:.2f} +/- {:.2f})\".format(avgHeight, stdHeight))\n",
    "plt.legend()\n",
    "\n",
    "plt.ylabel(\"Added Wins Made\")\n",
    "plt.xticks(x, labels, rotation=85)\n",
    "plt.show()"
   ]
  },
  {
   "cell_type": "code",
   "execution_count": 14,
   "metadata": {},
   "outputs": [],
   "source": [
    "# plot the average value\n",
    "oldWMs = []\n",
    "newWMs = []\n",
    "for i in range(len(simData)):\n",
    "    oldPlayer = simData[\"oldPick\"].iloc[i]\n",
    "    newPlayer = simData[\"newPick\"].iloc[i]\n",
    "    \n",
    "    oldWM = scaledDraft[scaledDraft[\"Player\"]==oldPlayer].iloc[0][\"WM\"]\n",
    "    newWM = scaledDraft[scaledDraft[\"Player\"]==newPlayer].iloc[0][\"WM\"]\n",
    "    \n",
    "    if pd.isnull(oldWM) or pd.isnull(newWM):\n",
    "        continue\n",
    "    \n",
    "    oldWMs.append(oldWM)\n",
    "    newWMs.append(newWM)"
   ]
  },
  {
   "cell_type": "code",
   "execution_count": 15,
   "metadata": {},
   "outputs": [
    {
     "data": {
      "image/png": "[encoded data removed]",
      "text/plain": [
       "<Figure size 500x400 with 1 Axes>"
      ]
     },
     "metadata": {
      "needs_background": "light"
     },
     "output_type": "display_data"
    },
    {
     "name": "stdout",
     "output_type": "stream",
     "text": [
      "Old Average: 1.1599762035511623 New Average: 1.4572853743364451\n"
     ]
    }
   ],
   "source": [
    "plt.figure(figsize=(5,4), dpi=100)\n",
    "width = 0.15       # the width of the bars\n",
    "r1 = width/2.\n",
    "r2 = -width/2.\n",
    "\n",
    "plt.bar(r2, [np.mean(oldWMs)], width=width, label=\"Old Pick Wins Made\")\n",
    "plt.bar(r1, [np.mean(newWMs)], width=width, label=\"New Pick Wins Made\")\n",
    "\n",
    "plt.ylabel(\"Wins Made\")\n",
    "\n",
    "plt.legend(loc=\"lower right\")\n",
    "plt.show()\n",
    "print(\"Old Average:\", np.mean(oldWMs), \"New Average:\", np.mean(newWMs))"
   ]
  },
  {
   "cell_type": "code",
   "execution_count": null,
   "metadata": {},
   "outputs": [],
   "source": []
  }
 ],
 "metadata": {
  "kernelspec": {
   "display_name": "Python 3",
   "language": "python",
   "name": "python3"
  },
  "language_info": {
   "codemirror_mode": {
    "name": "ipython",
    "version": 3
   },
   "file_extension": ".py",
   "mimetype": "text/x-python",
   "name": "python",
   "nbconvert_exporter": "python",
   "pygments_lexer": "ipython3",
   "version": "3.8.6"
  }
 },
 "nbformat": 4,
 "nbformat_minor": 2
}
